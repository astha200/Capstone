{
 "cells": [
  {
   "cell_type": "markdown",
   "metadata": {},
   "source": [
    "# Malaria Detection"
   ]
  },
  {
   "cell_type": "markdown",
   "metadata": {},
   "source": [
    "## Import"
   ]
  },
  {
   "cell_type": "code",
   "execution_count": 1,
   "metadata": {},
   "outputs": [],
   "source": [
    "import os\n",
    "import cv2\n",
    "import copy\n",
    "import csv\n",
    "import random\n",
    "import pickle\n",
    "import numpy as np\n",
    "import pandas as pd\n",
    "import itertools\n",
    "from scipy.stats import randint\n",
    "from itertools import cycle\n",
    "import matplotlib.pyplot as plt\n",
    "from matplotlib.pyplot import figure"
   ]
  },
  {
   "cell_type": "code",
   "execution_count": 2,
   "metadata": {},
   "outputs": [],
   "source": [
    "from sklearn import preprocessing\n",
    "from sklearn.manifold import TSNE\n",
    "from sklearn.decomposition import TruncatedSVD\n",
    "from sklearn import metrics\n",
    "from sklearn.model_selection import train_test_split\n",
    "from sklearn import preprocessing\n",
    "from scipy.sparse import csr_matrix\n",
    "from scipy import stats\n",
    "from my_ml_lib import DataManipulationTools, MetricTools, PlotTools\n",
    "from sklearn.model_selection import GridSearchCV\n",
    "from sklearn.model_selection import RandomizedSearchCV"
   ]
  },
  {
   "cell_type": "code",
   "execution_count": 3,
   "metadata": {},
   "outputs": [
    {
     "name": "stdout",
     "output_type": "stream",
     "text": [
      "Requirement already satisfied: xgboost in c:\\users\\toorr\\appdata\\local\\programs\\python\\python37\\lib\\site-packages (1.2.0)Note: you may need to restart the kernel to use updated packages.\n",
      "Requirement already satisfied: scipy in c:\\users\\toorr\\appdata\\local\\programs\\python\\python37\\lib\\site-packages (from xgboost) (1.4.1)\n",
      "Requirement already satisfied: numpy in c:\\users\\toorr\\appdata\\local\\programs\\python\\python37\\lib\\site-packages (from xgboost) (1.18.3)\n",
      "\n"
     ]
    },
    {
     "name": "stderr",
     "output_type": "stream",
     "text": [
      "WARNING: You are using pip version 20.1; however, version 20.2.3 is available.\n",
      "You should consider upgrading via the 'c:\\users\\toorr\\appdata\\local\\programs\\python\\python37\\python.exe -m pip install --upgrade pip' command.\n"
     ]
    }
   ],
   "source": [
    "pip install xgboost"
   ]
  },
  {
   "cell_type": "code",
   "execution_count": 4,
   "metadata": {},
   "outputs": [],
   "source": [
    "# Import different classifiers\n",
    "from sklearn import svm\n",
    "from sklearn.neural_network import MLPClassifier\n",
    "from xgboost import XGBClassifier\n",
    "from sklearn.naive_bayes import GaussianNB\n",
    "from sklearn.neighbors import KNeighborsClassifier\n",
    "from sklearn.ensemble import BaggingClassifier, RandomForestClassifier, AdaBoostClassifier\n",
    "from sklearn.discriminant_analysis import LinearDiscriminantAnalysis as LDA\n",
    "from sklearn.decomposition import PCA\n",
    "from skimage.feature import hog, local_binary_pattern, greycomatrix, greycoprops"
   ]
  },
  {
   "cell_type": "markdown",
   "metadata": {},
   "source": [
    "## Functions"
   ]
  },
  {
   "cell_type": "markdown",
   "metadata": {},
   "source": [
    "## Read dataset:"
   ]
  },
  {
   "cell_type": "code",
   "execution_count": 5,
   "metadata": {},
   "outputs": [],
   "source": [
    "from numpy import asarray\n",
    "path = './all-mias'\n",
    "def read_images(path):\n",
    "    images = []\n",
    "    labels = []\n",
    "    num1 = 32\n",
    "    num2 = 32\n",
    "    for img_name in os.listdir(path):\n",
    "        img_name = path+'/'+ img_name\n",
    "        print(img_name)\n",
    "        if img_name.endswith('.png'):\n",
    "            img = cv2.imread(img_name)\n",
    "            new_img = cv2.resize(img, (num2, num1))\n",
    "            images.append(new_img)\n",
    "#                     if file_name == 'Parasitized':\n",
    "#                         label = 0\n",
    "#                     else:\n",
    "#                         label = 1\n",
    "#                     labels.append(label)\n",
    "    \n",
    "    return np.array(images)#, np.array(labels)"
   ]
  },
  {
   "cell_type": "markdown",
   "metadata": {},
   "source": [
    "## Save / Load Extracted Features:"
   ]
  },
  {
   "cell_type": "code",
   "execution_count": 58,
   "metadata": {},
   "outputs": [],
   "source": [
    "def save_feature(feature, name):\n",
    "    # saving all our feature vectors in pickled file\n",
    "    with open( name + '.pkl', 'wb') as fp:\n",
    "        pickle.dump(csr_matrix(feature), fp)\n",
    "    \n",
    "    print(f'Feature saved with name cache/{name}.pkl')\n",
    "\n",
    "def load_feature(feature_name):\n",
    "    return pickle.load(open(feature_name, 'rb')).A"
   ]
  },
  {
   "cell_type": "markdown",
   "metadata": {},
   "source": [
    "## Save / Load Trained Model:"
   ]
  },
  {
   "cell_type": "code",
   "execution_count": 7,
   "metadata": {},
   "outputs": [],
   "source": [
    "def save_model(model):\n",
    "    filename = input('Enter model file name:')\n",
    "    pickle.dump(model, open('models/'+filename + '.pkl', 'wb'))\n",
    "    print(f'Successfully saved model in models/{filename}.pkl')\n",
    "\n",
    "def load_model(model_name):\n",
    "    return pickle.load(open(model_name, 'rb'))"
   ]
  },
  {
   "cell_type": "markdown",
   "metadata": {},
   "source": [
    "## Features:"
   ]
  },
  {
   "cell_type": "markdown",
   "metadata": {},
   "source": [
    "### Histogram of oriented gradients (HOG) based Features:"
   ]
  },
  {
   "cell_type": "code",
   "execution_count": 8,
   "metadata": {},
   "outputs": [],
   "source": [
    "# def get_hog(images, name='hog', save=False):\n",
    "#     result = np.array([hog(img, block_norm='L2') for img in images])\n",
    "    \n",
    "#     if save:\n",
    "#         save_feature(result, name)\n",
    "        \n",
    "#     return result"
   ]
  },
  {
   "cell_type": "code",
   "execution_count": 9,
   "metadata": {},
   "outputs": [],
   "source": [
    "def get_hog(images, name='hog', save=False):\n",
    "    # HOG Feature Extraction\n",
    "    cell_size = (4, 4)    # h x w in pixels\n",
    "    block_size = (2, 2)     # h x w in cells\n",
    "    nbins = 9\n",
    "    \n",
    "    # winSize is the size of the image cropped to an multiple of the cell size\n",
    "    # cell_size is the size of the cells of the img patch over which to calculate the histograms\n",
    "    # block_size is the number of cells which fit in the patch\n",
    "    hog_desc = cv2.HOGDescriptor(_winSize=(images[0].shape[1] // cell_size[1] * cell_size[1],\n",
    "                                              images[0].shape[0] // cell_size[0] * cell_size[0]),\n",
    "                                    _blockSize=(block_size[1] * cell_size[1],\n",
    "                                                block_size[0] * cell_size[0]),\n",
    "                                    _blockStride=(cell_size[1], cell_size[0]),\n",
    "                                    _cellSize=(cell_size[1], cell_size[0]),\n",
    "                                    _nbins=nbins)\n",
    "    \n",
    "    def get_image_hog(image):\n",
    "        # HOG feature \n",
    "        f = hog_desc.compute(image)\n",
    "        \n",
    "        res = np.array(f)\n",
    "        return res.flatten()\n",
    "    \n",
    "    # HOG for all images\n",
    "    features = []\n",
    "    for i, img in enumerate(images):\n",
    "        f = get_image_hog(cv2.cvtColor(img, cv2.COLOR_RGB2GRAY))\n",
    "        features.append(f)\n",
    "    \n",
    "    result = np.array(features)\n",
    "    \n",
    "    if save:\n",
    "        save_feature(result, name)\n",
    "    \n",
    "    return result"
   ]
  },
  {
   "cell_type": "markdown",
   "metadata": {},
   "source": [
    "### Gabor based Features:"
   ]
  },
  {
   "cell_type": "code",
   "execution_count": 10,
   "metadata": {},
   "outputs": [],
   "source": [
    "def get_gabor(images, name=\"gabor\", save=False):\n",
    "    \n",
    "    # Gabor filter banks with different orientations and at different scales\n",
    "    filters = []\n",
    "    ksize = 9\n",
    "    sigma = 0.1\n",
    "    gamma = 0.5\n",
    "    phi = 0\n",
    "    \n",
    "    # define the range for theta and nu\n",
    "    for theta in np.arange(0, np.pi, np.pi / 8):\n",
    "        for nu in np.arange(0, 6*np.pi/4, np.pi / 4):\n",
    "            kern = cv2.getGaborKernel((ksize, ksize), sigma, theta, nu, gamma, phi, ktype=cv2.CV_32F)\n",
    "            kern /= 1.5*kern.sum()\n",
    "            filters.append(kern)\n",
    "    \n",
    "    # function to convolve the image with the filters\n",
    "    def process(img, filters):\n",
    "        accum = np.zeros_like(img)\n",
    "        for kern in filters:\n",
    "            fimg = cv2.filter2D(img, cv2.CV_8UC3, kern)\n",
    "            np.maximum(accum, fimg, accum)\n",
    "            return accum\n",
    "        \n",
    "    \n",
    "    def get_image_gabor(image):\n",
    "        # Local Binary Pattern\n",
    "        f = []\n",
    "\n",
    "        # calculating the local energy for each convolved image\n",
    "        for j in range(40):\n",
    "            res = process(cv2.cvtColor(image, cv2.COLOR_RGB2GRAY), filters[j])\n",
    "            res = np.array(res)\n",
    "            f.append(np.sum(np.multiply(res, res)))\n",
    "\n",
    "        # calculating the mean amplitude for each convolved image\n",
    "        for j in range(40):\n",
    "            res = process(cv2.cvtColor(image, cv2.COLOR_RGB2GRAY), filters[j])\n",
    "            res = np.array(res)\n",
    "            f.append(np.sum(abs(res)))\n",
    "        return f\n",
    "    \n",
    "    # Gabor descriptor for all images\n",
    "    features = []\n",
    "    for i, img in enumerate(images):\n",
    "        f = get_image_gabor(img)\n",
    "        features.append(f)\n",
    "    \n",
    "    result = np.array(features)\n",
    "    \n",
    "    if save:\n",
    "        save_feature(result, name)\n",
    "    \n",
    "    return result"
   ]
  },
  {
   "cell_type": "markdown",
   "metadata": {},
   "source": [
    "### KAZE based features:"
   ]
  },
  {
   "cell_type": "code",
   "execution_count": 11,
   "metadata": {},
   "outputs": [],
   "source": [
    "def get_kaze(images, name='kaze', save=False):\n",
    "    \n",
    "    # KAZE descriptor for 1 image\n",
    "    def get_image_kaze(image, vector_size=32):\n",
    "        algo = cv2.KAZE_create()\n",
    "        kps = algo.detect(image)\n",
    "        kps = sorted(kps, key=lambda x: -x.response)[:vector_size]\n",
    "        \n",
    "        # Making descriptor of same size\n",
    "        # Descriptor vector size is 64\n",
    "        needed_size = (vector_size * 64)\n",
    "        if len(kps) == 0:\n",
    "            return np.zeros(needed_size)\n",
    "        \n",
    "        kps, dsc = algo.compute(image, kps)\n",
    "        dsc = dsc.flatten()\n",
    "        \n",
    "        if dsc.size < needed_size:\n",
    "            # if we have less than 32 descriptors then just adding zeros at the\n",
    "            # end of our feature vector\n",
    "            dsc = np.concatenate([dsc, np.zeros(needed_size - dsc.size)])\n",
    "        return dsc\n",
    "    \n",
    "    # KAZE descriptor for all images\n",
    "    features = []\n",
    "    for i, img in enumerate(images):\n",
    "        dsc = get_image_kaze(img)\n",
    "        features.append(dsc)\n",
    "    \n",
    "    result = np.array(features)\n",
    "    \n",
    "    if save:\n",
    "        save_feature(result, name)\n",
    "        \n",
    "    return result"
   ]
  },
  {
   "cell_type": "markdown",
   "metadata": {},
   "source": [
    "### Scale-invariant feature transform (SIFT) based Features:"
   ]
  },
  {
   "cell_type": "code",
   "execution_count": 12,
   "metadata": {},
   "outputs": [],
   "source": [
    "def get_sift(images, name='sift', save=False):\n",
    "    \n",
    "    # SIFT descriptor for 1 image\n",
    "    def get_image_sift(image, vector_size=15):\n",
    "        alg = cv2.xfeatures2d.SIFT_create()\n",
    "        kps = alg.detect(image, None)\n",
    "        kps = sorted(kps, key=lambda x: -x.response)[:vector_size]\n",
    "        \n",
    "        # Making descriptor of same size\n",
    "        # Descriptor vector size is 128\n",
    "        needed_size = (vector_size * 128)\n",
    "        if len(kps) == 0:\n",
    "            return np.zeros(needed_size)\n",
    "        \n",
    "        kps, dsc = alg.compute(image, kps)\n",
    "        dsc = dsc.flatten()\n",
    "        if dsc.size < needed_size:\n",
    "            # if we have less than 32 descriptors then just adding zeros at the\n",
    "            # end of our feature vector\n",
    "            dsc = np.concatenate([dsc, np.zeros(needed_size - dsc.size)])\n",
    "            \n",
    "        return dsc\n",
    "    \n",
    "    # SIFT descriptor for all images\n",
    "    features = []\n",
    "    for i, img in enumerate(images):\n",
    "        dsc = get_image_sift(img)\n",
    "        features.append(dsc)\n",
    "\n",
    "    result = np.array(features)\n",
    "    \n",
    "    if save:\n",
    "        save_feature(result, name)\n",
    "        \n",
    "    return result\n"
   ]
  },
  {
   "cell_type": "code",
   "execution_count": 13,
   "metadata": {},
   "outputs": [],
   "source": [
    "def return_sift_kp(image):\n",
    "    alg = cv2.xfeatures2d.SIFT_create()\n",
    "    kps = alg.detect(image, None)\n",
    "    kps = sorted(kps, key=lambda x: -x.response)[:15]\n",
    "\n",
    "    # Making descriptor of same size\n",
    "    # Descriptor vector size is 128\n",
    "    needed_size = (15 * 128)\n",
    "    if len(kps) == 0:\n",
    "        dsc = np.zeros(needed_size)\n",
    "    else:\n",
    "        kps, dsc = alg.compute(image, kps)\n",
    "        dsc = dsc.flatten()\n",
    "        if dsc.size < needed_size:\n",
    "            # if we have less than 32 descriptors then just adding zeros at the\n",
    "            # end of our feature vector\n",
    "            dsc = np.concatenate([dsc, np.zeros(needed_size - dsc.size)])\n",
    "    return kps"
   ]
  },
  {
   "cell_type": "markdown",
   "metadata": {},
   "source": [
    "### Speeded-up robust features (SURF) based Features:"
   ]
  },
  {
   "cell_type": "code",
   "execution_count": 14,
   "metadata": {},
   "outputs": [],
   "source": [
    "def get_surf(images, name='surf', save=False):\n",
    "    # SURF descriptor for 1 image\n",
    "    def get_image_surf(image, vector_size=4):\n",
    "        alg = cv2.xfeatures2d.SURF_create()\n",
    "        kps = alg.detect(image, None)\n",
    "        kps = sorted(kps, key=lambda x: -x.response)[:vector_size]\n",
    "        \n",
    "        # Making descriptor of same size\n",
    "        # Descriptor vector size is 64\n",
    "        needed_size = (vector_size * 64)\n",
    "        if len(kps) == 0:\n",
    "            return np.zeros(needed_size)\n",
    "        \n",
    "        kps, dsc = alg.compute(image, kps)\n",
    "        dsc = dsc.flatten()\n",
    "        if dsc.size < needed_size:\n",
    "            # if we have less than 32 descriptors then just adding zeros at the\n",
    "            # end of our feature vector\n",
    "            dsc = np.concatenate([dsc, np.zeros(needed_size - dsc.size)])\n",
    "            \n",
    "        return dsc\n",
    "    \n",
    "    # SURF descriptor for all images\n",
    "    features = []\n",
    "    for i, img in enumerate(images):\n",
    "        dsc = get_image_surf(img)\n",
    "        features.append(dsc)\n",
    "    \n",
    "    result = np.array(features)\n",
    "    \n",
    "    if save:\n",
    "        save_feature(result, name)\n",
    "        \n",
    "    return result"
   ]
  },
  {
   "cell_type": "code",
   "execution_count": 15,
   "metadata": {},
   "outputs": [],
   "source": [
    "def return_surf_kp(image):\n",
    "    alg = cv2.xfeatures2d.SURF_create()\n",
    "    kps = alg.detect(image, None)\n",
    "    kps = sorted(kps, key=lambda x: -x.response)[:4]\n",
    "\n",
    "    # Making descriptor of same size\n",
    "    # Descriptor vector size is 64\n",
    "    needed_size = (15 * 64)\n",
    "    if len(kps) == 0:\n",
    "        dsc = np.zeros(needed_size)\n",
    "    else:\n",
    "        kps, dsc = alg.compute(image, kps)\n",
    "        dsc = dsc.flatten()\n",
    "        if dsc.size < needed_size:\n",
    "            # if we have less than 32 descriptors then just adding zeros at the\n",
    "            # end of our feature vector\n",
    "            dsc = np.concatenate([dsc, np.zeros(needed_size - dsc.size)])\n",
    "    return kps"
   ]
  },
  {
   "cell_type": "markdown",
   "metadata": {},
   "source": [
    "### Local-Binary-Pattern (LBP) based Features:"
   ]
  },
  {
   "cell_type": "code",
   "execution_count": 16,
   "metadata": {},
   "outputs": [],
   "source": [
    "def get_lbp(images, name='lbp', save=False):\n",
    "    result = np.array([local_binary_pattern(cv2.cvtColor(img, cv2.COLOR_RGB2GRAY), 10, 3).flatten() for img in images])\n",
    "    \n",
    "    if save:\n",
    "        save_feature(result, name)\n",
    "        \n",
    "    return result"
   ]
  },
  {
   "cell_type": "markdown",
   "metadata": {},
   "source": [
    "### Gray Level Co-occurrence Matrix (GLCM) based Features:"
   ]
  },
  {
   "cell_type": "code",
   "execution_count": 17,
   "metadata": {},
   "outputs": [],
   "source": [
    "def get_glcm(images, name='glcm', save=False):\n",
    "    \n",
    "    # GLCM feature for 1 image\n",
    "    def get_image_glcm(img):\n",
    "        image = cv2.cvtColor(img, cv2.COLOR_RGB2GRAY)\n",
    "        \n",
    "        # GLCM Feature Extraction\n",
    "        Grauwertmatrix = greycomatrix(image, [1, 2, 3], [0, np.pi / 4, np.pi / 2, 3 * np.pi / 4],\n",
    "                                                  symmetric=False, normed=True)\n",
    "        \n",
    "        contrast = greycoprops(Grauwertmatrix, 'contrast')\n",
    "        dissimilarity = greycoprops(Grauwertmatrix, 'dissimilarity')\n",
    "        homogeneity = greycoprops(Grauwertmatrix, 'homogeneity')\n",
    "        energy = greycoprops(Grauwertmatrix, 'energy')\n",
    "        correlation = greycoprops(Grauwertmatrix, 'correlation')\n",
    "        ASM = greycoprops(Grauwertmatrix, 'ASM')\n",
    "        \n",
    "        # Merge all the features\n",
    "        f = np.array([contrast, dissimilarity, homogeneity, energy, correlation, ASM])\n",
    "        return f.flatten()\n",
    "    \n",
    "    \n",
    "    # GLCM descriptor for all images\n",
    "    features = []\n",
    "    for i, img in enumerate(images):\n",
    "        dsc = get_image_glcm(img)\n",
    "        features.append(dsc)\n",
    "    \n",
    "    result = np.array(features)\n",
    "    \n",
    "    if save:\n",
    "        save_feature(result, name)\n",
    "        \n",
    "    return result"
   ]
  },
  {
   "cell_type": "markdown",
   "metadata": {},
   "source": [
    "### Flattened Image:"
   ]
  },
  {
   "cell_type": "code",
   "execution_count": 18,
   "metadata": {},
   "outputs": [],
   "source": [
    "def get_flattened(images, color=cv2.COLOR_RGB2GRAY, name='flattened', save=False):\n",
    "    \"\"\"\n",
    "    color: default RGB2GRAY, if None is passed then color is used as it is.\n",
    "    \"\"\"\n",
    "    color_images = []\n",
    "    if color is not None:\n",
    "        for img in images:\n",
    "            color_images.append(cv2.cvtColor(img, color))\n",
    "    else:\n",
    "        color_images = images\n",
    "    \n",
    "    count = len(color_images)\n",
    "    \n",
    "    result = np.array(color_images).reshape(count, -1)\n",
    "    \n",
    "    if save:\n",
    "        save_feature(result, name)\n",
    "        \n",
    "    return result"
   ]
  },
  {
   "cell_type": "markdown",
   "metadata": {},
   "source": [
    "### Color Histograms:"
   ]
  },
  {
   "cell_type": "code",
   "execution_count": 19,
   "metadata": {},
   "outputs": [],
   "source": [
    "def get_color_hist(images, name='color_hist', save=False):\n",
    "    histograms = []\n",
    "    for img in images:\n",
    "        histograms.append(cv2.calcHist([img], [0, 1, 2],None, [8, 8, 8], [0, 256, 0, 256, 0, 256]).flatten())\n",
    "    \n",
    "    result = np.array(histograms)\n",
    "    \n",
    "    if save:\n",
    "        save_feature(result, name)\n",
    "        \n",
    "    return result"
   ]
  },
  {
   "cell_type": "markdown",
   "metadata": {},
   "source": [
    "### Combine Features:"
   ]
  },
  {
   "cell_type": "code",
   "execution_count": 20,
   "metadata": {},
   "outputs": [],
   "source": [
    "def combine_features(features, horizontal=True):\n",
    "    \"\"\"\n",
    "    Array of features [f1, f2, f3] where each fi is a feature set \n",
    "    eg. f1=rgb_flat, f2=SIFT, etc.\n",
    "    \"\"\"\n",
    "    if horizontal:\n",
    "        return np.hstack(features)\n",
    "    else:\n",
    "        return np.vstack(features)"
   ]
  },
  {
   "cell_type": "markdown",
   "metadata": {},
   "source": [
    "### Normalize features:"
   ]
  },
  {
   "cell_type": "code",
   "execution_count": 21,
   "metadata": {},
   "outputs": [],
   "source": [
    "def norm_features_minmax(train, test):\n",
    "    min_max_scaler = preprocessing.MinMaxScaler()\n",
    "    norm_train = min_max_scaler.fit_transform(train)\n",
    "    norm_test = min_max_scaler.transform(test)\n",
    "    \n",
    "    return norm_train, norm_test"
   ]
  },
  {
   "cell_type": "code",
   "execution_count": 22,
   "metadata": {},
   "outputs": [],
   "source": [
    "def norm_features_zscore(train, test):\n",
    "    min_max_scaler = preprocessing.StandardScaler()\n",
    "    norm_train = min_max_scaler.fit_transform(train)\n",
    "    norm_test = min_max_scaler.transform(test)\n",
    "    \n",
    "    return norm_train, norm_test"
   ]
  },
  {
   "cell_type": "markdown",
   "metadata": {},
   "source": [
    "## Classifiers:"
   ]
  },
  {
   "cell_type": "code",
   "execution_count": 23,
   "metadata": {},
   "outputs": [],
   "source": [
    "def train_model(train_x, train_y, model_name='NB', validation=None):\n",
    "    \"\"\"\n",
    "    Possible model names: ['NB', 'SVM', 'XGB', 'MLP', 'ADA', 'BAG', 'RF']\n",
    "    default = 'NB'\n",
    "    \n",
    "    validation: (val_x, val_y) tupple for validation accuracy score.\n",
    "    \n",
    "    return: trained model\n",
    "    \"\"\"\n",
    "    model = None\n",
    "    if model_name == 'SVM':\n",
    "        model = svm.SVC(gamma='scale', probability=True)\n",
    "    elif model_name == 'XGB':\n",
    "        model = XGBClassifier(n_estimators=200, max_depth=5, n_jobs=2)\n",
    "#         model = XGBClassifier()\n",
    "    elif model_name == 'MLP':\n",
    "        model = MLPClassifier(hidden_layer_sizes=(100,100,100), max_iter=800, alpha=0.0001,\n",
    "                     solver='sgd', verbose=10, tol=0.000000001)\n",
    "    elif model_name == 'ADA':\n",
    "        model = AdaBoostClassifier(n_estimators=50)\n",
    "    elif model_name == 'BAG':\n",
    "        model = BaggingClassifier(n_jobs=2, n_estimators=50)\n",
    "    elif model_name == 'RF':\n",
    "        model = RandomForestClassifier(n_estimators=200, max_depth=10)\n",
    "    elif model_name == 'KNN':\n",
    "        model = KNeighborsClassifier(n_neighbors=5, weights='distance', algorithm='auto', leaf_size=30, p=2, metric='minkowski', metric_params=None, n_jobs=None)\n",
    "    else:\n",
    "        model = GaussianNB()\n",
    "    \n",
    "    model.fit(train_x, train_y)\n",
    "    \n",
    "    if validation is not None:\n",
    "        y_hat = model.predict(validation[0])\n",
    "        acc = metrics.accuracy_score(validation[1], y_hat)\n",
    "        print(f\"Validation Accuracy in '{model_name}' = {acc}\")\n",
    "        cm = metrics.confusion_matrix(validation[1], y_hat)\n",
    "        print(cm)\n",
    "        recall = cm[0][0] / (cm[0][0] + cm[0][1])\n",
    "        precision = cm[0][0] / (cm[0][0] + cm[1][0])\n",
    "        f1 = 2*(precision*recall)/(precision+recall)\n",
    "        print(f\"Recall in '{model_name}' = {recall}\")\n",
    "        print(f\"Precision in '{model_name}' = {precision}\")\n",
    "        print(f\"F1 Score in '{model_name}' = {f1}\")\n",
    "               \n",
    "    return model"
   ]
  },
  {
   "cell_type": "markdown",
   "metadata": {},
   "source": [
    "### ROC"
   ]
  },
  {
   "cell_type": "code",
   "execution_count": 24,
   "metadata": {},
   "outputs": [],
   "source": [
    "def plot_roc(fpr, tpr, class_name, area):\n",
    "    figure(num=None, figsize=(12, 6), dpi=80, facecolor='w', edgecolor='k')\n",
    "    \n",
    "    plt.plot(fpr,tpr)\n",
    "\n",
    "    plt.xlabel('False Positive Rate')\n",
    "    plt.ylabel('True Positive Rate')\n",
    "\n",
    "    plt.show()"
   ]
  },
  {
   "cell_type": "code",
   "execution_count": 198,
   "metadata": {},
   "outputs": [],
   "source": [
    "def plot_combine_roc(test_y, prob):\n",
    "    n_classes = 7\n",
    "    name_arr = ['RF', 'BAG', 'ADA', 'NB', 'SVM', 'XGB', 'KNN']\n",
    "    fpr = {}\n",
    "    tpr = {}\n",
    "    roc_auc = {}\n",
    "    for i in range(n_classes):\n",
    "        fpr[i], tpr[i], _ = metrics.roc_curve(test_y, prob[:, i])\n",
    "        roc_auc[i] = metrics.roc_auc_score(test_y,  prob[:, i])\n",
    "\n",
    "    figure(num=None, figsize=(12, 6), dpi=80, facecolor='w', edgecolor='k')\n",
    "    colors = cycle(['darkorange', 'cornflowerblue', 'red', 'purple', 'pink', 'violet', 'green'])\n",
    "    for i, color in zip(range(n_classes), colors):\n",
    "        plt.plot(fpr[i], tpr[i], color=color,\n",
    "                 label='ROC curve for ' + name_arr[i] + ' class (area = {1:0.2f})'\n",
    "                 ''.format(i, roc_auc[i]))\n",
    "\n",
    "    plt.xlabel('False Positive Rate')\n",
    "    plt.ylabel('True Positive Rate')\n",
    "    plt.legend()\n",
    "#     plt.savefig('output/roc_lda_on_pca_uninfected.png')\n",
    "    plt.show()"
   ]
  },
  {
   "cell_type": "markdown",
   "metadata": {},
   "source": [
    "### CM"
   ]
  },
  {
   "cell_type": "code",
   "execution_count": 26,
   "metadata": {},
   "outputs": [],
   "source": [
    "def confusion_mat(cm, classes, title='Confusion matrix', cmap=plt.cm.Blues, figsize=(7,7), path=None, filename=None):\n",
    "        \"\"\"\n",
    "        cm: confusion matrix to be plotted.\n",
    "        classes: array of labels or class names.\n",
    "        title: title of the confusion matrix.\n",
    "        cmap: color of the plot matrix.\n",
    "        figsize: tupple (width, height) representiong size of the plot.\n",
    "        path: destination where the plot image will be saved.\n",
    "        filename: name to save the file with on the specified path. (if None, title is used)\n",
    "        \n",
    "        # Source: https://scikit-learn.org/stable/auto_examples/model_selection/plot_confusion_matrix.html\n",
    "        \"\"\"\n",
    "        cm = cm.astype(np.int64)\n",
    "        plt.figure(figsize=figsize)\n",
    "        plt.imshow(cm, interpolation='nearest', cmap=cmap)\n",
    "        plt.title(title)\n",
    "        plt.colorbar()\n",
    "        tick_marks = np.arange(len(classes))\n",
    "        plt.xticks(tick_marks, classes, rotation=45)\n",
    "        plt.yticks(tick_marks, classes)\n",
    "\n",
    "        fmt = 'd'\n",
    "        thresh = cm.max() / 2.\n",
    "        for i, j in itertools.product(range(cm.shape[0]), range(cm.shape[1])):\n",
    "            plt.text(j, i, format(cm[i, j], fmt),\n",
    "                     horizontalalignment=\"center\",\n",
    "                     color=\"white\" if cm[i, j] > thresh else \"black\")\n",
    "        plt.grid(False)\n",
    "        plt.ylabel('True label')\n",
    "        plt.xlabel('Predicted label')\n",
    "        plt.tight_layout()\n",
    "        \n",
    "        if path:\n",
    "            if filename is None:\n",
    "                plt.savefig(path + title + '.png')\n",
    "            else:\n",
    "                plt.savefig(path + filename + '.png')\n",
    "        plt.show()"
   ]
  },
  {
   "cell_type": "markdown",
   "metadata": {},
   "source": [
    "### PCA projected data"
   ]
  },
  {
   "cell_type": "code",
   "execution_count": 27,
   "metadata": {},
   "outputs": [],
   "source": [
    "def pca_projection(mat, name_arr):\n",
    "    plt.figure(figsize=(15,30))\n",
    "    for i, img in enumerate(mat, start=1):\n",
    "        plt.subplot(5, 2, i)\n",
    "        y = np.var(mat[i-1], axis=0)\n",
    "        x = list(range(1, len(y)+1))\n",
    "        plt.plot(x, y, '--o')\n",
    "        plt.ylabel('Variance')\n",
    "        plt.xlabel('Data Projected on Eigen Vector Number')\n",
    "        plt.xticks(x)\n",
    "        plt.title(name_arr[i-1])\n",
    "    plt.savefig('output/pca/subplot.jpg')\n",
    "    plt.show()"
   ]
  },
  {
   "cell_type": "code",
   "execution_count": 28,
   "metadata": {},
   "outputs": [],
   "source": [
    "def draw_key_points(image, kp):\n",
    "    img = cv2.drawKeypoints(image, kp, None, flags=cv2.DRAW_MATCHES_FLAGS_DRAW_RICH_KEYPOINTS)\n",
    "    return img"
   ]
  },
  {
   "cell_type": "markdown",
   "metadata": {},
   "source": [
    "## Main cells"
   ]
  },
  {
   "cell_type": "markdown",
   "metadata": {},
   "source": [
    "## Read and split data"
   ]
  },
  {
   "cell_type": "markdown",
   "metadata": {},
   "source": [
    "### Read and Store"
   ]
  },
  {
   "cell_type": "code",
   "execution_count": 29,
   "metadata": {},
   "outputs": [],
   "source": [
    "from numpy import asarray\n",
    "path = './all-mias'\n",
    "def read_images(path):\n",
    "    images = []\n",
    "    labels = []\n",
    "    num1 = 32\n",
    "    num2 = 32\n",
    "    for img_name in os.listdir(path):\n",
    "        img_name = path+'/'+ img_name\n",
    "        print(img_name)\n",
    "        if img_name.endswith('.pgm'):\n",
    "            img = cv2.imread(img_name)\n",
    "            new_img = cv2.resize(img, (num2, num1))\n",
    "            images.append(new_img)\n",
    "#                     if file_name == 'Parasitized':\n",
    "#                         label = 0\n",
    "#                     else:\n",
    "#                         label = 1\n",
    "#                     labels.append(label)\n",
    "    \n",
    "    return np.array(images)#, np.array(labels)"
   ]
  },
  {
   "cell_type": "code",
   "execution_count": 30,
   "metadata": {},
   "outputs": [
    {
     "name": "stdout",
     "output_type": "stream",
     "text": [
      "./all-mias/Info.txt\n",
      "./all-mias/Licence.txt\n",
      "./all-mias/mdb001.pgm\n",
      "./all-mias/mdb002.pgm\n",
      "./all-mias/mdb003.pgm\n",
      "./all-mias/mdb004.pgm\n",
      "./all-mias/mdb005.pgm\n",
      "./all-mias/mdb006.pgm\n",
      "./all-mias/mdb007.pgm\n",
      "./all-mias/mdb008.pgm\n",
      "./all-mias/mdb009.pgm\n",
      "./all-mias/mdb010.pgm\n",
      "./all-mias/mdb011.pgm\n",
      "./all-mias/mdb012.pgm\n",
      "./all-mias/mdb013.pgm\n",
      "./all-mias/mdb014.pgm\n",
      "./all-mias/mdb015.pgm\n",
      "./all-mias/mdb016.pgm\n",
      "./all-mias/mdb017.pgm\n",
      "./all-mias/mdb018.pgm\n",
      "./all-mias/mdb019.pgm\n",
      "./all-mias/mdb020.pgm\n",
      "./all-mias/mdb021.pgm\n",
      "./all-mias/mdb022.pgm\n",
      "./all-mias/mdb023.pgm\n",
      "./all-mias/mdb024.pgm\n",
      "./all-mias/mdb025.pgm\n",
      "./all-mias/mdb026.pgm\n",
      "./all-mias/mdb027.pgm\n",
      "./all-mias/mdb028.pgm\n",
      "./all-mias/mdb029.pgm\n",
      "./all-mias/mdb030.pgm\n",
      "./all-mias/mdb031.pgm\n",
      "./all-mias/mdb032.pgm\n",
      "./all-mias/mdb033.pgm\n",
      "./all-mias/mdb034.pgm\n",
      "./all-mias/mdb035.pgm\n",
      "./all-mias/mdb036.pgm\n",
      "./all-mias/mdb037.pgm\n",
      "./all-mias/mdb038.pgm\n",
      "./all-mias/mdb039.pgm\n",
      "./all-mias/mdb040.pgm\n",
      "./all-mias/mdb041.pgm\n",
      "./all-mias/mdb042.pgm\n",
      "./all-mias/mdb043.pgm\n",
      "./all-mias/mdb044.pgm\n",
      "./all-mias/mdb045.pgm\n",
      "./all-mias/mdb046.pgm\n",
      "./all-mias/mdb047.pgm\n",
      "./all-mias/mdb048.pgm\n",
      "./all-mias/mdb049.pgm\n",
      "./all-mias/mdb050.pgm\n",
      "./all-mias/mdb051.pgm\n",
      "./all-mias/mdb052.pgm\n",
      "./all-mias/mdb053.pgm\n",
      "./all-mias/mdb054.pgm\n",
      "./all-mias/mdb055.pgm\n",
      "./all-mias/mdb056.pgm\n",
      "./all-mias/mdb057.pgm\n",
      "./all-mias/mdb058.pgm\n",
      "./all-mias/mdb059.pgm\n",
      "./all-mias/mdb060.pgm\n",
      "./all-mias/mdb061.pgm\n",
      "./all-mias/mdb062.pgm\n",
      "./all-mias/mdb063.pgm\n",
      "./all-mias/mdb064.pgm\n",
      "./all-mias/mdb065.pgm\n",
      "./all-mias/mdb066.pgm\n",
      "./all-mias/mdb067.pgm\n",
      "./all-mias/mdb068.pgm\n",
      "./all-mias/mdb069.pgm\n",
      "./all-mias/mdb070.pgm\n",
      "./all-mias/mdb071.pgm\n",
      "./all-mias/mdb072.pgm\n",
      "./all-mias/mdb073.pgm\n",
      "./all-mias/mdb074.pgm\n",
      "./all-mias/mdb075.pgm\n",
      "./all-mias/mdb076.pgm\n",
      "./all-mias/mdb077.pgm\n",
      "./all-mias/mdb078.pgm\n",
      "./all-mias/mdb079.pgm\n",
      "./all-mias/mdb080.pgm\n",
      "./all-mias/mdb081.pgm\n",
      "./all-mias/mdb082.pgm\n",
      "./all-mias/mdb083.pgm\n",
      "./all-mias/mdb084.pgm\n",
      "./all-mias/mdb085.pgm\n",
      "./all-mias/mdb086.pgm\n",
      "./all-mias/mdb087.pgm\n",
      "./all-mias/mdb088.pgm\n",
      "./all-mias/mdb089.pgm\n",
      "./all-mias/mdb090.pgm\n",
      "./all-mias/mdb091.pgm\n",
      "./all-mias/mdb092.pgm\n",
      "./all-mias/mdb093.pgm\n",
      "./all-mias/mdb094.pgm\n",
      "./all-mias/mdb095.pgm\n",
      "./all-mias/mdb096.pgm\n",
      "./all-mias/mdb097.pgm\n",
      "./all-mias/mdb098.pgm\n",
      "./all-mias/mdb099.pgm\n",
      "./all-mias/mdb100.pgm\n",
      "./all-mias/mdb101.pgm\n",
      "./all-mias/mdb102.pgm\n",
      "./all-mias/mdb103.pgm\n",
      "./all-mias/mdb104.pgm\n",
      "./all-mias/mdb105.pgm\n",
      "./all-mias/mdb106.pgm\n",
      "./all-mias/mdb107.pgm\n",
      "./all-mias/mdb108.pgm\n",
      "./all-mias/mdb109.pgm\n",
      "./all-mias/mdb110.pgm\n",
      "./all-mias/mdb111.pgm\n",
      "./all-mias/mdb112.pgm\n",
      "./all-mias/mdb113.pgm\n",
      "./all-mias/mdb114.pgm\n",
      "./all-mias/mdb115.pgm\n",
      "./all-mias/mdb116.pgm\n",
      "./all-mias/mdb117.pgm\n",
      "./all-mias/mdb118.pgm\n",
      "./all-mias/mdb119.pgm\n",
      "./all-mias/mdb120.pgm\n",
      "./all-mias/mdb121.pgm\n",
      "./all-mias/mdb122.pgm\n",
      "./all-mias/mdb123.pgm\n",
      "./all-mias/mdb124.pgm\n",
      "./all-mias/mdb125.pgm\n",
      "./all-mias/mdb126.pgm\n",
      "./all-mias/mdb127.pgm\n",
      "./all-mias/mdb128.pgm\n",
      "./all-mias/mdb129.pgm\n",
      "./all-mias/mdb130.pgm\n",
      "./all-mias/mdb131.pgm\n",
      "./all-mias/mdb132.pgm\n",
      "./all-mias/mdb133.pgm\n",
      "./all-mias/mdb134.pgm\n",
      "./all-mias/mdb135.pgm\n",
      "./all-mias/mdb136.pgm\n",
      "./all-mias/mdb137.pgm\n",
      "./all-mias/mdb138.pgm\n",
      "./all-mias/mdb139.pgm\n",
      "./all-mias/mdb140.pgm\n",
      "./all-mias/mdb141.pgm\n",
      "./all-mias/mdb142.pgm\n",
      "./all-mias/mdb143.pgm\n",
      "./all-mias/mdb144.pgm\n",
      "./all-mias/mdb145.pgm\n",
      "./all-mias/mdb146.pgm\n",
      "./all-mias/mdb147.pgm\n",
      "./all-mias/mdb148.pgm\n",
      "./all-mias/mdb149.pgm\n",
      "./all-mias/mdb150.pgm\n",
      "./all-mias/mdb151.pgm\n",
      "./all-mias/mdb152.pgm\n",
      "./all-mias/mdb153.pgm\n",
      "./all-mias/mdb154.pgm\n",
      "./all-mias/mdb155.pgm\n",
      "./all-mias/mdb156.pgm\n",
      "./all-mias/mdb157.pgm\n",
      "./all-mias/mdb158.pgm\n",
      "./all-mias/mdb159.pgm\n",
      "./all-mias/mdb160.pgm\n",
      "./all-mias/mdb161.pgm\n",
      "./all-mias/mdb162.pgm\n",
      "./all-mias/mdb163.pgm\n",
      "./all-mias/mdb164.pgm\n",
      "./all-mias/mdb165.pgm\n",
      "./all-mias/mdb166.pgm\n",
      "./all-mias/mdb167.pgm\n",
      "./all-mias/mdb168.pgm\n",
      "./all-mias/mdb169.pgm\n",
      "./all-mias/mdb170.pgm\n",
      "./all-mias/mdb171.pgm\n",
      "./all-mias/mdb172.pgm\n",
      "./all-mias/mdb173.pgm\n",
      "./all-mias/mdb174.pgm\n",
      "./all-mias/mdb175.pgm\n",
      "./all-mias/mdb176.pgm\n",
      "./all-mias/mdb177.pgm\n",
      "./all-mias/mdb178.pgm\n",
      "./all-mias/mdb179.pgm\n",
      "./all-mias/mdb180.pgm\n",
      "./all-mias/mdb181.pgm\n",
      "./all-mias/mdb182.pgm\n",
      "./all-mias/mdb183.pgm\n",
      "./all-mias/mdb184.pgm\n",
      "./all-mias/mdb185.pgm\n",
      "./all-mias/mdb186.pgm\n",
      "./all-mias/mdb187.pgm\n",
      "./all-mias/mdb188.pgm\n",
      "./all-mias/mdb189.pgm\n",
      "./all-mias/mdb190.pgm\n",
      "./all-mias/mdb191.pgm\n",
      "./all-mias/mdb192.pgm\n",
      "./all-mias/mdb193.pgm\n",
      "./all-mias/mdb194.pgm\n",
      "./all-mias/mdb195.pgm\n",
      "./all-mias/mdb196.pgm\n",
      "./all-mias/mdb197.pgm\n",
      "./all-mias/mdb198.pgm\n",
      "./all-mias/mdb199.pgm\n",
      "./all-mias/mdb200.pgm\n",
      "./all-mias/mdb201.pgm\n",
      "./all-mias/mdb202.pgm\n",
      "./all-mias/mdb203.pgm\n",
      "./all-mias/mdb204.pgm\n",
      "./all-mias/mdb205.pgm\n",
      "./all-mias/mdb206.pgm\n",
      "./all-mias/mdb207.pgm\n",
      "./all-mias/mdb208.pgm\n",
      "./all-mias/mdb209.pgm\n",
      "./all-mias/mdb210.pgm\n",
      "./all-mias/mdb211.pgm\n",
      "./all-mias/mdb212.pgm\n",
      "./all-mias/mdb213.pgm\n",
      "./all-mias/mdb214.pgm\n",
      "./all-mias/mdb215.pgm\n",
      "./all-mias/mdb216.pgm\n",
      "./all-mias/mdb217.pgm\n",
      "./all-mias/mdb218.pgm\n",
      "./all-mias/mdb219.pgm\n",
      "./all-mias/mdb220.pgm\n",
      "./all-mias/mdb221.pgm\n",
      "./all-mias/mdb222.pgm\n",
      "./all-mias/mdb223.pgm\n",
      "./all-mias/mdb224.pgm\n",
      "./all-mias/mdb225.pgm\n",
      "./all-mias/mdb226.pgm\n",
      "./all-mias/mdb227.pgm\n",
      "./all-mias/mdb228.pgm\n",
      "./all-mias/mdb229.pgm\n",
      "./all-mias/mdb230.pgm\n",
      "./all-mias/mdb231.pgm\n",
      "./all-mias/mdb232.pgm\n",
      "./all-mias/mdb233.pgm\n",
      "./all-mias/mdb234.pgm\n",
      "./all-mias/mdb235.pgm\n",
      "./all-mias/mdb236.pgm\n",
      "./all-mias/mdb237.pgm\n",
      "./all-mias/mdb238.pgm\n",
      "./all-mias/mdb239.pgm\n",
      "./all-mias/mdb240.pgm\n",
      "./all-mias/mdb241.pgm\n",
      "./all-mias/mdb242.pgm\n",
      "./all-mias/mdb243.pgm\n",
      "./all-mias/mdb244.pgm\n",
      "./all-mias/mdb245.pgm\n",
      "./all-mias/mdb246.pgm\n",
      "./all-mias/mdb247.pgm\n",
      "./all-mias/mdb248.pgm\n",
      "./all-mias/mdb249.pgm\n",
      "./all-mias/mdb250.pgm\n",
      "./all-mias/mdb251.pgm\n",
      "./all-mias/mdb252.pgm\n",
      "./all-mias/mdb253.pgm\n",
      "./all-mias/mdb254.pgm\n",
      "./all-mias/mdb255.pgm\n",
      "./all-mias/mdb256.pgm\n",
      "./all-mias/mdb257.pgm\n",
      "./all-mias/mdb258.pgm\n",
      "./all-mias/mdb259.pgm\n",
      "./all-mias/mdb260.pgm\n",
      "./all-mias/mdb261.pgm\n",
      "./all-mias/mdb262.pgm\n",
      "./all-mias/mdb263.pgm\n",
      "./all-mias/mdb264.pgm\n",
      "./all-mias/mdb265.pgm\n",
      "./all-mias/mdb266.pgm\n",
      "./all-mias/mdb267.pgm\n",
      "./all-mias/mdb268.pgm\n",
      "./all-mias/mdb269.pgm\n",
      "./all-mias/mdb270.pgm\n",
      "./all-mias/mdb271.pgm\n",
      "./all-mias/mdb272.pgm\n",
      "./all-mias/mdb273.pgm\n",
      "./all-mias/mdb274.pgm\n",
      "./all-mias/mdb275.pgm\n",
      "./all-mias/mdb276.pgm\n",
      "./all-mias/mdb277.pgm\n",
      "./all-mias/mdb278.pgm\n",
      "./all-mias/mdb279.pgm\n",
      "./all-mias/mdb280.pgm\n",
      "./all-mias/mdb281.pgm\n",
      "./all-mias/mdb282.pgm\n",
      "./all-mias/mdb283.pgm\n",
      "./all-mias/mdb284.pgm\n",
      "./all-mias/mdb285.pgm\n",
      "./all-mias/mdb286.pgm\n",
      "./all-mias/mdb287.pgm\n",
      "./all-mias/mdb288.pgm\n",
      "./all-mias/mdb289.pgm\n",
      "./all-mias/mdb290.pgm\n",
      "./all-mias/mdb291.pgm\n",
      "./all-mias/mdb292.pgm\n",
      "./all-mias/mdb293.pgm\n",
      "./all-mias/mdb294.pgm\n",
      "./all-mias/mdb295.pgm\n",
      "./all-mias/mdb296.pgm\n",
      "./all-mias/mdb297.pgm\n",
      "./all-mias/mdb298.pgm\n",
      "./all-mias/mdb299.pgm\n",
      "./all-mias/mdb300.pgm\n",
      "./all-mias/mdb301.pgm\n",
      "./all-mias/mdb302.pgm\n",
      "./all-mias/mdb303.pgm\n",
      "./all-mias/mdb304.pgm\n",
      "./all-mias/mdb305.pgm\n",
      "./all-mias/mdb306.pgm\n",
      "./all-mias/mdb307.pgm\n",
      "./all-mias/mdb308.pgm\n",
      "./all-mias/mdb309.pgm\n",
      "./all-mias/mdb310.pgm\n",
      "./all-mias/mdb311.pgm\n",
      "./all-mias/mdb312.pgm\n",
      "./all-mias/mdb313.pgm\n",
      "./all-mias/mdb314.pgm\n",
      "./all-mias/mdb315.pgm\n",
      "./all-mias/mdb316.pgm\n",
      "./all-mias/mdb317.pgm\n",
      "./all-mias/mdb318.pgm\n",
      "./all-mias/mdb319.pgm\n",
      "./all-mias/mdb320.pgm\n",
      "./all-mias/mdb321.pgm\n",
      "./all-mias/mdb322.pgm\n",
      "./all-mias/README\n"
     ]
    }
   ],
   "source": [
    "full_data_x = read_images(path)"
   ]
  },
  {
   "cell_type": "code",
   "execution_count": 444,
   "metadata": {},
   "outputs": [],
   "source": [
    "from csv import reader\n",
    "dict={'B':1,'M':1}\n",
    "\n",
    "label=[]\n",
    "with open('Info.csv', 'r') as read_obj:\n",
    "    # pass the file object to reader() to get the reader object\n",
    "    csv_reader = reader(read_obj)\n",
    "    # Iterate over each row in the csv using reader object\n",
    "    for row in csv_reader:\n",
    "        # row variable is a list that represents a row in csv\n",
    "       # print(row)\n",
    "        if(row[0].split(\" \")[2]==\"NORM\"):\n",
    "            label.append(0)\n",
    "        else:\n",
    "            label.append(dict[row[0].split(\" \")[3]])\n",
    "full_data_y=np.array(label[:322])"
   ]
  },
  {
   "cell_type": "code",
   "execution_count": 228,
   "metadata": {},
   "outputs": [
    {
     "name": "stdout",
     "output_type": "stream",
     "text": [
      "dataset size :  322 322\n"
     ]
    }
   ],
   "source": [
    "print(\"dataset size : \", len(full_data_x), len(full_data_y))"
   ]
  },
  {
   "cell_type": "code",
   "execution_count": 229,
   "metadata": {},
   "outputs": [
    {
     "name": "stdout",
     "output_type": "stream",
     "text": [
      "One Image size:  (32, 32, 3)\n"
     ]
    }
   ],
   "source": [
    "print(\"One Image size: \", full_data_x[2].shape)"
   ]
  },
  {
   "cell_type": "code",
   "execution_count": 230,
   "metadata": {},
   "outputs": [],
   "source": [
    "data_x, test_x, data_y, test_y = train_test_split(full_data_x, full_data_y, test_size=0.2)"
   ]
  },
  {
   "cell_type": "code",
   "execution_count": 231,
   "metadata": {},
   "outputs": [],
   "source": [
    "train_imgs, val_imgs, train_y, val_y = train_test_split(data_x, data_y, test_size=0.2)"
   ]
  },
  {
   "cell_type": "code",
   "execution_count": 232,
   "metadata": {},
   "outputs": [
    {
     "name": "stdout",
     "output_type": "stream",
     "text": [
      "Train data : (205, 32, 32, 3)        Label:  (205,)\n",
      "Validation data : (52, 32, 32, 3)    Label:  (52,)\n",
      "Test data : (65, 32, 32, 3)          Label:  (65,)\n"
     ]
    }
   ],
   "source": [
    "print(\"Train data :\", train_imgs.shape, \"       Label: \", train_y.shape) \n",
    "print(\"Validation data :\", val_imgs.shape, \"   Label: \", val_y.shape) \n",
    "print(\"Test data :\", test_x.shape, \"         Label: \", test_y.shape) "
   ]
  },
  {
   "cell_type": "markdown",
   "metadata": {},
   "source": [
    "### Save train, validation, test data"
   ]
  },
  {
   "cell_type": "code",
   "execution_count": 233,
   "metadata": {},
   "outputs": [],
   "source": [
    "np.save('train_imgs.npy', train_imgs)\n",
    "np.save('train_y.npy', train_y)\n",
    "np.save('val_imgs.npy', val_imgs)\n",
    "np.save('val_y.npy', val_y)\n",
    "np.save('data_x.npy', data_x)\n",
    "np.save('data_y.npy', data_y)\n",
    "np.save('test_x.npy', test_x)\n",
    "np.save('test_y.npy', test_y)"
   ]
  },
  {
   "cell_type": "markdown",
   "metadata": {},
   "source": [
    "### Load "
   ]
  },
  {
   "cell_type": "code",
   "execution_count": 234,
   "metadata": {},
   "outputs": [],
   "source": [
    "train_imgs = np.load('train_imgs.npy')\n",
    "train_y = np.load('train_y.npy')\n",
    "val_imgs = np.load('val_imgs.npy')\n",
    "val_y = np.load('val_y.npy')\n",
    "\n",
    "data_x = np.load('data_x.npy')\n",
    "data_y = np.load('data_y.npy')\n",
    "test_x = np.load('test_x.npy')\n",
    "test_y = np.load('test_y.npy')"
   ]
  },
  {
   "cell_type": "code",
   "execution_count": 235,
   "metadata": {},
   "outputs": [
    {
     "data": {
      "text/plain": [
       "((257, 32, 32, 3), (65, 32, 32, 3), (257,), (65,))"
      ]
     },
     "execution_count": 235,
     "metadata": {},
     "output_type": "execute_result"
    }
   ],
   "source": [
    "data_x.shape, test_x.shape, data_y.shape, test_y.shape"
   ]
  },
  {
   "cell_type": "code",
   "execution_count": 236,
   "metadata": {},
   "outputs": [
    {
     "data": {
      "text/plain": [
       "((205, 32, 32, 3), (52, 32, 32, 3), (205,), (52,))"
      ]
     },
     "execution_count": 236,
     "metadata": {},
     "output_type": "execute_result"
    }
   ],
   "source": [
    "train_imgs.shape, val_imgs.shape, train_y.shape, val_y.shape"
   ]
  },
  {
   "cell_type": "markdown",
   "metadata": {},
   "source": [
    "## Training"
   ]
  },
  {
   "cell_type": "markdown",
   "metadata": {},
   "source": [
    "### Training & Validation set features:\n"
   ]
  },
  {
   "cell_type": "markdown",
   "metadata": {},
   "source": [
    "#### Data visualization:"
   ]
  },
  {
   "cell_type": "code",
   "execution_count": 237,
   "metadata": {},
   "outputs": [],
   "source": [
    "infected_img = train_imgs[train_y == 0][0]\n",
    "uninfected_img = train_imgs[train_y == 1][0]\n",
    "classes = []\n",
    "classes.append(infected_img)\n",
    "classes.append(uninfected_img)\n",
    "class_label= []\n",
    "class_label.append('infected image')\n",
    "class_label.append('uninfected image')"
   ]
  },
  {
   "cell_type": "code",
   "execution_count": 239,
   "metadata": {},
   "outputs": [],
   "source": [
    "hog_img = np.zeros((2, 32, 32))\n",
    "lbp_img = np.zeros((2, 32, 32))\n",
    "#sift = np.zeros((2, 32, 32, 3), dtype='uint8')\n",
    "#surf = np.zeros((2, 32, 32, 3), dtype='uint8')\n",
    "\n",
    "for i in range(2):\n",
    "    temp1, hog_img[i] = hog(classes[i], block_norm='L2', visualize=True)\n",
    "    lbp_img[i] = local_binary_pattern(cv2.cvtColor(classes[i], cv2.COLOR_RGB2GRAY), 10, 3)\n",
    "    #sift[i] = draw_key_points(cv2.cvtColor(classes[i], cv2.COLOR_RGB2GRAY), return_sift_kp(classes[i]))\n",
    "    #surf[i] = draw_key_points(cv2.cvtColor(classes[i], cv2.COLOR_RGB2GRAY), return_surf_kp(classes[i]))"
   ]
  },
  {
   "cell_type": "code",
   "execution_count": 240,
   "metadata": {},
   "outputs": [],
   "source": [
    "data_vis = []\n",
    "for i in range(len(classes)):\n",
    "    data_vis.append(classes[i])\n",
    "for i in range(len(classes)):\n",
    "    data_vis.append(hog_img[i])\n",
    "for i in range(len(classes)):\n",
    "    data_vis.append(lbp_img[i])\n",
    "for i in range(len(classes)):\n",
    "    data_vis.append(sift[i])\n",
    "for i in range(len(classes)):\n",
    "    data_vis.append(surf[i])\n",
    "\n",
    "img_name_arr = []\n",
    "for i in range(len(classes)):\n",
    "    img_name_arr.append(class_label[i])\n",
    "for i in range(len(classes)):\n",
    "    img_name_arr.append('HOG')\n",
    "for i in range(len(classes)):\n",
    "    img_name_arr.append('LBP')\n",
    "for i in range(len(classes)):\n",
    "    img_name_arr.append('SIFT')\n",
    "for i in range(len(classes)):\n",
    "    img_name_arr.append('SURF')"
   ]
  },
  {
   "cell_type": "code",
   "execution_count": 241,
   "metadata": {},
   "outputs": [
    {
     "data": {
      "image/png": "[encoded data removed]",
      "text/plain": [
       "<Figure size 288x720 with 10 Axes>"
      ]
     },
     "metadata": {},
     "output_type": "display_data"
    }
   ],
   "source": [
    "plt.figure(figsize=(4,10))\n",
    "for i, img in enumerate(data_vis, start=1):\n",
    "    plt.subplot(5, 2, i)\n",
    "    plt.title(img_name_arr[i-1])\n",
    "    frame1 = plt.gca()\n",
    "    for tick in frame1.axes.get_xticklines():\n",
    "        tick.set_visible(False)\n",
    "    for tick in frame1.axes.get_yticklines():\n",
    "        tick.set_visible(False)\n",
    "    for xlabel_i in frame1.axes.get_xticklabels():\n",
    "        xlabel_i.set_visible(False)\n",
    "    for xlabel_i in frame1.axes.get_yticklabels():\n",
    "        xlabel_i.set_visible(False)\n",
    "    plt.imshow(data_vis[i-1], cmap='gray')\n",
    "plt.savefig('output/feature_visualization.png')\n",
    "plt.show()\n"
   ]
  },
  {
   "cell_type": "markdown",
   "metadata": {},
   "source": [
    "### HOG features:"
   ]
  },
  {
   "cell_type": "code",
   "execution_count": 242,
   "metadata": {},
   "outputs": [],
   "source": [
    "def get_hog(images, name='hog', save=False):\n",
    "    # HOG Feature Extraction\n",
    "    cell_size = (4, 4)    # h x w in pixels\n",
    "    block_size = (2, 2)     # h x w in cells\n",
    "    nbins = 9\n",
    "    \n",
    "    # winSize is the size of the image cropped to an multiple of the cell size\n",
    "    # cell_size is the size of the cells of the img patch over which to calculate the histograms\n",
    "    # block_size is the number of cells which fit in the patch\n",
    "    hog_desc = cv2.HOGDescriptor(_winSize=(images[0].shape[1] // cell_size[1] * cell_size[1],\n",
    "                                              images[0].shape[0] // cell_size[0] * cell_size[0]),\n",
    "                                    _blockSize=(block_size[1] * cell_size[1],\n",
    "                                                block_size[0] * cell_size[0]),\n",
    "                                    _blockStride=(cell_size[1], cell_size[0]),\n",
    "                                    _cellSize=(cell_size[1], cell_size[0]),\n",
    "                                    _nbins=nbins)\n",
    "    \n",
    "    def get_image_hog(image):\n",
    "        # HOG feature \n",
    "        f = hog_desc.compute(image)\n",
    "        \n",
    "        res = np.array(f)\n",
    "        return res.flatten()\n",
    "    \n",
    "    # HOG for all images\n",
    "    features = []\n",
    "    for i, img in enumerate(images):\n",
    "        f = get_image_hog(cv2.cvtColor(img, cv2.COLOR_RGB2GRAY))\n",
    "        features.append(f)\n",
    "    \n",
    "    result = np.array(features)\n",
    "    \n",
    "    if save:\n",
    "        save_feature(result, name)\n",
    "    \n",
    "    return result"
   ]
  },
  {
   "cell_type": "code",
   "execution_count": 243,
   "metadata": {},
   "outputs": [
    {
     "name": "stdout",
     "output_type": "stream",
     "text": [
      "Feature saved with name cache/hog_train.pkl\n",
      "Feature saved with name cache/hog_val.pkl\n"
     ]
    }
   ],
   "source": [
    "hog_train = get_hog(train_imgs, name='hog_train', save=True)\n",
    "hog_val = get_hog(val_imgs, name='hog_val', save=True)"
   ]
  },
  {
   "cell_type": "code",
   "execution_count": 244,
   "metadata": {},
   "outputs": [],
   "source": [
    "hog_train = load_feature('hog_train.pkl')\n",
    "hog_val = load_feature('hog_val.pkl')"
   ]
  },
  {
   "cell_type": "code",
   "execution_count": 245,
   "metadata": {},
   "outputs": [
    {
     "data": {
      "text/plain": [
       "((205, 1764), (52, 1764))"
      ]
     },
     "execution_count": 245,
     "metadata": {},
     "output_type": "execute_result"
    }
   ],
   "source": [
    "hog_train.shape, hog_val.shape"
   ]
  },
  {
   "cell_type": "markdown",
   "metadata": {},
   "source": [
    "### LBP features:"
   ]
  },
  {
   "cell_type": "code",
   "execution_count": 246,
   "metadata": {},
   "outputs": [
    {
     "name": "stdout",
     "output_type": "stream",
     "text": [
      "Feature saved with name cache/lbp_train.pkl\n",
      "Feature saved with name cache/lbp_val.pkl\n"
     ]
    }
   ],
   "source": [
    "lbp_train = get_lbp(train_imgs, name='lbp_train', save=True)\n",
    "lbp_val = get_lbp(val_imgs, name='lbp_val', save=True)"
   ]
  },
  {
   "cell_type": "code",
   "execution_count": 247,
   "metadata": {},
   "outputs": [],
   "source": [
    "lbp_train = load_feature('lbp_train.pkl')\n",
    "lbp_val = load_feature('lbp_val.pkl')"
   ]
  },
  {
   "cell_type": "code",
   "execution_count": 248,
   "metadata": {},
   "outputs": [
    {
     "data": {
      "text/plain": [
       "((205, 1024), (52, 1024))"
      ]
     },
     "execution_count": 248,
     "metadata": {},
     "output_type": "execute_result"
    }
   ],
   "source": [
    "lbp_train.shape, lbp_val.shape"
   ]
  },
  {
   "cell_type": "markdown",
   "metadata": {},
   "source": [
    "### KAZE Features:"
   ]
  },
  {
   "cell_type": "code",
   "execution_count": 249,
   "metadata": {},
   "outputs": [
    {
     "name": "stdout",
     "output_type": "stream",
     "text": [
      "Feature saved with name cache/kaze_train.pkl\n",
      "Feature saved with name cache/kaze_val.pkl\n"
     ]
    }
   ],
   "source": [
    "kaze_train = get_kaze(train_imgs, name='kaze_train', save=True)\n",
    "kaze_val = get_kaze(val_imgs, name='kaze_val', save=True)"
   ]
  },
  {
   "cell_type": "code",
   "execution_count": 250,
   "metadata": {},
   "outputs": [],
   "source": [
    "kaze_train = load_feature('kaze_train.pkl')\n",
    "kaze_val = load_feature('kaze_val.pkl')"
   ]
  },
  {
   "cell_type": "code",
   "execution_count": 251,
   "metadata": {},
   "outputs": [
    {
     "data": {
      "text/plain": [
       "((205, 2048), (52, 2048))"
      ]
     },
     "execution_count": 251,
     "metadata": {},
     "output_type": "execute_result"
    }
   ],
   "source": [
    "kaze_train.shape, kaze_val.shape"
   ]
  },
  {
   "cell_type": "markdown",
   "metadata": {},
   "source": [
    "### SIFT Features:"
   ]
  },
  {
   "cell_type": "code",
   "execution_count": 252,
   "metadata": {},
   "outputs": [
    {
     "ename": "AttributeError",
     "evalue": "module 'cv2.cv2' has no attribute 'xfeatures2d'",
     "output_type": "error",
     "traceback": [
      "\u001b[1;31m---------------------------------------------------------------------------\u001b[0m",
      "\u001b[1;31mAttributeError\u001b[0m                            Traceback (most recent call last)",
      "\u001b[1;32m<ipython-input-252-6175d6a65dbf>\u001b[0m in \u001b[0;36m<module>\u001b[1;34m\u001b[0m\n\u001b[1;32m----> 1\u001b[1;33m \u001b[0msift_train\u001b[0m \u001b[1;33m=\u001b[0m \u001b[0mget_sift\u001b[0m\u001b[1;33m(\u001b[0m\u001b[0mtrain_imgs\u001b[0m\u001b[1;33m,\u001b[0m \u001b[0mname\u001b[0m\u001b[1;33m=\u001b[0m\u001b[1;34m'sift_train'\u001b[0m\u001b[1;33m,\u001b[0m \u001b[0msave\u001b[0m\u001b[1;33m=\u001b[0m\u001b[1;32mTrue\u001b[0m\u001b[1;33m)\u001b[0m\u001b[1;33m\u001b[0m\u001b[1;33m\u001b[0m\u001b[0m\n\u001b[0m\u001b[0;32m      2\u001b[0m \u001b[0msift_val\u001b[0m \u001b[1;33m=\u001b[0m \u001b[0mget_sift\u001b[0m\u001b[1;33m(\u001b[0m\u001b[0mval_imgs\u001b[0m\u001b[1;33m,\u001b[0m \u001b[0mname\u001b[0m\u001b[1;33m=\u001b[0m\u001b[1;34m'sift_val'\u001b[0m\u001b[1;33m,\u001b[0m \u001b[0msave\u001b[0m\u001b[1;33m=\u001b[0m\u001b[1;32mTrue\u001b[0m\u001b[1;33m)\u001b[0m\u001b[1;33m\u001b[0m\u001b[1;33m\u001b[0m\u001b[0m\n",
      "\u001b[1;32m<ipython-input-12-e4aa082b293c>\u001b[0m in \u001b[0;36mget_sift\u001b[1;34m(images, name, save)\u001b[0m\n\u001b[0;32m     25\u001b[0m     \u001b[0mfeatures\u001b[0m \u001b[1;33m=\u001b[0m \u001b[1;33m[\u001b[0m\u001b[1;33m]\u001b[0m\u001b[1;33m\u001b[0m\u001b[1;33m\u001b[0m\u001b[0m\n\u001b[0;32m     26\u001b[0m     \u001b[1;32mfor\u001b[0m \u001b[0mi\u001b[0m\u001b[1;33m,\u001b[0m \u001b[0mimg\u001b[0m \u001b[1;32min\u001b[0m \u001b[0menumerate\u001b[0m\u001b[1;33m(\u001b[0m\u001b[0mimages\u001b[0m\u001b[1;33m)\u001b[0m\u001b[1;33m:\u001b[0m\u001b[1;33m\u001b[0m\u001b[1;33m\u001b[0m\u001b[0m\n\u001b[1;32m---> 27\u001b[1;33m         \u001b[0mdsc\u001b[0m \u001b[1;33m=\u001b[0m \u001b[0mget_image_sift\u001b[0m\u001b[1;33m(\u001b[0m\u001b[0mimg\u001b[0m\u001b[1;33m)\u001b[0m\u001b[1;33m\u001b[0m\u001b[1;33m\u001b[0m\u001b[0m\n\u001b[0m\u001b[0;32m     28\u001b[0m         \u001b[0mfeatures\u001b[0m\u001b[1;33m.\u001b[0m\u001b[0mappend\u001b[0m\u001b[1;33m(\u001b[0m\u001b[0mdsc\u001b[0m\u001b[1;33m)\u001b[0m\u001b[1;33m\u001b[0m\u001b[1;33m\u001b[0m\u001b[0m\n\u001b[0;32m     29\u001b[0m \u001b[1;33m\u001b[0m\u001b[0m\n",
      "\u001b[1;32m<ipython-input-12-e4aa082b293c>\u001b[0m in \u001b[0;36mget_image_sift\u001b[1;34m(image, vector_size)\u001b[0m\n\u001b[0;32m      3\u001b[0m     \u001b[1;31m# SIFT descriptor for 1 image\u001b[0m\u001b[1;33m\u001b[0m\u001b[1;33m\u001b[0m\u001b[1;33m\u001b[0m\u001b[0m\n\u001b[0;32m      4\u001b[0m     \u001b[1;32mdef\u001b[0m \u001b[0mget_image_sift\u001b[0m\u001b[1;33m(\u001b[0m\u001b[0mimage\u001b[0m\u001b[1;33m,\u001b[0m \u001b[0mvector_size\u001b[0m\u001b[1;33m=\u001b[0m\u001b[1;36m15\u001b[0m\u001b[1;33m)\u001b[0m\u001b[1;33m:\u001b[0m\u001b[1;33m\u001b[0m\u001b[1;33m\u001b[0m\u001b[0m\n\u001b[1;32m----> 5\u001b[1;33m         \u001b[0malg\u001b[0m \u001b[1;33m=\u001b[0m \u001b[0mcv2\u001b[0m\u001b[1;33m.\u001b[0m\u001b[0mxfeatures2d\u001b[0m\u001b[1;33m.\u001b[0m\u001b[0mSIFT_create\u001b[0m\u001b[1;33m(\u001b[0m\u001b[1;33m)\u001b[0m\u001b[1;33m\u001b[0m\u001b[1;33m\u001b[0m\u001b[0m\n\u001b[0m\u001b[0;32m      6\u001b[0m         \u001b[0mkps\u001b[0m \u001b[1;33m=\u001b[0m \u001b[0malg\u001b[0m\u001b[1;33m.\u001b[0m\u001b[0mdetect\u001b[0m\u001b[1;33m(\u001b[0m\u001b[0mimage\u001b[0m\u001b[1;33m,\u001b[0m \u001b[1;32mNone\u001b[0m\u001b[1;33m)\u001b[0m\u001b[1;33m\u001b[0m\u001b[1;33m\u001b[0m\u001b[0m\n\u001b[0;32m      7\u001b[0m         \u001b[0mkps\u001b[0m \u001b[1;33m=\u001b[0m \u001b[0msorted\u001b[0m\u001b[1;33m(\u001b[0m\u001b[0mkps\u001b[0m\u001b[1;33m,\u001b[0m \u001b[0mkey\u001b[0m\u001b[1;33m=\u001b[0m\u001b[1;32mlambda\u001b[0m \u001b[0mx\u001b[0m\u001b[1;33m:\u001b[0m \u001b[1;33m-\u001b[0m\u001b[0mx\u001b[0m\u001b[1;33m.\u001b[0m\u001b[0mresponse\u001b[0m\u001b[1;33m)\u001b[0m\u001b[1;33m[\u001b[0m\u001b[1;33m:\u001b[0m\u001b[0mvector_size\u001b[0m\u001b[1;33m]\u001b[0m\u001b[1;33m\u001b[0m\u001b[1;33m\u001b[0m\u001b[0m\n",
      "\u001b[1;31mAttributeError\u001b[0m: module 'cv2.cv2' has no attribute 'xfeatures2d'"
     ]
    }
   ],
   "source": [
    "sift_train = get_sift(train_imgs, name='sift_train', save=True)\n",
    "sift_val = get_sift(val_imgs, name='sift_val', save=True)"
   ]
  },
  {
   "cell_type": "code",
   "execution_count": null,
   "metadata": {},
   "outputs": [],
   "source": [
    "sift_train = load_feature('cache/sift_train.pkl')\n",
    "sift_val = load_feature('cache/sift_val.pkl')"
   ]
  },
  {
   "cell_type": "code",
   "execution_count": null,
   "metadata": {},
   "outputs": [],
   "source": [
    "sift_train.shape, sift_val.shape"
   ]
  },
  {
   "cell_type": "markdown",
   "metadata": {},
   "source": [
    "### SURF Features:"
   ]
  },
  {
   "cell_type": "code",
   "execution_count": 253,
   "metadata": {},
   "outputs": [
    {
     "ename": "AttributeError",
     "evalue": "module 'cv2.cv2' has no attribute 'xfeatures2d'",
     "output_type": "error",
     "traceback": [
      "\u001b[1;31m---------------------------------------------------------------------------\u001b[0m",
      "\u001b[1;31mAttributeError\u001b[0m                            Traceback (most recent call last)",
      "\u001b[1;32m<ipython-input-253-119373038c0c>\u001b[0m in \u001b[0;36m<module>\u001b[1;34m\u001b[0m\n\u001b[1;32m----> 1\u001b[1;33m \u001b[0msurf_train\u001b[0m \u001b[1;33m=\u001b[0m \u001b[0mget_surf\u001b[0m\u001b[1;33m(\u001b[0m\u001b[0mtrain_imgs\u001b[0m\u001b[1;33m,\u001b[0m \u001b[0mname\u001b[0m\u001b[1;33m=\u001b[0m\u001b[1;34m'surf_train'\u001b[0m\u001b[1;33m,\u001b[0m \u001b[0msave\u001b[0m\u001b[1;33m=\u001b[0m\u001b[1;32mTrue\u001b[0m\u001b[1;33m)\u001b[0m\u001b[1;33m\u001b[0m\u001b[1;33m\u001b[0m\u001b[0m\n\u001b[0m\u001b[0;32m      2\u001b[0m \u001b[0msurf_val\u001b[0m \u001b[1;33m=\u001b[0m \u001b[0mget_surf\u001b[0m\u001b[1;33m(\u001b[0m\u001b[0mval_imgs\u001b[0m\u001b[1;33m,\u001b[0m \u001b[0mname\u001b[0m\u001b[1;33m=\u001b[0m\u001b[1;34m'surf_val'\u001b[0m\u001b[1;33m,\u001b[0m \u001b[0msave\u001b[0m\u001b[1;33m=\u001b[0m\u001b[1;32mTrue\u001b[0m\u001b[1;33m)\u001b[0m\u001b[1;33m\u001b[0m\u001b[1;33m\u001b[0m\u001b[0m\n",
      "\u001b[1;32m<ipython-input-14-8f4c61c76831>\u001b[0m in \u001b[0;36mget_surf\u001b[1;34m(images, name, save)\u001b[0m\n\u001b[0;32m     24\u001b[0m     \u001b[0mfeatures\u001b[0m \u001b[1;33m=\u001b[0m \u001b[1;33m[\u001b[0m\u001b[1;33m]\u001b[0m\u001b[1;33m\u001b[0m\u001b[1;33m\u001b[0m\u001b[0m\n\u001b[0;32m     25\u001b[0m     \u001b[1;32mfor\u001b[0m \u001b[0mi\u001b[0m\u001b[1;33m,\u001b[0m \u001b[0mimg\u001b[0m \u001b[1;32min\u001b[0m \u001b[0menumerate\u001b[0m\u001b[1;33m(\u001b[0m\u001b[0mimages\u001b[0m\u001b[1;33m)\u001b[0m\u001b[1;33m:\u001b[0m\u001b[1;33m\u001b[0m\u001b[1;33m\u001b[0m\u001b[0m\n\u001b[1;32m---> 26\u001b[1;33m         \u001b[0mdsc\u001b[0m \u001b[1;33m=\u001b[0m \u001b[0mget_image_surf\u001b[0m\u001b[1;33m(\u001b[0m\u001b[0mimg\u001b[0m\u001b[1;33m)\u001b[0m\u001b[1;33m\u001b[0m\u001b[1;33m\u001b[0m\u001b[0m\n\u001b[0m\u001b[0;32m     27\u001b[0m         \u001b[0mfeatures\u001b[0m\u001b[1;33m.\u001b[0m\u001b[0mappend\u001b[0m\u001b[1;33m(\u001b[0m\u001b[0mdsc\u001b[0m\u001b[1;33m)\u001b[0m\u001b[1;33m\u001b[0m\u001b[1;33m\u001b[0m\u001b[0m\n\u001b[0;32m     28\u001b[0m \u001b[1;33m\u001b[0m\u001b[0m\n",
      "\u001b[1;32m<ipython-input-14-8f4c61c76831>\u001b[0m in \u001b[0;36mget_image_surf\u001b[1;34m(image, vector_size)\u001b[0m\n\u001b[0;32m      2\u001b[0m     \u001b[1;31m# SURF descriptor for 1 image\u001b[0m\u001b[1;33m\u001b[0m\u001b[1;33m\u001b[0m\u001b[1;33m\u001b[0m\u001b[0m\n\u001b[0;32m      3\u001b[0m     \u001b[1;32mdef\u001b[0m \u001b[0mget_image_surf\u001b[0m\u001b[1;33m(\u001b[0m\u001b[0mimage\u001b[0m\u001b[1;33m,\u001b[0m \u001b[0mvector_size\u001b[0m\u001b[1;33m=\u001b[0m\u001b[1;36m4\u001b[0m\u001b[1;33m)\u001b[0m\u001b[1;33m:\u001b[0m\u001b[1;33m\u001b[0m\u001b[1;33m\u001b[0m\u001b[0m\n\u001b[1;32m----> 4\u001b[1;33m         \u001b[0malg\u001b[0m \u001b[1;33m=\u001b[0m \u001b[0mcv2\u001b[0m\u001b[1;33m.\u001b[0m\u001b[0mxfeatures2d\u001b[0m\u001b[1;33m.\u001b[0m\u001b[0mSURF_create\u001b[0m\u001b[1;33m(\u001b[0m\u001b[1;33m)\u001b[0m\u001b[1;33m\u001b[0m\u001b[1;33m\u001b[0m\u001b[0m\n\u001b[0m\u001b[0;32m      5\u001b[0m         \u001b[0mkps\u001b[0m \u001b[1;33m=\u001b[0m \u001b[0malg\u001b[0m\u001b[1;33m.\u001b[0m\u001b[0mdetect\u001b[0m\u001b[1;33m(\u001b[0m\u001b[0mimage\u001b[0m\u001b[1;33m,\u001b[0m \u001b[1;32mNone\u001b[0m\u001b[1;33m)\u001b[0m\u001b[1;33m\u001b[0m\u001b[1;33m\u001b[0m\u001b[0m\n\u001b[0;32m      6\u001b[0m         \u001b[0mkps\u001b[0m \u001b[1;33m=\u001b[0m \u001b[0msorted\u001b[0m\u001b[1;33m(\u001b[0m\u001b[0mkps\u001b[0m\u001b[1;33m,\u001b[0m \u001b[0mkey\u001b[0m\u001b[1;33m=\u001b[0m\u001b[1;32mlambda\u001b[0m \u001b[0mx\u001b[0m\u001b[1;33m:\u001b[0m \u001b[1;33m-\u001b[0m\u001b[0mx\u001b[0m\u001b[1;33m.\u001b[0m\u001b[0mresponse\u001b[0m\u001b[1;33m)\u001b[0m\u001b[1;33m[\u001b[0m\u001b[1;33m:\u001b[0m\u001b[0mvector_size\u001b[0m\u001b[1;33m]\u001b[0m\u001b[1;33m\u001b[0m\u001b[1;33m\u001b[0m\u001b[0m\n",
      "\u001b[1;31mAttributeError\u001b[0m: module 'cv2.cv2' has no attribute 'xfeatures2d'"
     ]
    }
   ],
   "source": [
    "surf_train = get_surf(train_imgs, name='surf_train', save=True)\n",
    "surf_val = get_surf(val_imgs, name='surf_val', save=True)"
   ]
  },
  {
   "cell_type": "code",
   "execution_count": 254,
   "metadata": {},
   "outputs": [
    {
     "ename": "FileNotFoundError",
     "evalue": "[Errno 2] No such file or directory: 'cache/surf_train.pkl'",
     "output_type": "error",
     "traceback": [
      "\u001b[1;31m---------------------------------------------------------------------------\u001b[0m",
      "\u001b[1;31mFileNotFoundError\u001b[0m                         Traceback (most recent call last)",
      "\u001b[1;32m<ipython-input-254-0b67bf6012c7>\u001b[0m in \u001b[0;36m<module>\u001b[1;34m\u001b[0m\n\u001b[1;32m----> 1\u001b[1;33m \u001b[0msurf_train\u001b[0m \u001b[1;33m=\u001b[0m \u001b[0mload_feature\u001b[0m\u001b[1;33m(\u001b[0m\u001b[1;34m'cache/surf_train.pkl'\u001b[0m\u001b[1;33m)\u001b[0m\u001b[1;33m\u001b[0m\u001b[1;33m\u001b[0m\u001b[0m\n\u001b[0m\u001b[0;32m      2\u001b[0m \u001b[0msurf_val\u001b[0m \u001b[1;33m=\u001b[0m \u001b[0mload_feature\u001b[0m\u001b[1;33m(\u001b[0m\u001b[1;34m'cache/surf_val.pkl'\u001b[0m\u001b[1;33m)\u001b[0m\u001b[1;33m\u001b[0m\u001b[1;33m\u001b[0m\u001b[0m\n",
      "\u001b[1;32m<ipython-input-58-3d6318a3fb0c>\u001b[0m in \u001b[0;36mload_feature\u001b[1;34m(feature_name)\u001b[0m\n\u001b[0;32m      7\u001b[0m \u001b[1;33m\u001b[0m\u001b[0m\n\u001b[0;32m      8\u001b[0m \u001b[1;32mdef\u001b[0m \u001b[0mload_feature\u001b[0m\u001b[1;33m(\u001b[0m\u001b[0mfeature_name\u001b[0m\u001b[1;33m)\u001b[0m\u001b[1;33m:\u001b[0m\u001b[1;33m\u001b[0m\u001b[1;33m\u001b[0m\u001b[0m\n\u001b[1;32m----> 9\u001b[1;33m     \u001b[1;32mreturn\u001b[0m \u001b[0mpickle\u001b[0m\u001b[1;33m.\u001b[0m\u001b[0mload\u001b[0m\u001b[1;33m(\u001b[0m\u001b[0mopen\u001b[0m\u001b[1;33m(\u001b[0m\u001b[0mfeature_name\u001b[0m\u001b[1;33m,\u001b[0m \u001b[1;34m'rb'\u001b[0m\u001b[1;33m)\u001b[0m\u001b[1;33m)\u001b[0m\u001b[1;33m.\u001b[0m\u001b[0mA\u001b[0m\u001b[1;33m\u001b[0m\u001b[1;33m\u001b[0m\u001b[0m\n\u001b[0m",
      "\u001b[1;31mFileNotFoundError\u001b[0m: [Errno 2] No such file or directory: 'cache/surf_train.pkl'"
     ]
    }
   ],
   "source": [
    "surf_train = load_feature('cache/surf_train.pkl')\n",
    "surf_val = load_feature('cache/surf_val.pkl')"
   ]
  },
  {
   "cell_type": "code",
   "execution_count": 255,
   "metadata": {},
   "outputs": [
    {
     "ename": "NameError",
     "evalue": "name 'surf_train' is not defined",
     "output_type": "error",
     "traceback": [
      "\u001b[1;31m---------------------------------------------------------------------------\u001b[0m",
      "\u001b[1;31mNameError\u001b[0m                                 Traceback (most recent call last)",
      "\u001b[1;32m<ipython-input-255-ecaac7e02c2f>\u001b[0m in \u001b[0;36m<module>\u001b[1;34m\u001b[0m\n\u001b[1;32m----> 1\u001b[1;33m \u001b[0msurf_train\u001b[0m\u001b[1;33m.\u001b[0m\u001b[0mshape\u001b[0m\u001b[1;33m,\u001b[0m \u001b[0msurf_val\u001b[0m\u001b[1;33m.\u001b[0m\u001b[0mshape\u001b[0m\u001b[1;33m\u001b[0m\u001b[1;33m\u001b[0m\u001b[0m\n\u001b[0m",
      "\u001b[1;31mNameError\u001b[0m: name 'surf_train' is not defined"
     ]
    }
   ],
   "source": [
    "surf_train.shape, surf_val.shape"
   ]
  },
  {
   "cell_type": "markdown",
   "metadata": {},
   "source": [
    "### Gabor Features:"
   ]
  },
  {
   "cell_type": "code",
   "execution_count": 256,
   "metadata": {},
   "outputs": [
    {
     "name": "stdout",
     "output_type": "stream",
     "text": [
      "Feature saved with name cache/gabor_train.pkl\n",
      "Feature saved with name cache/gabor_val.pkl\n"
     ]
    }
   ],
   "source": [
    "gabor_train = get_gabor(train_imgs, name='gabor_train', save=True)\n",
    "gabor_val = get_gabor(val_imgs, name='gabor_val', save=True)"
   ]
  },
  {
   "cell_type": "code",
   "execution_count": 257,
   "metadata": {},
   "outputs": [],
   "source": [
    "gabor_train = load_feature('gabor_train.pkl')\n",
    "gabor_val = load_feature('gabor_val.pkl')"
   ]
  },
  {
   "cell_type": "code",
   "execution_count": 258,
   "metadata": {},
   "outputs": [
    {
     "data": {
      "text/plain": [
       "((205, 80), (52, 80))"
      ]
     },
     "execution_count": 258,
     "metadata": {},
     "output_type": "execute_result"
    }
   ],
   "source": [
    "gabor_train.shape, gabor_val.shape"
   ]
  },
  {
   "cell_type": "markdown",
   "metadata": {},
   "source": [
    "### GLCM Features:"
   ]
  },
  {
   "cell_type": "code",
   "execution_count": 259,
   "metadata": {},
   "outputs": [
    {
     "name": "stdout",
     "output_type": "stream",
     "text": [
      "Feature saved with name cache/glcm_train.pkl\n",
      "Feature saved with name cache/glcm_val.pkl\n"
     ]
    }
   ],
   "source": [
    "glcm_train = get_glcm(train_imgs, name='glcm_train', save=True)\n",
    "glcm_val = get_glcm(val_imgs, name='glcm_val', save=True)"
   ]
  },
  {
   "cell_type": "code",
   "execution_count": 260,
   "metadata": {},
   "outputs": [],
   "source": [
    "glcm_train = load_feature('glcm_train.pkl')\n",
    "glcm_val = load_feature('glcm_val.pkl')"
   ]
  },
  {
   "cell_type": "code",
   "execution_count": 261,
   "metadata": {},
   "outputs": [
    {
     "data": {
      "text/plain": [
       "((205, 72), (52, 72))"
      ]
     },
     "execution_count": 261,
     "metadata": {},
     "output_type": "execute_result"
    }
   ],
   "source": [
    "glcm_train.shape, glcm_val.shape"
   ]
  },
  {
   "cell_type": "markdown",
   "metadata": {},
   "source": [
    "### Flattened Image"
   ]
  },
  {
   "cell_type": "markdown",
   "metadata": {},
   "source": [
    "#### RGB:"
   ]
  },
  {
   "cell_type": "code",
   "execution_count": 262,
   "metadata": {},
   "outputs": [
    {
     "name": "stdout",
     "output_type": "stream",
     "text": [
      "Feature saved with name cache/flat_rgb_train.pkl\n",
      "Feature saved with name cache/flat_rgb_val.pkl\n"
     ]
    }
   ],
   "source": [
    "flat_rgb_train = get_flattened(train_imgs, None, name='flat_rgb_train', save=True)\n",
    "flat_rgb_val = get_flattened(val_imgs, None, name='flat_rgb_val', save=True)"
   ]
  },
  {
   "cell_type": "code",
   "execution_count": 263,
   "metadata": {},
   "outputs": [],
   "source": [
    "flat_rgb_train = load_feature('flat_rgb_train.pkl')\n",
    "flat_rgb_val = load_feature('flat_rgb_val.pkl')"
   ]
  },
  {
   "cell_type": "code",
   "execution_count": 264,
   "metadata": {},
   "outputs": [
    {
     "data": {
      "text/plain": [
       "((205, 3072), (52, 3072))"
      ]
     },
     "execution_count": 264,
     "metadata": {},
     "output_type": "execute_result"
    }
   ],
   "source": [
    "flat_rgb_train.shape, flat_rgb_val.shape"
   ]
  },
  {
   "cell_type": "markdown",
   "metadata": {},
   "source": [
    "#### GRAY:"
   ]
  },
  {
   "cell_type": "code",
   "execution_count": 265,
   "metadata": {},
   "outputs": [
    {
     "name": "stdout",
     "output_type": "stream",
     "text": [
      "Feature saved with name cache/flat_gray_train.pkl\n",
      "Feature saved with name cache/flat_gray_val.pkl\n"
     ]
    }
   ],
   "source": [
    "flat_gray_train = get_flattened(train_imgs, name='flat_gray_train', save=True)\n",
    "flat_gray_val = get_flattened(val_imgs, name='flat_gray_val', save=True)"
   ]
  },
  {
   "cell_type": "code",
   "execution_count": 266,
   "metadata": {},
   "outputs": [],
   "source": [
    "flat_gray_train = load_feature('flat_gray_train.pkl')\n",
    "flat_gray_val = load_feature('flat_gray_val.pkl')"
   ]
  },
  {
   "cell_type": "code",
   "execution_count": 267,
   "metadata": {},
   "outputs": [
    {
     "data": {
      "text/plain": [
       "((205, 1024), (52, 1024))"
      ]
     },
     "execution_count": 267,
     "metadata": {},
     "output_type": "execute_result"
    }
   ],
   "source": [
    "flat_gray_train.shape, flat_gray_val.shape"
   ]
  },
  {
   "cell_type": "markdown",
   "metadata": {},
   "source": [
    "#### Color Histogram:"
   ]
  },
  {
   "cell_type": "code",
   "execution_count": 268,
   "metadata": {},
   "outputs": [
    {
     "name": "stdout",
     "output_type": "stream",
     "text": [
      "Feature saved with name cache/hist_train.pkl\n",
      "Feature saved with name cache/hist_val.pkl\n"
     ]
    }
   ],
   "source": [
    "hist_train = get_color_hist(train_imgs, name='hist_train', save=True)\n",
    "hist_val = get_color_hist(val_imgs, name='hist_val', save=True)"
   ]
  },
  {
   "cell_type": "code",
   "execution_count": 269,
   "metadata": {},
   "outputs": [],
   "source": [
    "hist_train = load_feature('hist_train.pkl')\n",
    "hist_val = load_feature('hist_val.pkl')"
   ]
  },
  {
   "cell_type": "code",
   "execution_count": 270,
   "metadata": {},
   "outputs": [
    {
     "data": {
      "text/plain": [
       "((205, 512), (52, 512))"
      ]
     },
     "execution_count": 270,
     "metadata": {},
     "output_type": "execute_result"
    }
   ],
   "source": [
    "hist_train.shape, hist_val.shape"
   ]
  },
  {
   "cell_type": "markdown",
   "metadata": {},
   "source": [
    "### Reduce Features by PCA:"
   ]
  },
  {
   "cell_type": "markdown",
   "metadata": {},
   "source": [
    "#### HOG Features:"
   ]
  },
  {
   "cell_type": "code",
   "execution_count": 271,
   "metadata": {},
   "outputs": [],
   "source": [
    "# norm_hog_train, norm_hog_val = norm_features_minmax(hog_train, hog_val)\n",
    "norm_hog_train, norm_hog_val = norm_features_zscore(hog_train, hog_val)"
   ]
  },
  {
   "cell_type": "code",
   "execution_count": 272,
   "metadata": {},
   "outputs": [],
   "source": [
    "pca = PCA(n_components=10)\n",
    "pca_hog_train = pca.fit_transform(norm_hog_train)\n",
    "pca_hog_val = pca.transform(norm_hog_val)"
   ]
  },
  {
   "cell_type": "code",
   "execution_count": 273,
   "metadata": {},
   "outputs": [],
   "source": [
    "np.save('pca_hog_train.npy', pca_hog_train)\n",
    "np.save('pca_hog_val.npy', pca_hog_val)"
   ]
  },
  {
   "cell_type": "code",
   "execution_count": 274,
   "metadata": {},
   "outputs": [],
   "source": [
    "pca_hog_train = np.load('pca_hog_train.npy')\n",
    "pca_hog_val = np.load('pca_hog_val.npy')"
   ]
  },
  {
   "cell_type": "code",
   "execution_count": 275,
   "metadata": {},
   "outputs": [
    {
     "data": {
      "text/plain": [
       "((205, 10), (52, 10))"
      ]
     },
     "execution_count": 275,
     "metadata": {},
     "output_type": "execute_result"
    }
   ],
   "source": [
    "pca_hog_train.shape, pca_hog_val.shape"
   ]
  },
  {
   "cell_type": "markdown",
   "metadata": {},
   "source": [
    "#### LBP Features:"
   ]
  },
  {
   "cell_type": "code",
   "execution_count": 276,
   "metadata": {},
   "outputs": [],
   "source": [
    "# norm_lbp_train, norm_lbp_val = norm_features_minmax(lbp_train, lbp_val)\n",
    "norm_lbp_train, norm_lbp_val = norm_features_zscore(lbp_train, lbp_val)"
   ]
  },
  {
   "cell_type": "code",
   "execution_count": 277,
   "metadata": {},
   "outputs": [],
   "source": [
    "pca = PCA(n_components=10)\n",
    "pca_lbp_train = pca.fit_transform(norm_lbp_train)\n",
    "pca_lbp_val = pca.transform(norm_lbp_val)"
   ]
  },
  {
   "cell_type": "code",
   "execution_count": 278,
   "metadata": {},
   "outputs": [],
   "source": [
    "np.save('pca_lbp_train.npy', pca_lbp_train)\n",
    "np.save('pca_lbp_val.npy', pca_lbp_val)"
   ]
  },
  {
   "cell_type": "code",
   "execution_count": 279,
   "metadata": {},
   "outputs": [],
   "source": [
    "pca_lbp_train = np.load('pca_lbp_train.npy')\n",
    "pca_lbp_val = np.load('pca_lbp_val.npy')"
   ]
  },
  {
   "cell_type": "code",
   "execution_count": 280,
   "metadata": {},
   "outputs": [
    {
     "data": {
      "text/plain": [
       "((205, 10), (52, 10))"
      ]
     },
     "execution_count": 280,
     "metadata": {},
     "output_type": "execute_result"
    }
   ],
   "source": [
    "pca_lbp_train.shape, pca_lbp_val.shape"
   ]
  },
  {
   "cell_type": "markdown",
   "metadata": {},
   "source": [
    "#### KAZE Features:"
   ]
  },
  {
   "cell_type": "code",
   "execution_count": 281,
   "metadata": {},
   "outputs": [],
   "source": [
    "# norm_kaze_train, norm_kaze_val = norm_features_minmax(kaze_train, kaze_val)\n",
    "norm_kaze_train, norm_kaze_val = norm_features_zscore(kaze_train, kaze_val)"
   ]
  },
  {
   "cell_type": "code",
   "execution_count": 282,
   "metadata": {},
   "outputs": [],
   "source": [
    "pca = PCA(n_components=10)\n",
    "pca_kaze_train = pca.fit_transform(norm_kaze_train)\n",
    "pca_kaze_val = pca.transform(norm_kaze_val)"
   ]
  },
  {
   "cell_type": "code",
   "execution_count": 283,
   "metadata": {},
   "outputs": [],
   "source": [
    "np.save('pca_kaze_train.npy', pca_kaze_train)\n",
    "np.save('pca_kaze_val.npy', pca_kaze_val)"
   ]
  },
  {
   "cell_type": "code",
   "execution_count": 284,
   "metadata": {},
   "outputs": [],
   "source": [
    "pca_kaze_train = np.load('pca_kaze_train.npy')\n",
    "pca_kaze_val = np.load('pca_kaze_val.npy')"
   ]
  },
  {
   "cell_type": "code",
   "execution_count": 285,
   "metadata": {},
   "outputs": [
    {
     "data": {
      "text/plain": [
       "((205, 10), (52, 10))"
      ]
     },
     "execution_count": 285,
     "metadata": {},
     "output_type": "execute_result"
    }
   ],
   "source": [
    "pca_kaze_train.shape, pca_kaze_val.shape"
   ]
  },
  {
   "cell_type": "markdown",
   "metadata": {},
   "source": [
    "#### SIFT Features:"
   ]
  },
  {
   "cell_type": "code",
   "execution_count": 286,
   "metadata": {},
   "outputs": [
    {
     "ename": "NameError",
     "evalue": "name 'sift_train' is not defined",
     "output_type": "error",
     "traceback": [
      "\u001b[1;31m---------------------------------------------------------------------------\u001b[0m",
      "\u001b[1;31mNameError\u001b[0m                                 Traceback (most recent call last)",
      "\u001b[1;32m<ipython-input-286-8ef97106d817>\u001b[0m in \u001b[0;36m<module>\u001b[1;34m\u001b[0m\n\u001b[0;32m      1\u001b[0m \u001b[1;31m# norm_sift_train, norm_sift_val = norm_features_minmax(sift_train, sift_val)\u001b[0m\u001b[1;33m\u001b[0m\u001b[1;33m\u001b[0m\u001b[1;33m\u001b[0m\u001b[0m\n\u001b[1;32m----> 2\u001b[1;33m \u001b[0mnorm_sift_train\u001b[0m\u001b[1;33m,\u001b[0m \u001b[0mnorm_sift_val\u001b[0m \u001b[1;33m=\u001b[0m \u001b[0mnorm_features_zscore\u001b[0m\u001b[1;33m(\u001b[0m\u001b[0msift_train\u001b[0m\u001b[1;33m,\u001b[0m \u001b[0msift_val\u001b[0m\u001b[1;33m)\u001b[0m\u001b[1;33m\u001b[0m\u001b[1;33m\u001b[0m\u001b[0m\n\u001b[0m",
      "\u001b[1;31mNameError\u001b[0m: name 'sift_train' is not defined"
     ]
    }
   ],
   "source": [
    "# norm_sift_train, norm_sift_val = norm_features_minmax(sift_train, sift_val)\n",
    "norm_sift_train, norm_sift_val = norm_features_zscore(sift_train, sift_val)"
   ]
  },
  {
   "cell_type": "code",
   "execution_count": 287,
   "metadata": {},
   "outputs": [
    {
     "ename": "NameError",
     "evalue": "name 'norm_sift_train' is not defined",
     "output_type": "error",
     "traceback": [
      "\u001b[1;31m---------------------------------------------------------------------------\u001b[0m",
      "\u001b[1;31mNameError\u001b[0m                                 Traceback (most recent call last)",
      "\u001b[1;32m<ipython-input-287-afbf838fac08>\u001b[0m in \u001b[0;36m<module>\u001b[1;34m\u001b[0m\n\u001b[0;32m      1\u001b[0m \u001b[0mpca\u001b[0m \u001b[1;33m=\u001b[0m \u001b[0mPCA\u001b[0m\u001b[1;33m(\u001b[0m\u001b[0mn_components\u001b[0m\u001b[1;33m=\u001b[0m\u001b[1;36m5\u001b[0m\u001b[1;33m)\u001b[0m\u001b[1;33m\u001b[0m\u001b[1;33m\u001b[0m\u001b[0m\n\u001b[1;32m----> 2\u001b[1;33m \u001b[0mpca_sift_train\u001b[0m \u001b[1;33m=\u001b[0m \u001b[0mpca\u001b[0m\u001b[1;33m.\u001b[0m\u001b[0mfit_transform\u001b[0m\u001b[1;33m(\u001b[0m\u001b[0mnorm_sift_train\u001b[0m\u001b[1;33m)\u001b[0m\u001b[1;33m\u001b[0m\u001b[1;33m\u001b[0m\u001b[0m\n\u001b[0m\u001b[0;32m      3\u001b[0m \u001b[0mpca_sift_val\u001b[0m \u001b[1;33m=\u001b[0m \u001b[0mpca\u001b[0m\u001b[1;33m.\u001b[0m\u001b[0mtransform\u001b[0m\u001b[1;33m(\u001b[0m\u001b[0mnorm_sift_val\u001b[0m\u001b[1;33m)\u001b[0m\u001b[1;33m\u001b[0m\u001b[1;33m\u001b[0m\u001b[0m\n",
      "\u001b[1;31mNameError\u001b[0m: name 'norm_sift_train' is not defined"
     ]
    }
   ],
   "source": [
    "pca = PCA(n_components=5)\n",
    "pca_sift_train = pca.fit_transform(norm_sift_train)\n",
    "pca_sift_val = pca.transform(norm_sift_val)"
   ]
  },
  {
   "cell_type": "code",
   "execution_count": 288,
   "metadata": {},
   "outputs": [
    {
     "ename": "NameError",
     "evalue": "name 'pca_sift_train' is not defined",
     "output_type": "error",
     "traceback": [
      "\u001b[1;31m---------------------------------------------------------------------------\u001b[0m",
      "\u001b[1;31mNameError\u001b[0m                                 Traceback (most recent call last)",
      "\u001b[1;32m<ipython-input-288-88df71ec0249>\u001b[0m in \u001b[0;36m<module>\u001b[1;34m\u001b[0m\n\u001b[1;32m----> 1\u001b[1;33m \u001b[0mnp\u001b[0m\u001b[1;33m.\u001b[0m\u001b[0msave\u001b[0m\u001b[1;33m(\u001b[0m\u001b[1;34m'cache/pca_sift_train.npy'\u001b[0m\u001b[1;33m,\u001b[0m \u001b[0mpca_sift_train\u001b[0m\u001b[1;33m)\u001b[0m\u001b[1;33m\u001b[0m\u001b[1;33m\u001b[0m\u001b[0m\n\u001b[0m\u001b[0;32m      2\u001b[0m \u001b[0mnp\u001b[0m\u001b[1;33m.\u001b[0m\u001b[0msave\u001b[0m\u001b[1;33m(\u001b[0m\u001b[1;34m'cache/pca_sift_val.npy'\u001b[0m\u001b[1;33m,\u001b[0m \u001b[0mpca_sift_val\u001b[0m\u001b[1;33m)\u001b[0m\u001b[1;33m\u001b[0m\u001b[1;33m\u001b[0m\u001b[0m\n",
      "\u001b[1;31mNameError\u001b[0m: name 'pca_sift_train' is not defined"
     ]
    }
   ],
   "source": [
    "np.save('cache/pca_sift_train.npy', pca_sift_train)\n",
    "np.save('cache/pca_sift_val.npy', pca_sift_val)"
   ]
  },
  {
   "cell_type": "code",
   "execution_count": 289,
   "metadata": {},
   "outputs": [
    {
     "ename": "FileNotFoundError",
     "evalue": "[Errno 2] No such file or directory: 'cache/pca_sift_train.npy'",
     "output_type": "error",
     "traceback": [
      "\u001b[1;31m---------------------------------------------------------------------------\u001b[0m",
      "\u001b[1;31mFileNotFoundError\u001b[0m                         Traceback (most recent call last)",
      "\u001b[1;32m<ipython-input-289-2e60c7321d02>\u001b[0m in \u001b[0;36m<module>\u001b[1;34m\u001b[0m\n\u001b[1;32m----> 1\u001b[1;33m \u001b[0mpca_sift_train\u001b[0m \u001b[1;33m=\u001b[0m \u001b[0mnp\u001b[0m\u001b[1;33m.\u001b[0m\u001b[0mload\u001b[0m\u001b[1;33m(\u001b[0m\u001b[1;34m'cache/pca_sift_train.npy'\u001b[0m\u001b[1;33m)\u001b[0m\u001b[1;33m\u001b[0m\u001b[1;33m\u001b[0m\u001b[0m\n\u001b[0m\u001b[0;32m      2\u001b[0m \u001b[0mpca_sift_val\u001b[0m \u001b[1;33m=\u001b[0m \u001b[0mnp\u001b[0m\u001b[1;33m.\u001b[0m\u001b[0mload\u001b[0m\u001b[1;33m(\u001b[0m\u001b[1;34m'cache/pca_sift_val.npy'\u001b[0m\u001b[1;33m)\u001b[0m\u001b[1;33m\u001b[0m\u001b[1;33m\u001b[0m\u001b[0m\n",
      "\u001b[1;32mc:\\users\\toorr\\appdata\\local\\programs\\python\\python37\\lib\\site-packages\\numpy\\lib\\npyio.py\u001b[0m in \u001b[0;36mload\u001b[1;34m(file, mmap_mode, allow_pickle, fix_imports, encoding)\u001b[0m\n\u001b[0;32m    426\u001b[0m         \u001b[0mown_fid\u001b[0m \u001b[1;33m=\u001b[0m \u001b[1;32mFalse\u001b[0m\u001b[1;33m\u001b[0m\u001b[1;33m\u001b[0m\u001b[0m\n\u001b[0;32m    427\u001b[0m     \u001b[1;32melse\u001b[0m\u001b[1;33m:\u001b[0m\u001b[1;33m\u001b[0m\u001b[1;33m\u001b[0m\u001b[0m\n\u001b[1;32m--> 428\u001b[1;33m         \u001b[0mfid\u001b[0m \u001b[1;33m=\u001b[0m \u001b[0mopen\u001b[0m\u001b[1;33m(\u001b[0m\u001b[0mos_fspath\u001b[0m\u001b[1;33m(\u001b[0m\u001b[0mfile\u001b[0m\u001b[1;33m)\u001b[0m\u001b[1;33m,\u001b[0m \u001b[1;34m\"rb\"\u001b[0m\u001b[1;33m)\u001b[0m\u001b[1;33m\u001b[0m\u001b[1;33m\u001b[0m\u001b[0m\n\u001b[0m\u001b[0;32m    429\u001b[0m         \u001b[0mown_fid\u001b[0m \u001b[1;33m=\u001b[0m \u001b[1;32mTrue\u001b[0m\u001b[1;33m\u001b[0m\u001b[1;33m\u001b[0m\u001b[0m\n\u001b[0;32m    430\u001b[0m \u001b[1;33m\u001b[0m\u001b[0m\n",
      "\u001b[1;31mFileNotFoundError\u001b[0m: [Errno 2] No such file or directory: 'cache/pca_sift_train.npy'"
     ]
    }
   ],
   "source": [
    "pca_sift_train = np.load('cache/pca_sift_train.npy')\n",
    "pca_sift_val = np.load('cache/pca_sift_val.npy')"
   ]
  },
  {
   "cell_type": "code",
   "execution_count": 290,
   "metadata": {},
   "outputs": [
    {
     "ename": "NameError",
     "evalue": "name 'pca_sift_train' is not defined",
     "output_type": "error",
     "traceback": [
      "\u001b[1;31m---------------------------------------------------------------------------\u001b[0m",
      "\u001b[1;31mNameError\u001b[0m                                 Traceback (most recent call last)",
      "\u001b[1;32m<ipython-input-290-6b3241a54a29>\u001b[0m in \u001b[0;36m<module>\u001b[1;34m\u001b[0m\n\u001b[1;32m----> 1\u001b[1;33m \u001b[0mpca_sift_train\u001b[0m\u001b[1;33m.\u001b[0m\u001b[0mshape\u001b[0m\u001b[1;33m,\u001b[0m \u001b[0mpca_sift_val\u001b[0m\u001b[1;33m.\u001b[0m\u001b[0mshape\u001b[0m\u001b[1;33m\u001b[0m\u001b[1;33m\u001b[0m\u001b[0m\n\u001b[0m",
      "\u001b[1;31mNameError\u001b[0m: name 'pca_sift_train' is not defined"
     ]
    }
   ],
   "source": [
    "pca_sift_train.shape, pca_sift_val.shape"
   ]
  },
  {
   "cell_type": "markdown",
   "metadata": {},
   "source": [
    "#### SURF Features:"
   ]
  },
  {
   "cell_type": "code",
   "execution_count": 291,
   "metadata": {},
   "outputs": [
    {
     "ename": "NameError",
     "evalue": "name 'surf_train' is not defined",
     "output_type": "error",
     "traceback": [
      "\u001b[1;31m---------------------------------------------------------------------------\u001b[0m",
      "\u001b[1;31mNameError\u001b[0m                                 Traceback (most recent call last)",
      "\u001b[1;32m<ipython-input-291-4e3aed75e4eb>\u001b[0m in \u001b[0;36m<module>\u001b[1;34m\u001b[0m\n\u001b[0;32m      1\u001b[0m \u001b[1;31m# norm_surf_train, norm_surf_val = norm_features_minmax(surf_train, surf_val)\u001b[0m\u001b[1;33m\u001b[0m\u001b[1;33m\u001b[0m\u001b[1;33m\u001b[0m\u001b[0m\n\u001b[1;32m----> 2\u001b[1;33m \u001b[0mnorm_surf_train\u001b[0m\u001b[1;33m,\u001b[0m \u001b[0mnorm_surf_val\u001b[0m \u001b[1;33m=\u001b[0m \u001b[0mnorm_features_zscore\u001b[0m\u001b[1;33m(\u001b[0m\u001b[0msurf_train\u001b[0m\u001b[1;33m,\u001b[0m \u001b[0msurf_val\u001b[0m\u001b[1;33m)\u001b[0m\u001b[1;33m\u001b[0m\u001b[1;33m\u001b[0m\u001b[0m\n\u001b[0m",
      "\u001b[1;31mNameError\u001b[0m: name 'surf_train' is not defined"
     ]
    }
   ],
   "source": [
    "# norm_surf_train, norm_surf_val = norm_features_minmax(surf_train, surf_val)\n",
    "norm_surf_train, norm_surf_val = norm_features_zscore(surf_train, surf_val)"
   ]
  },
  {
   "cell_type": "code",
   "execution_count": 292,
   "metadata": {},
   "outputs": [
    {
     "ename": "NameError",
     "evalue": "name 'norm_surf_train' is not defined",
     "output_type": "error",
     "traceback": [
      "\u001b[1;31m---------------------------------------------------------------------------\u001b[0m",
      "\u001b[1;31mNameError\u001b[0m                                 Traceback (most recent call last)",
      "\u001b[1;32m<ipython-input-292-d88688a6eee1>\u001b[0m in \u001b[0;36m<module>\u001b[1;34m\u001b[0m\n\u001b[0;32m      1\u001b[0m \u001b[0mpca\u001b[0m \u001b[1;33m=\u001b[0m \u001b[0mPCA\u001b[0m\u001b[1;33m(\u001b[0m\u001b[0mn_components\u001b[0m\u001b[1;33m=\u001b[0m\u001b[1;36m5\u001b[0m\u001b[1;33m)\u001b[0m\u001b[1;33m\u001b[0m\u001b[1;33m\u001b[0m\u001b[0m\n\u001b[1;32m----> 2\u001b[1;33m \u001b[0mpca_surf_train\u001b[0m \u001b[1;33m=\u001b[0m \u001b[0mpca\u001b[0m\u001b[1;33m.\u001b[0m\u001b[0mfit_transform\u001b[0m\u001b[1;33m(\u001b[0m\u001b[0mnorm_surf_train\u001b[0m\u001b[1;33m)\u001b[0m\u001b[1;33m\u001b[0m\u001b[1;33m\u001b[0m\u001b[0m\n\u001b[0m\u001b[0;32m      3\u001b[0m \u001b[0mpca_surf_val\u001b[0m \u001b[1;33m=\u001b[0m \u001b[0mpca\u001b[0m\u001b[1;33m.\u001b[0m\u001b[0mtransform\u001b[0m\u001b[1;33m(\u001b[0m\u001b[0mnorm_surf_val\u001b[0m\u001b[1;33m)\u001b[0m\u001b[1;33m\u001b[0m\u001b[1;33m\u001b[0m\u001b[0m\n",
      "\u001b[1;31mNameError\u001b[0m: name 'norm_surf_train' is not defined"
     ]
    }
   ],
   "source": [
    "pca = PCA(n_components=5)\n",
    "pca_surf_train = pca.fit_transform(norm_surf_train)\n",
    "pca_surf_val = pca.transform(norm_surf_val)"
   ]
  },
  {
   "cell_type": "code",
   "execution_count": 293,
   "metadata": {},
   "outputs": [
    {
     "ename": "NameError",
     "evalue": "name 'pca_surf_train' is not defined",
     "output_type": "error",
     "traceback": [
      "\u001b[1;31m---------------------------------------------------------------------------\u001b[0m",
      "\u001b[1;31mNameError\u001b[0m                                 Traceback (most recent call last)",
      "\u001b[1;32m<ipython-input-293-7de2e8c4b75e>\u001b[0m in \u001b[0;36m<module>\u001b[1;34m\u001b[0m\n\u001b[1;32m----> 1\u001b[1;33m \u001b[0mnp\u001b[0m\u001b[1;33m.\u001b[0m\u001b[0msave\u001b[0m\u001b[1;33m(\u001b[0m\u001b[1;34m'cache/pca_surf_train.npy'\u001b[0m\u001b[1;33m,\u001b[0m \u001b[0mpca_surf_train\u001b[0m\u001b[1;33m)\u001b[0m\u001b[1;33m\u001b[0m\u001b[1;33m\u001b[0m\u001b[0m\n\u001b[0m\u001b[0;32m      2\u001b[0m \u001b[0mnp\u001b[0m\u001b[1;33m.\u001b[0m\u001b[0msave\u001b[0m\u001b[1;33m(\u001b[0m\u001b[1;34m'cache/pca_surf_val.npy'\u001b[0m\u001b[1;33m,\u001b[0m \u001b[0mpca_surf_val\u001b[0m\u001b[1;33m)\u001b[0m\u001b[1;33m\u001b[0m\u001b[1;33m\u001b[0m\u001b[0m\n",
      "\u001b[1;31mNameError\u001b[0m: name 'pca_surf_train' is not defined"
     ]
    }
   ],
   "source": [
    "np.save('cache/pca_surf_train.npy', pca_surf_train)\n",
    "np.save('cache/pca_surf_val.npy', pca_surf_val)"
   ]
  },
  {
   "cell_type": "code",
   "execution_count": 294,
   "metadata": {},
   "outputs": [
    {
     "ename": "FileNotFoundError",
     "evalue": "[Errno 2] No such file or directory: 'cache/pca_surf_train.npy'",
     "output_type": "error",
     "traceback": [
      "\u001b[1;31m---------------------------------------------------------------------------\u001b[0m",
      "\u001b[1;31mFileNotFoundError\u001b[0m                         Traceback (most recent call last)",
      "\u001b[1;32m<ipython-input-294-bc5e923b1d44>\u001b[0m in \u001b[0;36m<module>\u001b[1;34m\u001b[0m\n\u001b[1;32m----> 1\u001b[1;33m \u001b[0mpca_surf_train\u001b[0m \u001b[1;33m=\u001b[0m \u001b[0mnp\u001b[0m\u001b[1;33m.\u001b[0m\u001b[0mload\u001b[0m\u001b[1;33m(\u001b[0m\u001b[1;34m'cache/pca_surf_train.npy'\u001b[0m\u001b[1;33m)\u001b[0m\u001b[1;33m\u001b[0m\u001b[1;33m\u001b[0m\u001b[0m\n\u001b[0m\u001b[0;32m      2\u001b[0m \u001b[0mpca_surf_val\u001b[0m \u001b[1;33m=\u001b[0m \u001b[0mnp\u001b[0m\u001b[1;33m.\u001b[0m\u001b[0mload\u001b[0m\u001b[1;33m(\u001b[0m\u001b[1;34m'cache/pca_surf_val.npy'\u001b[0m\u001b[1;33m)\u001b[0m\u001b[1;33m\u001b[0m\u001b[1;33m\u001b[0m\u001b[0m\n",
      "\u001b[1;32mc:\\users\\toorr\\appdata\\local\\programs\\python\\python37\\lib\\site-packages\\numpy\\lib\\npyio.py\u001b[0m in \u001b[0;36mload\u001b[1;34m(file, mmap_mode, allow_pickle, fix_imports, encoding)\u001b[0m\n\u001b[0;32m    426\u001b[0m         \u001b[0mown_fid\u001b[0m \u001b[1;33m=\u001b[0m \u001b[1;32mFalse\u001b[0m\u001b[1;33m\u001b[0m\u001b[1;33m\u001b[0m\u001b[0m\n\u001b[0;32m    427\u001b[0m     \u001b[1;32melse\u001b[0m\u001b[1;33m:\u001b[0m\u001b[1;33m\u001b[0m\u001b[1;33m\u001b[0m\u001b[0m\n\u001b[1;32m--> 428\u001b[1;33m         \u001b[0mfid\u001b[0m \u001b[1;33m=\u001b[0m \u001b[0mopen\u001b[0m\u001b[1;33m(\u001b[0m\u001b[0mos_fspath\u001b[0m\u001b[1;33m(\u001b[0m\u001b[0mfile\u001b[0m\u001b[1;33m)\u001b[0m\u001b[1;33m,\u001b[0m \u001b[1;34m\"rb\"\u001b[0m\u001b[1;33m)\u001b[0m\u001b[1;33m\u001b[0m\u001b[1;33m\u001b[0m\u001b[0m\n\u001b[0m\u001b[0;32m    429\u001b[0m         \u001b[0mown_fid\u001b[0m \u001b[1;33m=\u001b[0m \u001b[1;32mTrue\u001b[0m\u001b[1;33m\u001b[0m\u001b[1;33m\u001b[0m\u001b[0m\n\u001b[0;32m    430\u001b[0m \u001b[1;33m\u001b[0m\u001b[0m\n",
      "\u001b[1;31mFileNotFoundError\u001b[0m: [Errno 2] No such file or directory: 'cache/pca_surf_train.npy'"
     ]
    }
   ],
   "source": [
    "pca_surf_train = np.load('cache/pca_surf_train.npy')\n",
    "pca_surf_val = np.load('cache/pca_surf_val.npy')"
   ]
  },
  {
   "cell_type": "code",
   "execution_count": 295,
   "metadata": {},
   "outputs": [
    {
     "ename": "NameError",
     "evalue": "name 'pca_surf_train' is not defined",
     "output_type": "error",
     "traceback": [
      "\u001b[1;31m---------------------------------------------------------------------------\u001b[0m",
      "\u001b[1;31mNameError\u001b[0m                                 Traceback (most recent call last)",
      "\u001b[1;32m<ipython-input-295-3bd89e431930>\u001b[0m in \u001b[0;36m<module>\u001b[1;34m\u001b[0m\n\u001b[1;32m----> 1\u001b[1;33m \u001b[0mpca_surf_train\u001b[0m\u001b[1;33m.\u001b[0m\u001b[0mshape\u001b[0m\u001b[1;33m,\u001b[0m \u001b[0mpca_surf_val\u001b[0m\u001b[1;33m.\u001b[0m\u001b[0mshape\u001b[0m\u001b[1;33m\u001b[0m\u001b[1;33m\u001b[0m\u001b[0m\n\u001b[0m",
      "\u001b[1;31mNameError\u001b[0m: name 'pca_surf_train' is not defined"
     ]
    }
   ],
   "source": [
    "pca_surf_train.shape, pca_surf_val.shape"
   ]
  },
  {
   "cell_type": "markdown",
   "metadata": {},
   "source": [
    "#### Gabor Fearures:"
   ]
  },
  {
   "cell_type": "code",
   "execution_count": 296,
   "metadata": {},
   "outputs": [],
   "source": [
    "# norm_gabor_train, norm_gabor_val = norm_features_minmax(gabor_train, gabor_val)\n",
    "norm_gabor_train, norm_gabor_val = norm_features_zscore(gabor_train, gabor_val)"
   ]
  },
  {
   "cell_type": "code",
   "execution_count": 297,
   "metadata": {},
   "outputs": [
    {
     "name": "stderr",
     "output_type": "stream",
     "text": [
      "c:\\users\\toorr\\appdata\\local\\programs\\python\\python37\\lib\\site-packages\\sklearn\\decomposition\\_pca.py:456: RuntimeWarning: invalid value encountered in true_divide\n",
      "  explained_variance_ratio_ = explained_variance_ / total_var\n"
     ]
    }
   ],
   "source": [
    "pca = PCA(n_components=5)\n",
    "pca_gabor_train = pca.fit_transform(norm_gabor_train)\n",
    "pca_gabor_val = pca.transform(norm_gabor_val)"
   ]
  },
  {
   "cell_type": "code",
   "execution_count": 298,
   "metadata": {},
   "outputs": [],
   "source": [
    "np.save('pca_gabor_train.npy', pca_gabor_train)\n",
    "np.save('pca_gabor_val.npy', pca_gabor_val)"
   ]
  },
  {
   "cell_type": "code",
   "execution_count": 299,
   "metadata": {},
   "outputs": [],
   "source": [
    "pca_gabor_train = np.load('pca_gabor_train.npy')\n",
    "pca_gabor_val = np.load('pca_gabor_val.npy')"
   ]
  },
  {
   "cell_type": "code",
   "execution_count": 300,
   "metadata": {},
   "outputs": [
    {
     "data": {
      "text/plain": [
       "((205, 5), (52, 5))"
      ]
     },
     "execution_count": 300,
     "metadata": {},
     "output_type": "execute_result"
    }
   ],
   "source": [
    "pca_gabor_train.shape, pca_gabor_val.shape"
   ]
  },
  {
   "cell_type": "markdown",
   "metadata": {},
   "source": [
    "#### GLCM Features:"
   ]
  },
  {
   "cell_type": "code",
   "execution_count": 301,
   "metadata": {},
   "outputs": [],
   "source": [
    "# norm_glcm_train, norm_glcm_val = norm_features_minmax(glcm_train, glcm_val)\n",
    "norm_glcm_train, norm_glcm_val = norm_features_zscore(glcm_train, glcm_val)"
   ]
  },
  {
   "cell_type": "code",
   "execution_count": 302,
   "metadata": {},
   "outputs": [],
   "source": [
    "pca = PCA(n_components=5)\n",
    "pca_glcm_train = pca.fit_transform(norm_glcm_train)\n",
    "pca_glcm_val = pca.transform(norm_glcm_val)"
   ]
  },
  {
   "cell_type": "code",
   "execution_count": 303,
   "metadata": {},
   "outputs": [],
   "source": [
    "np.save('pca_glcm_train.npy', pca_glcm_train)\n",
    "np.save('pca_glcm_val.npy', pca_glcm_val)"
   ]
  },
  {
   "cell_type": "code",
   "execution_count": 304,
   "metadata": {},
   "outputs": [],
   "source": [
    "pca_glcm_train = np.load('pca_glcm_train.npy')\n",
    "pca_glcm_val = np.load('pca_glcm_val.npy')"
   ]
  },
  {
   "cell_type": "code",
   "execution_count": 305,
   "metadata": {},
   "outputs": [
    {
     "data": {
      "text/plain": [
       "((205, 5), (52, 5))"
      ]
     },
     "execution_count": 305,
     "metadata": {},
     "output_type": "execute_result"
    }
   ],
   "source": [
    "pca_glcm_train.shape, pca_glcm_val.shape"
   ]
  },
  {
   "cell_type": "markdown",
   "metadata": {},
   "source": [
    "#### Flattened Image:"
   ]
  },
  {
   "cell_type": "markdown",
   "metadata": {},
   "source": [
    "#### RGB:"
   ]
  },
  {
   "cell_type": "code",
   "execution_count": 306,
   "metadata": {},
   "outputs": [],
   "source": [
    "# norm_flat_rgb_train, norm_flat_rgb_val = norm_features_minmax(flat_rgb_train, flat_rgb_val)\n",
    "norm_flat_rgb_train, norm_flat_rgb_val = norm_features_zscore(flat_rgb_train, flat_rgb_val)"
   ]
  },
  {
   "cell_type": "code",
   "execution_count": 307,
   "metadata": {},
   "outputs": [],
   "source": [
    "pca = PCA(n_components=10)\n",
    "pca_flat_rgb_train = pca.fit_transform(norm_flat_rgb_train)\n",
    "pca_flat_rgb_val = pca.transform(norm_flat_rgb_val)"
   ]
  },
  {
   "cell_type": "code",
   "execution_count": 308,
   "metadata": {},
   "outputs": [],
   "source": [
    "np.save('pca_flat_rgb_train.npy', pca_flat_rgb_train)\n",
    "np.save('pca_flat_rgb_val.npy', pca_flat_rgb_val)"
   ]
  },
  {
   "cell_type": "code",
   "execution_count": 309,
   "metadata": {},
   "outputs": [],
   "source": [
    "pca_flat_rgb_train = np.load('pca_flat_rgb_train.npy')\n",
    "pca_flat_rgb_val = np.load('pca_flat_rgb_val.npy')"
   ]
  },
  {
   "cell_type": "code",
   "execution_count": 310,
   "metadata": {},
   "outputs": [
    {
     "data": {
      "text/plain": [
       "((205, 10), (52, 10))"
      ]
     },
     "execution_count": 310,
     "metadata": {},
     "output_type": "execute_result"
    }
   ],
   "source": [
    "pca_flat_rgb_train.shape, pca_flat_rgb_val.shape"
   ]
  },
  {
   "cell_type": "markdown",
   "metadata": {},
   "source": [
    "#### GRAY:"
   ]
  },
  {
   "cell_type": "code",
   "execution_count": 311,
   "metadata": {},
   "outputs": [],
   "source": [
    "# norm_flat_gray_train, norm_flat_gray_val = norm_features_minmax(flat_gray_train, flat_gray_val)\n",
    "norm_flat_gray_train, norm_flat_gray_val = norm_features_zscore(flat_gray_train, flat_gray_val)"
   ]
  },
  {
   "cell_type": "code",
   "execution_count": 312,
   "metadata": {},
   "outputs": [],
   "source": [
    "pca = PCA(n_components=6)\n",
    "pca_flat_gray_train = pca.fit_transform(norm_flat_gray_train)\n",
    "pca_flat_gray_val = pca.transform(norm_flat_gray_val)"
   ]
  },
  {
   "cell_type": "code",
   "execution_count": 313,
   "metadata": {},
   "outputs": [],
   "source": [
    "np.save('pca_flat_gray_train.npy', pca_flat_gray_train)\n",
    "np.save('pca_flat_gray_val.npy', pca_flat_gray_val)"
   ]
  },
  {
   "cell_type": "code",
   "execution_count": 314,
   "metadata": {},
   "outputs": [],
   "source": [
    "pca_flat_gray_train = np.load('pca_flat_gray_train.npy')\n",
    "pca_flat_gray_val = np.load('pca_flat_gray_val.npy')"
   ]
  },
  {
   "cell_type": "code",
   "execution_count": 315,
   "metadata": {},
   "outputs": [
    {
     "data": {
      "text/plain": [
       "((205, 6), (52, 6))"
      ]
     },
     "execution_count": 315,
     "metadata": {},
     "output_type": "execute_result"
    }
   ],
   "source": [
    "pca_flat_gray_train.shape, pca_flat_gray_val.shape"
   ]
  },
  {
   "cell_type": "markdown",
   "metadata": {},
   "source": [
    "#### Color Histogram:"
   ]
  },
  {
   "cell_type": "code",
   "execution_count": 316,
   "metadata": {},
   "outputs": [],
   "source": [
    "# norm_hist_train, norm_hist_val = norm_features_minmax(hist_train, hist_val)\n",
    "norm_hist_train, norm_hist_val = norm_features_zscore(hist_train, hist_val)"
   ]
  },
  {
   "cell_type": "code",
   "execution_count": 317,
   "metadata": {},
   "outputs": [],
   "source": [
    "pca = PCA(n_components=10)\n",
    "pca_hist_train = pca.fit_transform(norm_hist_train)\n",
    "pca_hist_val = pca.transform(norm_hist_val)"
   ]
  },
  {
   "cell_type": "code",
   "execution_count": 318,
   "metadata": {},
   "outputs": [],
   "source": [
    "np.save('pca_hist_train.npy', pca_hist_train)\n",
    "np.save('pca_hist_val.npy', pca_hist_val)"
   ]
  },
  {
   "cell_type": "code",
   "execution_count": 319,
   "metadata": {},
   "outputs": [],
   "source": [
    "pca_hist_train = np.load('pca_hist_train.npy')\n",
    "pca_hist_val = np.load('pca_hist_val.npy')"
   ]
  },
  {
   "cell_type": "code",
   "execution_count": 320,
   "metadata": {},
   "outputs": [
    {
     "data": {
      "text/plain": [
       "((205, 10), (52, 10))"
      ]
     },
     "execution_count": 320,
     "metadata": {},
     "output_type": "execute_result"
    }
   ],
   "source": [
    "pca_hist_train.shape, pca_hist_val.shape"
   ]
  },
  {
   "cell_type": "markdown",
   "metadata": {},
   "source": [
    "### Feature PCA variance comparison:"
   ]
  },
  {
   "cell_type": "code",
   "execution_count": 321,
   "metadata": {},
   "outputs": [
    {
     "data": {
      "text/plain": [
       "8"
      ]
     },
     "execution_count": 321,
     "metadata": {},
     "output_type": "execute_result"
    }
   ],
   "source": [
    "pca_array = []\n",
    "pca_array.append(pca_hog_train)\n",
    "pca_array.append(pca_lbp_train)\n",
    "# pca_array.append(pca_sift_train)\n",
    "# pca_array.append(pca_surf_train)\n",
    "pca_array.append(pca_kaze_train)\n",
    "pca_array.append(pca_gabor_train)\n",
    "pca_array.append(pca_glcm_train)\n",
    "pca_array.append(pca_hist_train)\n",
    "pca_array.append(pca_flat_gray_train)\n",
    "pca_array.append(pca_flat_rgb_train)\n",
    "len(pca_array)"
   ]
  },
  {
   "cell_type": "code",
   "execution_count": 322,
   "metadata": {},
   "outputs": [
    {
     "data": {
      "image/png": "[encoded data removed]",
      "text/plain": [
       "<Figure size 1080x2160 with 8 Axes>"
      ]
     },
     "metadata": {
      "needs_background": "light"
     },
     "output_type": "display_data"
    }
   ],
   "source": [
    "pca_projection(pca_array, ['HOG', 'LBP', 'KAZE', 'GABOR', 'GLCM', 'Color Histogram', 'Flatten GRAY', 'Flatten RGB'])"
   ]
  },
  {
   "cell_type": "markdown",
   "metadata": {},
   "source": [
    "### Reduce Features by LDA:"
   ]
  },
  {
   "cell_type": "markdown",
   "metadata": {},
   "source": [
    "#### HOG Features:"
   ]
  },
  {
   "cell_type": "code",
   "execution_count": 323,
   "metadata": {},
   "outputs": [],
   "source": [
    "lda = LDA()\n",
    "lda_hog_train = lda.fit_transform(norm_hog_train, train_y)\n",
    "lda_hog_val = lda.transform(norm_hog_val)"
   ]
  },
  {
   "cell_type": "code",
   "execution_count": 324,
   "metadata": {},
   "outputs": [
    {
     "data": {
      "text/plain": [
       "((205, 1), (52, 1))"
      ]
     },
     "execution_count": 324,
     "metadata": {},
     "output_type": "execute_result"
    }
   ],
   "source": [
    "lda_hog_train.shape, lda_hog_val.shape"
   ]
  },
  {
   "cell_type": "code",
   "execution_count": 325,
   "metadata": {},
   "outputs": [],
   "source": [
    "np.save('lda_hog_train.npy', lda_hog_train)\n",
    "np.save('lda_hog_val.npy', lda_hog_val)"
   ]
  },
  {
   "cell_type": "code",
   "execution_count": 326,
   "metadata": {},
   "outputs": [],
   "source": [
    "lda_hog_train = np.load('lda_hog_train.npy')\n",
    "lda_hog_val = np.load('lda_hog_val.npy')"
   ]
  },
  {
   "cell_type": "code",
   "execution_count": 327,
   "metadata": {},
   "outputs": [
    {
     "data": {
      "text/plain": [
       "((205, 1), (52, 1))"
      ]
     },
     "execution_count": 327,
     "metadata": {},
     "output_type": "execute_result"
    }
   ],
   "source": [
    "lda_hog_train.shape, lda_hog_val.shape"
   ]
  },
  {
   "cell_type": "markdown",
   "metadata": {},
   "source": [
    "#### LBP Features:"
   ]
  },
  {
   "cell_type": "code",
   "execution_count": 328,
   "metadata": {},
   "outputs": [],
   "source": [
    "lda = LDA()\n",
    "lda_lbp_train = lda.fit_transform(norm_lbp_train, train_y)\n",
    "lda_lbp_val = lda.transform(norm_lbp_val)"
   ]
  },
  {
   "cell_type": "code",
   "execution_count": 329,
   "metadata": {},
   "outputs": [],
   "source": [
    "np.save('lda_lbp_train.npy', lda_lbp_train)\n",
    "np.save('lda_lbp_val.npy', lda_lbp_val)"
   ]
  },
  {
   "cell_type": "code",
   "execution_count": 330,
   "metadata": {},
   "outputs": [],
   "source": [
    "lda_lbp_train = np.load('lda_lbp_train.npy')\n",
    "lda_lbp_val = np.load('lda_lbp_val.npy')"
   ]
  },
  {
   "cell_type": "code",
   "execution_count": 331,
   "metadata": {},
   "outputs": [
    {
     "data": {
      "text/plain": [
       "((205, 1), (52, 1))"
      ]
     },
     "execution_count": 331,
     "metadata": {},
     "output_type": "execute_result"
    }
   ],
   "source": [
    "lda_lbp_train.shape, lda_lbp_val.shape"
   ]
  },
  {
   "cell_type": "markdown",
   "metadata": {},
   "source": [
    "#### SIFT:"
   ]
  },
  {
   "cell_type": "code",
   "execution_count": 332,
   "metadata": {},
   "outputs": [
    {
     "ename": "NameError",
     "evalue": "name 'norm_sift_train' is not defined",
     "output_type": "error",
     "traceback": [
      "\u001b[1;31m---------------------------------------------------------------------------\u001b[0m",
      "\u001b[1;31mNameError\u001b[0m                                 Traceback (most recent call last)",
      "\u001b[1;32m<ipython-input-332-2a0a3a8992bb>\u001b[0m in \u001b[0;36m<module>\u001b[1;34m\u001b[0m\n\u001b[0;32m      1\u001b[0m \u001b[0mlda\u001b[0m \u001b[1;33m=\u001b[0m \u001b[0mLDA\u001b[0m\u001b[1;33m(\u001b[0m\u001b[1;33m)\u001b[0m\u001b[1;33m\u001b[0m\u001b[1;33m\u001b[0m\u001b[0m\n\u001b[1;32m----> 2\u001b[1;33m \u001b[0mlda_sift_train\u001b[0m \u001b[1;33m=\u001b[0m \u001b[0mlda\u001b[0m\u001b[1;33m.\u001b[0m\u001b[0mfit_transform\u001b[0m\u001b[1;33m(\u001b[0m\u001b[0mnorm_sift_train\u001b[0m\u001b[1;33m,\u001b[0m \u001b[0mtrain_y\u001b[0m\u001b[1;33m)\u001b[0m\u001b[1;33m\u001b[0m\u001b[1;33m\u001b[0m\u001b[0m\n\u001b[0m\u001b[0;32m      3\u001b[0m \u001b[0mlda_sift_val\u001b[0m \u001b[1;33m=\u001b[0m \u001b[0mlda\u001b[0m\u001b[1;33m.\u001b[0m\u001b[0mtransform\u001b[0m\u001b[1;33m(\u001b[0m\u001b[0mnorm_sift_val\u001b[0m\u001b[1;33m)\u001b[0m\u001b[1;33m\u001b[0m\u001b[1;33m\u001b[0m\u001b[0m\n",
      "\u001b[1;31mNameError\u001b[0m: name 'norm_sift_train' is not defined"
     ]
    }
   ],
   "source": [
    "lda = LDA()\n",
    "lda_sift_train = lda.fit_transform(norm_sift_train, train_y)\n",
    "lda_sift_val = lda.transform(norm_sift_val)"
   ]
  },
  {
   "cell_type": "code",
   "execution_count": 333,
   "metadata": {},
   "outputs": [
    {
     "ename": "NameError",
     "evalue": "name 'lda_sift_train' is not defined",
     "output_type": "error",
     "traceback": [
      "\u001b[1;31m---------------------------------------------------------------------------\u001b[0m",
      "\u001b[1;31mNameError\u001b[0m                                 Traceback (most recent call last)",
      "\u001b[1;32m<ipython-input-333-de843ccf87bf>\u001b[0m in \u001b[0;36m<module>\u001b[1;34m\u001b[0m\n\u001b[1;32m----> 1\u001b[1;33m \u001b[0mnp\u001b[0m\u001b[1;33m.\u001b[0m\u001b[0msave\u001b[0m\u001b[1;33m(\u001b[0m\u001b[1;34m'cache/lda_sift_train.npy'\u001b[0m\u001b[1;33m,\u001b[0m \u001b[0mlda_sift_train\u001b[0m\u001b[1;33m)\u001b[0m\u001b[1;33m\u001b[0m\u001b[1;33m\u001b[0m\u001b[0m\n\u001b[0m\u001b[0;32m      2\u001b[0m \u001b[0mnp\u001b[0m\u001b[1;33m.\u001b[0m\u001b[0msave\u001b[0m\u001b[1;33m(\u001b[0m\u001b[1;34m'cache/lda_sift_val.npy'\u001b[0m\u001b[1;33m,\u001b[0m \u001b[0mlda_sift_val\u001b[0m\u001b[1;33m)\u001b[0m\u001b[1;33m\u001b[0m\u001b[1;33m\u001b[0m\u001b[0m\n",
      "\u001b[1;31mNameError\u001b[0m: name 'lda_sift_train' is not defined"
     ]
    }
   ],
   "source": [
    "np.save('cache/lda_sift_train.npy', lda_sift_train)\n",
    "np.save('cache/lda_sift_val.npy', lda_sift_val)"
   ]
  },
  {
   "cell_type": "code",
   "execution_count": 334,
   "metadata": {},
   "outputs": [
    {
     "ename": "FileNotFoundError",
     "evalue": "[Errno 2] No such file or directory: 'cache/lda_sift_train.npy'",
     "output_type": "error",
     "traceback": [
      "\u001b[1;31m---------------------------------------------------------------------------\u001b[0m",
      "\u001b[1;31mFileNotFoundError\u001b[0m                         Traceback (most recent call last)",
      "\u001b[1;32m<ipython-input-334-7ddd43489170>\u001b[0m in \u001b[0;36m<module>\u001b[1;34m\u001b[0m\n\u001b[1;32m----> 1\u001b[1;33m \u001b[0mlda_sift_train\u001b[0m \u001b[1;33m=\u001b[0m \u001b[0mnp\u001b[0m\u001b[1;33m.\u001b[0m\u001b[0mload\u001b[0m\u001b[1;33m(\u001b[0m\u001b[1;34m'cache/lda_sift_train.npy'\u001b[0m\u001b[1;33m)\u001b[0m\u001b[1;33m\u001b[0m\u001b[1;33m\u001b[0m\u001b[0m\n\u001b[0m\u001b[0;32m      2\u001b[0m \u001b[0mlda_sift_val\u001b[0m \u001b[1;33m=\u001b[0m \u001b[0mnp\u001b[0m\u001b[1;33m.\u001b[0m\u001b[0mload\u001b[0m\u001b[1;33m(\u001b[0m\u001b[1;34m'cache/lda_sift_val.npy'\u001b[0m\u001b[1;33m)\u001b[0m\u001b[1;33m\u001b[0m\u001b[1;33m\u001b[0m\u001b[0m\n",
      "\u001b[1;32mc:\\users\\toorr\\appdata\\local\\programs\\python\\python37\\lib\\site-packages\\numpy\\lib\\npyio.py\u001b[0m in \u001b[0;36mload\u001b[1;34m(file, mmap_mode, allow_pickle, fix_imports, encoding)\u001b[0m\n\u001b[0;32m    426\u001b[0m         \u001b[0mown_fid\u001b[0m \u001b[1;33m=\u001b[0m \u001b[1;32mFalse\u001b[0m\u001b[1;33m\u001b[0m\u001b[1;33m\u001b[0m\u001b[0m\n\u001b[0;32m    427\u001b[0m     \u001b[1;32melse\u001b[0m\u001b[1;33m:\u001b[0m\u001b[1;33m\u001b[0m\u001b[1;33m\u001b[0m\u001b[0m\n\u001b[1;32m--> 428\u001b[1;33m         \u001b[0mfid\u001b[0m \u001b[1;33m=\u001b[0m \u001b[0mopen\u001b[0m\u001b[1;33m(\u001b[0m\u001b[0mos_fspath\u001b[0m\u001b[1;33m(\u001b[0m\u001b[0mfile\u001b[0m\u001b[1;33m)\u001b[0m\u001b[1;33m,\u001b[0m \u001b[1;34m\"rb\"\u001b[0m\u001b[1;33m)\u001b[0m\u001b[1;33m\u001b[0m\u001b[1;33m\u001b[0m\u001b[0m\n\u001b[0m\u001b[0;32m    429\u001b[0m         \u001b[0mown_fid\u001b[0m \u001b[1;33m=\u001b[0m \u001b[1;32mTrue\u001b[0m\u001b[1;33m\u001b[0m\u001b[1;33m\u001b[0m\u001b[0m\n\u001b[0;32m    430\u001b[0m \u001b[1;33m\u001b[0m\u001b[0m\n",
      "\u001b[1;31mFileNotFoundError\u001b[0m: [Errno 2] No such file or directory: 'cache/lda_sift_train.npy'"
     ]
    }
   ],
   "source": [
    "lda_sift_train = np.load('cache/lda_sift_train.npy')\n",
    "lda_sift_val = np.load('cache/lda_sift_val.npy')"
   ]
  },
  {
   "cell_type": "code",
   "execution_count": 335,
   "metadata": {},
   "outputs": [
    {
     "ename": "NameError",
     "evalue": "name 'lda_sift_train' is not defined",
     "output_type": "error",
     "traceback": [
      "\u001b[1;31m---------------------------------------------------------------------------\u001b[0m",
      "\u001b[1;31mNameError\u001b[0m                                 Traceback (most recent call last)",
      "\u001b[1;32m<ipython-input-335-78633cf97d75>\u001b[0m in \u001b[0;36m<module>\u001b[1;34m\u001b[0m\n\u001b[1;32m----> 1\u001b[1;33m \u001b[0mlda_sift_train\u001b[0m\u001b[1;33m.\u001b[0m\u001b[0mshape\u001b[0m\u001b[1;33m,\u001b[0m \u001b[0mlda_sift_val\u001b[0m\u001b[1;33m.\u001b[0m\u001b[0mshape\u001b[0m\u001b[1;33m\u001b[0m\u001b[1;33m\u001b[0m\u001b[0m\n\u001b[0m",
      "\u001b[1;31mNameError\u001b[0m: name 'lda_sift_train' is not defined"
     ]
    }
   ],
   "source": [
    "lda_sift_train.shape, lda_sift_val.shape"
   ]
  },
  {
   "cell_type": "markdown",
   "metadata": {},
   "source": [
    "#### Color Histogram:"
   ]
  },
  {
   "cell_type": "code",
   "execution_count": 336,
   "metadata": {},
   "outputs": [],
   "source": [
    "lda = LDA()\n",
    "lda_hist_train = lda.fit_transform(norm_hist_train, train_y)\n",
    "lda_hist_val = lda.transform(norm_hist_val)"
   ]
  },
  {
   "cell_type": "code",
   "execution_count": 337,
   "metadata": {},
   "outputs": [],
   "source": [
    "np.save('lda_hist_train.npy', lda_hist_train)\n",
    "np.save('lda_hist_val.npy', lda_hist_val)"
   ]
  },
  {
   "cell_type": "code",
   "execution_count": 338,
   "metadata": {},
   "outputs": [],
   "source": [
    "lda_hist_train = np.load('lda_hist_train.npy')\n",
    "lda_hist_val = np.load('lda_hist_val.npy')"
   ]
  },
  {
   "cell_type": "code",
   "execution_count": 339,
   "metadata": {},
   "outputs": [
    {
     "data": {
      "text/plain": [
       "((205, 1), (52, 1))"
      ]
     },
     "execution_count": 339,
     "metadata": {},
     "output_type": "execute_result"
    }
   ],
   "source": [
    "lda_hist_train.shape, lda_hist_val.shape"
   ]
  },
  {
   "cell_type": "markdown",
   "metadata": {},
   "source": [
    "### Combine Features normal:"
   ]
  },
  {
   "cell_type": "code",
   "execution_count": 340,
   "metadata": {},
   "outputs": [],
   "source": [
    "features_train = None\n",
    "features_val = None\n",
    "evs = []\n",
    "for ft, fv in zip([hog_train, hist_train,  flat_rgb_train, lbp_train, kaze_train,  gabor_train, glcm_train], \n",
    "                  [hog_val, hist_val,  flat_rgb_val, lbp_val, kaze_val, gabor_val, glcm_val]):    \n",
    "#     scaler = preprocessing.StandardScaler()\n",
    "#     ft = scaler.fit_transform(ft)\n",
    "#     fv = scaler.transform(fv)\n",
    "#     ft = preprocessing.normalize(ft)\n",
    "#     fv = preprocessing.normalize(fv)\n",
    "    if features_train is None:\n",
    "        features_train = ft\n",
    "        features_val = fv\n",
    "    else:\n",
    "        features_train = combine_features([features_train, ft])\n",
    "        features_val = combine_features([features_val, fv])"
   ]
  },
  {
   "cell_type": "code",
   "execution_count": 341,
   "metadata": {},
   "outputs": [
    {
     "data": {
      "text/plain": [
       "((205, 8572), (52, 8572))"
      ]
     },
     "execution_count": 341,
     "metadata": {},
     "output_type": "execute_result"
    }
   ],
   "source": [
    "features_train.shape, features_val.shape"
   ]
  },
  {
   "cell_type": "markdown",
   "metadata": {},
   "source": [
    "### Combine Features PCA:"
   ]
  },
  {
   "cell_type": "code",
   "execution_count": 342,
   "metadata": {},
   "outputs": [],
   "source": [
    "features_train = None\n",
    "features_val = None\n",
    "evs = []\n",
    "for ft, fv in zip([pca_hog_train, pca_lbp_train,  pca_flat_rgb_train, pca_hist_train, pca_glcm_train], \n",
    "                  [pca_hog_val, pca_lbp_val,  pca_flat_rgb_val, pca_hist_val, pca_glcm_val]):    \n",
    "#     scaler = preprocessing.StandardScaler()\n",
    "#     ft = scaler.fit_transform(ft)\n",
    "#     fv = scaler.transform(fv)\n",
    "#     ft = preprocessing.normalize(ft)\n",
    "#     fv = preprocessing.normalize(fv)\n",
    "    if features_train is None:\n",
    "        features_train = ft\n",
    "        features_val = fv\n",
    "    else:\n",
    "        features_train = combine_features([features_train, ft])\n",
    "        features_val = combine_features([features_val, fv])"
   ]
  },
  {
   "cell_type": "code",
   "execution_count": 343,
   "metadata": {},
   "outputs": [
    {
     "data": {
      "text/plain": [
       "((205, 45), (52, 45))"
      ]
     },
     "execution_count": 343,
     "metadata": {},
     "output_type": "execute_result"
    }
   ],
   "source": [
    "features_train.shape, features_val.shape"
   ]
  },
  {
   "cell_type": "markdown",
   "metadata": {},
   "source": [
    "### Combine Features LDA:"
   ]
  },
  {
   "cell_type": "code",
   "execution_count": 344,
   "metadata": {},
   "outputs": [],
   "source": [
    "features_train_lda = None\n",
    "features_val_lda = None\n",
    "evs = []\n",
    "for ft, fv in zip([lda_hog_train, lda_hist_train, lda_lbp_train], \n",
    "                  [lda_hog_val, lda_hist_val, lda_lbp_val]):    \n",
    "#     scaler = preprocessing.StandardScaler()\n",
    "#     ft = scaler.fit_transform(ft)\n",
    "#     fv = scaler.transform(fv)\n",
    "#     ft = preprocessing.normalize(ft)\n",
    "#     fv = preprocessing.normalize(fv)\n",
    "    if features_train_lda is None:\n",
    "        features_train_lda = ft\n",
    "        features_val_lda = fv\n",
    "    else:\n",
    "        features_train_lda = combine_features([features_train_lda, ft])\n",
    "        features_val_lda = combine_features([features_val_lda, fv])"
   ]
  },
  {
   "cell_type": "code",
   "execution_count": 345,
   "metadata": {},
   "outputs": [
    {
     "data": {
      "text/plain": [
       "((205, 3), (52, 3))"
      ]
     },
     "execution_count": 345,
     "metadata": {},
     "output_type": "execute_result"
    }
   ],
   "source": [
    "features_train_lda.shape, features_val_lda.shape"
   ]
  },
  {
   "cell_type": "markdown",
   "metadata": {},
   "source": [
    "### LDA on PCA"
   ]
  },
  {
   "cell_type": "code",
   "execution_count": 346,
   "metadata": {},
   "outputs": [],
   "source": [
    "lda = LDA()\n",
    "lda_on_pca_train = lda.fit_transform(features_train, train_y)\n",
    "lda_on_pca_val = lda.transform(features_val)"
   ]
  },
  {
   "cell_type": "code",
   "execution_count": 347,
   "metadata": {},
   "outputs": [],
   "source": [
    "np.save('lda_on_pca_train.npy', lda_on_pca_train)\n",
    "np.save('lda_on_pca_val.npy', lda_on_pca_val)"
   ]
  },
  {
   "cell_type": "code",
   "execution_count": 348,
   "metadata": {},
   "outputs": [],
   "source": [
    "lda_on_pca_train = np.load('lda_on_pca_train.npy')\n",
    "lda_on_pca_val = np.load('lda_on_pca_val.npy')"
   ]
  },
  {
   "cell_type": "code",
   "execution_count": 349,
   "metadata": {},
   "outputs": [
    {
     "data": {
      "text/plain": [
       "((205, 1), (52, 1))"
      ]
     },
     "execution_count": 349,
     "metadata": {},
     "output_type": "execute_result"
    }
   ],
   "source": [
    "lda_on_pca_train.shape, lda_on_pca_val.shape"
   ]
  },
  {
   "cell_type": "markdown",
   "metadata": {},
   "source": [
    "### Combine Features:"
   ]
  },
  {
   "cell_type": "code",
   "execution_count": 350,
   "metadata": {},
   "outputs": [],
   "source": [
    "features_t = pca_hist_train\n",
    "features_v = pca_hist_val"
   ]
  },
  {
   "cell_type": "code",
   "execution_count": 351,
   "metadata": {},
   "outputs": [
    {
     "data": {
      "text/plain": [
       "((205, 10), (52, 10))"
      ]
     },
     "execution_count": 351,
     "metadata": {},
     "output_type": "execute_result"
    }
   ],
   "source": [
    "features_t.shape, features_v.shape"
   ]
  },
  {
   "cell_type": "markdown",
   "metadata": {},
   "source": [
    "## Classification:"
   ]
  },
  {
   "cell_type": "markdown",
   "metadata": {},
   "source": [
    "### PCA"
   ]
  },
  {
   "cell_type": "code",
   "execution_count": 352,
   "metadata": {},
   "outputs": [
    {
     "name": "stdout",
     "output_type": "stream",
     "text": [
      "Validation Accuracy in 'RF' = 0.5769230769230769\n",
      "[[28  5]\n",
      " [17  2]]\n",
      "Recall in 'RF' = 0.8484848484848485\n",
      "Precision in 'RF' = 0.6222222222222222\n",
      "F1 Score in 'RF' = 0.7179487179487178\n"
     ]
    }
   ],
   "source": [
    "model1 = train_model(features_train, train_y, model_name='RF', validation=(features_val, val_y))"
   ]
  },
  {
   "cell_type": "code",
   "execution_count": 353,
   "metadata": {},
   "outputs": [],
   "source": [
    "prob1 = model1.predict_proba(features_val)\n",
    "prob10 = prob1[:,0].reshape(prob1.shape[0], 1)\n",
    "prob11 = prob1[:,1].reshape(prob1.shape[0], 1)"
   ]
  },
  {
   "cell_type": "code",
   "execution_count": 354,
   "metadata": {},
   "outputs": [
    {
     "name": "stdout",
     "output_type": "stream",
     "text": [
      "Validation Accuracy in 'BAG' = 0.5769230769230769\n",
      "[[27  6]\n",
      " [16  3]]\n",
      "Recall in 'BAG' = 0.8181818181818182\n",
      "Precision in 'BAG' = 0.627906976744186\n",
      "F1 Score in 'BAG' = 0.7105263157894738\n"
     ]
    }
   ],
   "source": [
    "model2 = train_model(features_train, train_y, model_name='BAG', validation=(features_val, val_y))"
   ]
  },
  {
   "cell_type": "code",
   "execution_count": 355,
   "metadata": {},
   "outputs": [],
   "source": [
    "prob2 = model2.predict_proba(features_val)\n",
    "prob20 = prob2[:,0].reshape(prob2.shape[0], 1)\n",
    "prob21 = prob2[:,1].reshape(prob2.shape[0], 1)"
   ]
  },
  {
   "cell_type": "code",
   "execution_count": 356,
   "metadata": {},
   "outputs": [
    {
     "name": "stdout",
     "output_type": "stream",
     "text": [
      "Validation Accuracy in 'ADA' = 0.5961538461538461\n",
      "[[23 10]\n",
      " [11  8]]\n",
      "Recall in 'ADA' = 0.696969696969697\n",
      "Precision in 'ADA' = 0.6764705882352942\n",
      "F1 Score in 'ADA' = 0.6865671641791046\n"
     ]
    }
   ],
   "source": [
    "model3 = train_model(features_train, train_y, model_name='ADA', validation=(features_val, val_y))"
   ]
  },
  {
   "cell_type": "code",
   "execution_count": 357,
   "metadata": {},
   "outputs": [],
   "source": [
    "prob3 = model3.predict_proba(features_val)\n",
    "prob30 = prob3[:,0].reshape(prob3.shape[0], 1)\n",
    "prob31 = prob3[:,1].reshape(prob3.shape[0], 1)"
   ]
  },
  {
   "cell_type": "code",
   "execution_count": 358,
   "metadata": {},
   "outputs": [
    {
     "name": "stdout",
     "output_type": "stream",
     "text": [
      "Validation Accuracy in 'NB' = 0.6153846153846154\n",
      "[[27  6]\n",
      " [14  5]]\n",
      "Recall in 'NB' = 0.8181818181818182\n",
      "Precision in 'NB' = 0.6585365853658537\n",
      "F1 Score in 'NB' = 0.7297297297297297\n"
     ]
    }
   ],
   "source": [
    "model4 = train_model(features_train, train_y, model_name='NB', validation=(features_val, val_y))"
   ]
  },
  {
   "cell_type": "code",
   "execution_count": 359,
   "metadata": {},
   "outputs": [],
   "source": [
    "prob4 = model4.predict_proba(features_val)\n",
    "prob40 = prob4[:,0].reshape(prob4.shape[0], 1)\n",
    "prob41 = prob4[:,1].reshape(prob4.shape[0], 1)"
   ]
  },
  {
   "cell_type": "code",
   "execution_count": 360,
   "metadata": {},
   "outputs": [
    {
     "name": "stdout",
     "output_type": "stream",
     "text": [
      "Validation Accuracy in 'SVM' = 0.5961538461538461\n",
      "[[30  3]\n",
      " [18  1]]\n",
      "Recall in 'SVM' = 0.9090909090909091\n",
      "Precision in 'SVM' = 0.625\n",
      "F1 Score in 'SVM' = 0.7407407407407406\n"
     ]
    }
   ],
   "source": [
    "model5 = train_model(features_train, train_y, model_name='SVM', validation=(features_val, val_y))"
   ]
  },
  {
   "cell_type": "code",
   "execution_count": 361,
   "metadata": {},
   "outputs": [],
   "source": [
    "prob5 = model5.predict_proba(features_val)\n",
    "prob50 = prob5[:,0].reshape(prob5.shape[0], 1)\n",
    "prob51 = prob5[:,1].reshape(prob5.shape[0], 1)"
   ]
  },
  {
   "cell_type": "code",
   "execution_count": 362,
   "metadata": {},
   "outputs": [
    {
     "name": "stdout",
     "output_type": "stream",
     "text": [
      "Validation Accuracy in 'XGB' = 0.5769230769230769\n",
      "[[24  9]\n",
      " [13  6]]\n",
      "Recall in 'XGB' = 0.7272727272727273\n",
      "Precision in 'XGB' = 0.6486486486486487\n",
      "F1 Score in 'XGB' = 0.6857142857142857\n"
     ]
    }
   ],
   "source": [
    "model6 = train_model(np.array(features_train), train_y, model_name='XGB', validation=(features_val, val_y))"
   ]
  },
  {
   "cell_type": "code",
   "execution_count": 363,
   "metadata": {},
   "outputs": [],
   "source": [
    "prob6 = model6.predict_proba(features_val)\n",
    "prob60 = prob6[:,0].reshape(prob6.shape[0], 1)\n",
    "prob61 = prob6[:,1].reshape(prob6.shape[0], 1)"
   ]
  },
  {
   "cell_type": "code",
   "execution_count": 364,
   "metadata": {},
   "outputs": [
    {
     "name": "stdout",
     "output_type": "stream",
     "text": [
      "Validation Accuracy in 'KNN' = 0.5576923076923077\n",
      "[[22 11]\n",
      " [12  7]]\n",
      "Recall in 'KNN' = 0.6666666666666666\n",
      "Precision in 'KNN' = 0.6470588235294118\n",
      "F1 Score in 'KNN' = 0.6567164179104478\n"
     ]
    }
   ],
   "source": [
    "model7 = train_model(np.array(features_train), train_y, model_name='KNN', validation=(features_val, val_y))"
   ]
  },
  {
   "cell_type": "code",
   "execution_count": 365,
   "metadata": {},
   "outputs": [],
   "source": [
    "prob7 = model7.predict_proba(features_val)\n",
    "prob70 = prob7[:,0].reshape(prob7.shape[0], 1)\n",
    "prob71 = prob7[:,1].reshape(prob7.shape[0], 1)"
   ]
  },
  {
   "cell_type": "code",
   "execution_count": 468,
   "metadata": {},
   "outputs": [],
   "source": [
    "def plot_combine_roc(test_y, prob):\n",
    "    n_classes = 7\n",
    "    name_arr = ['RF', 'BAG', 'ADA', 'NB', 'SVM', 'XGB', 'KNN']\n",
    "    fpr = {}\n",
    "    tpr = {}\n",
    "    roc_auc = {}\n",
    "    for i in range(n_classes):\n",
    "#         for j in range(len(prob[:,i])):\n",
    "#             if prob[j][i]<0.3:\n",
    "#                 prob[j][i]=0\n",
    "#             else:\n",
    "#                 prob[j][i]=1\n",
    "        print(\"prob: \",test_y,prob[:,i])\n",
    "        \n",
    "        fpr[i], tpr[i], _ = metrics.roc_curve(test_y, prob[:, i],pos_label=2)\n",
    "        print(fpr[i],tpr[i],\"va;ues\")\n",
    "        roc_auc[i] = metrics.roc_auc_score(test_y,  prob[:, i])\n",
    "\n",
    "    figure(num=None, figsize=(12, 6), dpi=80, facecolor='w', edgecolor='k')\n",
    "    colors = cycle(['darkorange', 'cornflowerblue', 'red', 'purple', 'pink', 'violet', 'green'])\n",
    "    for i, color in zip(range(n_classes), colors):\n",
    "        plt.plot(fpr[i], tpr[i], color=color,\n",
    "                 label='ROC curve for ' + name_arr[i] + ' class (area = {1:0.2f})'\n",
    "                 ''.format(i, roc_auc[i]))\n",
    "\n",
    "    plt.xlabel('False Positive Rate')\n",
    "    plt.ylabel('True Positive Rate')\n",
    "    plt.legend()\n",
    "#     plt.savefig('output/roc_lda_on_pca_uninfected.png')\n",
    "    plt.show()"
   ]
  },
  {
   "cell_type": "code",
   "execution_count": 469,
   "metadata": {},
   "outputs": [],
   "source": [
    "def plot_roc(fpr, tpr, class_name, area):\n",
    "    figure(num=None, figsize=(12, 6), dpi=80, facecolor='w', edgecolor='k')\n",
    "    \n",
    "    print(fpr,tpr)\n",
    "    plt.plot(\"this\",fpr,tpr)\n",
    "\n",
    "    plt.xlabel('False Positive Rate')\n",
    "    plt.ylabel('True Positive Rate')\n",
    "\n",
    "    plt.show()"
   ]
  },
  {
   "cell_type": "code",
   "execution_count": 470,
   "metadata": {},
   "outputs": [
    {
     "name": "stdout",
     "output_type": "stream",
     "text": [
      "prob:  [1 0 0 1 1 0 1 1 0 0 0 0 0 1 1 1 0 0 0 0 1 1 1 0 1 1 1 0 0 0 1 1 0 0 0 0 0\n",
      " 1 0 0 1 0 0 0 1 0 0 0 0 0 0 0] [0.54602396 0.49904512 0.64776581 0.46595411 0.45194813 0.46674848\n",
      " 0.53021722 0.46595411 0.57967232 0.47638271 0.51506306 0.57121902\n",
      " 0.50096564 0.47105609 0.53135514 0.55750627 0.47022861 0.5367666\n",
      " 0.42360267 0.52123644 0.50992535 0.4792213  0.51491193 0.51235832\n",
      " 0.50476118 0.43053746 0.54731906 0.48230383 0.44647499 0.47391467\n",
      " 0.6131034  0.37689661 0.55750627 0.53857701 0.54532567 0.53563033\n",
      " 0.41090047 0.49543551 0.36674486 0.45194813 0.55750627 0.56750072\n",
      " 0.55499215 0.3449004  0.51306574 0.38318493 0.53280046 0.55376194\n",
      " 0.50992535 0.50096564 0.54602396 0.56714321]\n",
      "[0.         0.01923077 0.11538462 0.17307692 0.23076923 0.26923077\n",
      " 0.5        0.53846154 0.55769231 0.59615385 0.76923077 0.84615385\n",
      " 1.        ] [nan nan nan nan nan nan nan nan nan nan nan nan nan] va;ues\n",
      "prob:  [1 0 0 1 1 0 1 1 0 0 0 0 0 1 1 1 0 0 0 0 1 1 1 0 1 1 1 0 0 0 1 1 0 0 0 0 0\n",
      " 1 0 0 1 0 0 0 1 0 0 0 0 0 0 0] [0.45397604 0.50095488 0.35223419 0.53404589 0.54805187 0.53325152\n",
      " 0.46978278 0.53404589 0.42032768 0.52361729 0.48493694 0.42878098\n",
      " 0.49903436 0.52894391 0.46864486 0.44249373 0.52977139 0.4632334\n",
      " 0.57639733 0.47876356 0.49007465 0.5207787  0.48508807 0.48764168\n",
      " 0.49523882 0.56946254 0.45268094 0.51769617 0.55352501 0.52608533\n",
      " 0.3868966  0.62310339 0.44249373 0.46142299 0.45467433 0.46436967\n",
      " 0.58909953 0.50456449 0.63325514 0.54805187 0.44249373 0.43249928\n",
      " 0.44500785 0.6550996  0.48693426 0.61681507 0.46719954 0.44623806\n",
      " 0.49007465 0.49903436 0.45397604 0.43285679]\n",
      "[0.         0.01923077 0.15384615 0.23076923 0.40384615 0.44230769\n",
      " 0.46153846 0.5        0.73076923 0.76923077 0.82692308 0.88461538\n",
      " 1.        ] [nan nan nan nan nan nan nan nan nan nan nan nan nan] va;ues\n",
      "prob:  [1 0 0 1 1 0 1 1 0 0 0 0 0 1 1 1 0 0 0 0 1 1 1 0 1 1 1 0 0 0 1 1 0 0 0 0 0\n",
      " 1 0 0 1 0 0 0 1 0 0 0 0 0 0 0] [0.79907399 0.04956937 0.89371592 0.04198766 0.85763669 0.88366133\n",
      " 0.04906309 0.09782726 0.95869392 0.82257736 0.16733611 0.82767975\n",
      " 0.89396852 0.19062573 0.82767975 0.82257736 0.8435539  0.95150912\n",
      " 0.81125975 0.42756891 0.89371592 0.89371592 0.37186098 0.09782726\n",
      " 0.84536409 0.09196901 0.97053868 0.95869392 0.04198766 0.97053868\n",
      " 0.89371592 0.10817486 0.19013757 0.97989929 0.79907399 0.84035122\n",
      " 0.04906309 0.65760869 0.93428206 0.84599018 0.95150912 0.97053868\n",
      " 0.89371592 0.82257736 0.8195715  0.19062573 0.82257736 0.09196901\n",
      " 0.08488476 0.85280418 0.37186098 0.95150912]\n",
      "[0.         0.01923077 0.07692308 0.11538462 0.17307692 0.21153846\n",
      " 0.30769231 0.44230769 0.48076923 0.55769231 0.59615385 0.63461538\n",
      " 0.67307692 0.75       0.80769231 0.88461538 0.92307692 1.        ] [nan nan nan nan nan nan nan nan nan nan nan nan nan nan nan nan nan nan] va;ues\n",
      "prob:  [1 0 0 1 1 0 1 1 0 0 0 0 0 1 1 1 0 0 0 0 1 1 1 0 1 1 1 0 0 0 1 1 0 0 0 0 0\n",
      " 1 0 0 1 0 0 0 1 0 0 0 0 0 0 0] [0.20092599 0.95043063 0.10628408 0.95801234 0.14236331 0.11633869\n",
      " 0.95093691 0.90217274 0.0413061  0.17742263 0.83266389 0.17232022\n",
      " 0.10603148 0.80937427 0.17232022 0.17742263 0.15644611 0.04849089\n",
      " 0.18874027 0.57243109 0.10628408 0.10628408 0.62813902 0.90217274\n",
      " 0.15463592 0.90803099 0.02946134 0.0413061  0.95801234 0.02946134\n",
      " 0.10628408 0.89182514 0.80986243 0.02010074 0.20092599 0.15964879\n",
      " 0.95093691 0.34239131 0.06571794 0.15400983 0.04849089 0.02946134\n",
      " 0.10628408 0.17742263 0.18042848 0.80937427 0.17742263 0.90803099\n",
      " 0.91511524 0.14719582 0.62813902 0.04849089]\n",
      "[0.         0.03846154 0.07692308 0.11538462 0.19230769 0.25\n",
      " 0.32692308 0.36538462 0.40384615 0.44230769 0.51923077 0.55769231\n",
      " 0.69230769 0.78846154 0.82692308 0.88461538 0.92307692 0.98076923\n",
      " 1.        ] [nan nan nan nan nan nan nan nan nan nan nan nan nan nan nan nan nan nan\n",
      " nan] va;ues\n",
      "prob:  [1 0 0 1 1 0 1 1 0 0 0 0 0 1 1 1 0 0 0 0 1 1 1 0 1 1 1 0 0 0 1 1 0 0 0 0 0\n",
      " 1 0 0 1 0 0 0 1 0 0 0 0 0 0 0] [0.48656746 0.5174055  0.52600089 0.49760133 0.52750414 0.51525136\n",
      " 0.5162678  0.4997767  0.51684069 0.50372907 0.48274337 0.5071406\n",
      " 0.51143087 0.49122561 0.33885975 0.50168665 0.50982879 0.50162664\n",
      " 0.50487741 0.49603782 0.52936209 0.52411786 0.50935536 0.51221864\n",
      " 0.47768177 0.5128956  0.51182761 0.5159779  0.49010461 0.50998327\n",
      " 0.50800639 0.50355804 0.49156833 0.52545172 0.51126148 0.52134551\n",
      " 0.47848359 0.49875189 0.52144508 0.50409519 0.50300164 0.5073316\n",
      " 0.47587893 0.4734734  0.48237663 0.50998618 0.52761475 0.53446732\n",
      " 0.49107939 0.33819623 0.49820275 0.52059804]\n",
      "[0.         0.01923077 1.        ] [nan nan nan] va;ues\n",
      "prob:  [1 0 0 1 1 0 1 1 0 0 0 0 0 1 1 1 0 0 0 0 1 1 1 0 1 1 1 0 0 0 1 1 0 0 0 0 0\n",
      " 1 0 0 1 0 0 0 1 0 0 0 0 0 0 0] [6.33481816e-01 9.51092392e-01 9.59572685e-01 7.04516302e-01\n",
      " 7.59425851e-01 8.25767107e-01 8.51446184e-01 1.22301296e-01\n",
      " 9.00685684e-01 5.71554093e-01 1.25046869e-04 6.07350016e-01\n",
      " 8.37779007e-01 5.53633347e-01 7.86046434e-01 5.57181883e-01\n",
      " 5.83649707e-01 6.15670558e-01 8.72464167e-01 7.81386589e-01\n",
      " 9.88763710e-01 1.00000000e+00 6.35751972e-01 4.80521711e-01\n",
      " 5.34369045e-01 8.82134527e-01 7.14738036e-01 8.60336256e-01\n",
      " 7.66976501e-01 9.21259948e-01 3.68296454e-01 3.20243877e-01\n",
      " 6.97216940e-01 8.09718810e-01 8.15527019e-01 8.69149570e-01\n",
      " 6.84650655e-02 4.79557970e-01 6.36202181e-01 7.80717864e-01\n",
      " 7.13238515e-01 9.37626212e-01 5.19856165e-59 1.48033586e-03\n",
      " 4.45044901e-01 8.72111178e-01 6.92569885e-01 7.83018543e-01\n",
      " 8.75977827e-01 7.41248130e-01 3.88938393e-01 7.88464368e-01]\n",
      "[0.         0.01923077 1.        ] [nan nan nan] va;ues\n",
      "prob:  [1 0 0 1 1 0 1 1 0 0 0 0 0 1 1 1 0 0 0 0 1 1 1 0 1 1 1 0 0 0 1 1 0 0 0 0 0\n",
      " 1 0 0 1 0 0 0 1 0 0 0 0 0 0 0] [0.61652022 0.61651243 0.61709309 0.61581874 0.61594156 0.61640479\n",
      " 0.60843899 0.61629431 0.61687338 0.61310117 0.61659179 0.61405781\n",
      " 0.61270975 0.61349051 0.60876701 0.61497578 0.61486918 0.61692498\n",
      " 0.61460163 0.61888236 0.62068858 0.61868151 0.61684441 0.60290537\n",
      " 0.60104854 0.61544111 0.60774792 0.61507793 0.61522509 0.61941821\n",
      " 0.61711645 0.60650489 0.61687253 0.61948146 0.61503452 0.61850168\n",
      " 0.60133166 0.6090457  0.61791965 0.61654306 0.61579781 0.61889623\n",
      " 0.59959674 0.60623608 0.61582183 0.60586063 0.61223365 0.61792702\n",
      " 0.61324336 0.60513775 0.61686783 0.6152075 ]\n",
      "[0.         0.01923077 1.        ] [nan nan nan] va;ues\n"
     ]
    },
    {
     "name": "stderr",
     "output_type": "stream",
     "text": [
      "c:\\users\\toorr\\appdata\\local\\programs\\python\\python37\\lib\\site-packages\\sklearn\\metrics\\_ranking.py:808: UndefinedMetricWarning: No positive samples in y_true, true positive value should be meaningless\n",
      "  UndefinedMetricWarning)\n",
      "c:\\users\\toorr\\appdata\\local\\programs\\python\\python37\\lib\\site-packages\\sklearn\\metrics\\_ranking.py:808: UndefinedMetricWarning: No positive samples in y_true, true positive value should be meaningless\n",
      "  UndefinedMetricWarning)\n",
      "c:\\users\\toorr\\appdata\\local\\programs\\python\\python37\\lib\\site-packages\\sklearn\\metrics\\_ranking.py:808: UndefinedMetricWarning: No positive samples in y_true, true positive value should be meaningless\n",
      "  UndefinedMetricWarning)\n",
      "c:\\users\\toorr\\appdata\\local\\programs\\python\\python37\\lib\\site-packages\\sklearn\\metrics\\_ranking.py:808: UndefinedMetricWarning: No positive samples in y_true, true positive value should be meaningless\n",
      "  UndefinedMetricWarning)\n",
      "c:\\users\\toorr\\appdata\\local\\programs\\python\\python37\\lib\\site-packages\\sklearn\\metrics\\_ranking.py:808: UndefinedMetricWarning: No positive samples in y_true, true positive value should be meaningless\n",
      "  UndefinedMetricWarning)\n",
      "c:\\users\\toorr\\appdata\\local\\programs\\python\\python37\\lib\\site-packages\\sklearn\\metrics\\_ranking.py:808: UndefinedMetricWarning: No positive samples in y_true, true positive value should be meaningless\n",
      "  UndefinedMetricWarning)\n",
      "c:\\users\\toorr\\appdata\\local\\programs\\python\\python37\\lib\\site-packages\\sklearn\\metrics\\_ranking.py:808: UndefinedMetricWarning: No positive samples in y_true, true positive value should be meaningless\n",
      "  UndefinedMetricWarning)\n"
     ]
    },
    {
     "data": {
      "image/png": "[encoded data removed]",
      "text/plain": [
       "<Figure size 960x480 with 1 Axes>"
      ]
     },
     "metadata": {},
     "output_type": "display_data"
    }
   ],
   "source": [
    "prob = np.concatenate((prob10, prob20, prob30, prob40, prob50, prob60, prob70), axis=1)\n",
    "plot_combine_roc(val_y, prob)"
   ]
  },
  {
   "cell_type": "code",
   "execution_count": 377,
   "metadata": {},
   "outputs": [
    {
     "name": "stderr",
     "output_type": "stream",
     "text": [
      "c:\\users\\toorr\\appdata\\local\\programs\\python\\python37\\lib\\site-packages\\sklearn\\metrics\\_ranking.py:808: UndefinedMetricWarning: No positive samples in y_true, true positive value should be meaningless\n",
      "  UndefinedMetricWarning)\n",
      "c:\\users\\toorr\\appdata\\local\\programs\\python\\python37\\lib\\site-packages\\sklearn\\metrics\\_ranking.py:808: UndefinedMetricWarning: No positive samples in y_true, true positive value should be meaningless\n",
      "  UndefinedMetricWarning)\n",
      "c:\\users\\toorr\\appdata\\local\\programs\\python\\python37\\lib\\site-packages\\sklearn\\metrics\\_ranking.py:808: UndefinedMetricWarning: No positive samples in y_true, true positive value should be meaningless\n",
      "  UndefinedMetricWarning)\n",
      "c:\\users\\toorr\\appdata\\local\\programs\\python\\python37\\lib\\site-packages\\sklearn\\metrics\\_ranking.py:808: UndefinedMetricWarning: No positive samples in y_true, true positive value should be meaningless\n",
      "  UndefinedMetricWarning)\n",
      "c:\\users\\toorr\\appdata\\local\\programs\\python\\python37\\lib\\site-packages\\sklearn\\metrics\\_ranking.py:808: UndefinedMetricWarning: No positive samples in y_true, true positive value should be meaningless\n",
      "  UndefinedMetricWarning)\n",
      "c:\\users\\toorr\\appdata\\local\\programs\\python\\python37\\lib\\site-packages\\sklearn\\metrics\\_ranking.py:808: UndefinedMetricWarning: No positive samples in y_true, true positive value should be meaningless\n",
      "  UndefinedMetricWarning)\n",
      "c:\\users\\toorr\\appdata\\local\\programs\\python\\python37\\lib\\site-packages\\sklearn\\metrics\\_ranking.py:808: UndefinedMetricWarning: No positive samples in y_true, true positive value should be meaningless\n",
      "  UndefinedMetricWarning)\n"
     ]
    },
    {
     "name": "stdout",
     "output_type": "stream",
     "text": [
      "[0.         0.01923077 1.        ] [nan nan nan] va;ues\n",
      "[0.         0.01923077 0.07692308 0.15384615 0.19230769 0.25\n",
      " 0.28846154 0.38461538 0.44230769 0.51923077 0.63461538 0.71153846\n",
      " 0.73076923 0.76923077 0.86538462 0.90384615 0.92307692 0.96153846\n",
      " 1.        ] [nan nan nan nan nan nan nan nan nan nan nan nan nan nan nan nan nan nan\n",
      " nan] va;ues\n",
      "[0.         0.01923077 1.        ] [nan nan nan] va;ues\n",
      "[0.         0.01923077 1.        ] [nan nan nan] va;ues\n",
      "[0.         0.01923077 1.        ] [nan nan nan] va;ues\n",
      "[0.         0.01923077 1.        ] [nan nan nan] va;ues\n",
      "[0.         0.03846154 0.96153846 1.        ] [nan nan nan nan] va;ues\n"
     ]
    },
    {
     "data": {
      "image/png": "[encoded data removed]",
      "text/plain": [
       "<Figure size 960x480 with 1 Axes>"
      ]
     },
     "metadata": {},
     "output_type": "display_data"
    }
   ],
   "source": [
    "prob = np.concatenate((prob11, prob21, prob31, prob41, prob51, prob61, prob71), axis=1)\n",
    "plot_combine_roc(val_y, prob)"
   ]
  },
  {
   "cell_type": "markdown",
   "metadata": {},
   "source": [
    "### LDA"
   ]
  },
  {
   "cell_type": "code",
   "execution_count": 378,
   "metadata": {},
   "outputs": [
    {
     "name": "stdout",
     "output_type": "stream",
     "text": [
      "Validation Accuracy in 'RF' = 0.5576923076923077\n",
      "[[23 10]\n",
      " [13  6]]\n",
      "Recall in 'RF' = 0.696969696969697\n",
      "Precision in 'RF' = 0.6388888888888888\n",
      "F1 Score in 'RF' = 0.6666666666666666\n"
     ]
    }
   ],
   "source": [
    "model8 = train_model(features_train_lda, train_y, model_name='RF', validation=(features_val_lda, val_y))"
   ]
  },
  {
   "cell_type": "code",
   "execution_count": 379,
   "metadata": {},
   "outputs": [],
   "source": [
    "prob8 = model8.predict_proba(features_val_lda)\n",
    "prob80 = prob8[:,0].reshape(prob8.shape[0], 1)\n",
    "prob81 = prob8[:,1].reshape(prob8.shape[0], 1)"
   ]
  },
  {
   "cell_type": "code",
   "execution_count": 380,
   "metadata": {},
   "outputs": [
    {
     "name": "stdout",
     "output_type": "stream",
     "text": [
      "Validation Accuracy in 'BAG' = 0.5384615384615384\n",
      "[[21 12]\n",
      " [12  7]]\n",
      "Recall in 'BAG' = 0.6363636363636364\n",
      "Precision in 'BAG' = 0.6363636363636364\n",
      "F1 Score in 'BAG' = 0.6363636363636364\n"
     ]
    }
   ],
   "source": [
    "model9 = train_model(features_train_lda, train_y, model_name='BAG', validation=(features_val_lda, val_y))"
   ]
  },
  {
   "cell_type": "code",
   "execution_count": 381,
   "metadata": {},
   "outputs": [],
   "source": [
    "prob9 = model9.predict_proba(features_val_lda)\n",
    "prob90 = prob9[:,0].reshape(prob9.shape[0], 1)\n",
    "prob91 = prob9[:,1].reshape(prob9.shape[0], 1)"
   ]
  },
  {
   "cell_type": "code",
   "execution_count": 382,
   "metadata": {},
   "outputs": [
    {
     "name": "stdout",
     "output_type": "stream",
     "text": [
      "Validation Accuracy in 'ADA' = 0.5384615384615384\n",
      "[[20 13]\n",
      " [11  8]]\n",
      "Recall in 'ADA' = 0.6060606060606061\n",
      "Precision in 'ADA' = 0.6451612903225806\n",
      "F1 Score in 'ADA' = 0.625\n"
     ]
    }
   ],
   "source": [
    "model10 = train_model(features_train_lda, train_y, model_name='ADA', validation=(features_val_lda, val_y))"
   ]
  },
  {
   "cell_type": "code",
   "execution_count": 383,
   "metadata": {},
   "outputs": [],
   "source": [
    "prob10 = model10.predict_proba(features_val_lda)\n",
    "prob100 = prob10[:,0].reshape(prob10.shape[0], 1)\n",
    "prob101 = prob10[:,1].reshape(prob10.shape[0], 1)"
   ]
  },
  {
   "cell_type": "code",
   "execution_count": 384,
   "metadata": {},
   "outputs": [
    {
     "name": "stdout",
     "output_type": "stream",
     "text": [
      "Validation Accuracy in 'NB' = 0.5\n",
      "[[20 13]\n",
      " [13  6]]\n",
      "Recall in 'NB' = 0.6060606060606061\n",
      "Precision in 'NB' = 0.6060606060606061\n",
      "F1 Score in 'NB' = 0.6060606060606061\n"
     ]
    }
   ],
   "source": [
    "model11 = train_model(features_train_lda, train_y, model_name='NB', validation=(features_val_lda, val_y))"
   ]
  },
  {
   "cell_type": "code",
   "execution_count": 385,
   "metadata": {},
   "outputs": [],
   "source": [
    "prob11 = model11.predict_proba(features_val_lda)\n",
    "prob110 = prob11[:,0].reshape(prob11.shape[0], 1)\n",
    "prob111 = prob11[:,1].reshape(prob11.shape[0], 1)"
   ]
  },
  {
   "cell_type": "code",
   "execution_count": 386,
   "metadata": {},
   "outputs": [
    {
     "name": "stdout",
     "output_type": "stream",
     "text": [
      "Validation Accuracy in 'SVM' = 0.5192307692307693\n",
      "[[20 13]\n",
      " [12  7]]\n",
      "Recall in 'SVM' = 0.6060606060606061\n",
      "Precision in 'SVM' = 0.625\n",
      "F1 Score in 'SVM' = 0.6153846153846154\n"
     ]
    }
   ],
   "source": [
    "model12 = train_model(features_train_lda, train_y, model_name='SVM', validation=(features_val_lda, val_y))"
   ]
  },
  {
   "cell_type": "code",
   "execution_count": 387,
   "metadata": {},
   "outputs": [],
   "source": [
    "prob12 = model12.predict_proba(features_val_lda)\n",
    "prob120 = prob12[:,0].reshape(prob12.shape[0], 1)\n",
    "prob121 = prob12[:,1].reshape(prob12.shape[0], 1)"
   ]
  },
  {
   "cell_type": "code",
   "execution_count": 388,
   "metadata": {},
   "outputs": [
    {
     "name": "stdout",
     "output_type": "stream",
     "text": [
      "Validation Accuracy in 'XGB' = 0.5961538461538461\n",
      "[[24  9]\n",
      " [12  7]]\n",
      "Recall in 'XGB' = 0.7272727272727273\n",
      "Precision in 'XGB' = 0.6666666666666666\n",
      "F1 Score in 'XGB' = 0.6956521739130435\n"
     ]
    }
   ],
   "source": [
    "model13 = train_model(features_train_lda, train_y, model_name='XGB', validation=(features_val_lda, val_y))"
   ]
  },
  {
   "cell_type": "code",
   "execution_count": 389,
   "metadata": {},
   "outputs": [],
   "source": [
    "prob13 = model13.predict_proba(features_val_lda)\n",
    "prob130 = prob13[:,0].reshape(prob13.shape[0], 1)\n",
    "prob131 = prob13[:,1].reshape(prob13.shape[0], 1)"
   ]
  },
  {
   "cell_type": "code",
   "execution_count": 390,
   "metadata": {},
   "outputs": [
    {
     "name": "stdout",
     "output_type": "stream",
     "text": [
      "Validation Accuracy in 'KNN' = 0.4807692307692308\n",
      "[[20 13]\n",
      " [14  5]]\n",
      "Recall in 'KNN' = 0.6060606060606061\n",
      "Precision in 'KNN' = 0.5882352941176471\n",
      "F1 Score in 'KNN' = 0.5970149253731343\n"
     ]
    }
   ],
   "source": [
    "model14 = train_model(features_train_lda, train_y, model_name='KNN', validation=(features_val_lda, val_y))"
   ]
  },
  {
   "cell_type": "code",
   "execution_count": 391,
   "metadata": {},
   "outputs": [],
   "source": [
    "prob14 = model14.predict_proba(features_val_lda)\n",
    "prob140 = prob14[:,0].reshape(prob14.shape[0], 1)\n",
    "prob141 = prob14[:,1].reshape(prob14.shape[0], 1)"
   ]
  },
  {
   "cell_type": "code",
   "execution_count": 392,
   "metadata": {},
   "outputs": [
    {
     "name": "stderr",
     "output_type": "stream",
     "text": [
      "c:\\users\\toorr\\appdata\\local\\programs\\python\\python37\\lib\\site-packages\\sklearn\\metrics\\_ranking.py:808: UndefinedMetricWarning: No positive samples in y_true, true positive value should be meaningless\n",
      "  UndefinedMetricWarning)\n",
      "c:\\users\\toorr\\appdata\\local\\programs\\python\\python37\\lib\\site-packages\\sklearn\\metrics\\_ranking.py:808: UndefinedMetricWarning: No positive samples in y_true, true positive value should be meaningless\n",
      "  UndefinedMetricWarning)\n",
      "c:\\users\\toorr\\appdata\\local\\programs\\python\\python37\\lib\\site-packages\\sklearn\\metrics\\_ranking.py:808: UndefinedMetricWarning: No positive samples in y_true, true positive value should be meaningless\n",
      "  UndefinedMetricWarning)\n",
      "c:\\users\\toorr\\appdata\\local\\programs\\python\\python37\\lib\\site-packages\\sklearn\\metrics\\_ranking.py:808: UndefinedMetricWarning: No positive samples in y_true, true positive value should be meaningless\n",
      "  UndefinedMetricWarning)\n",
      "c:\\users\\toorr\\appdata\\local\\programs\\python\\python37\\lib\\site-packages\\sklearn\\metrics\\_ranking.py:808: UndefinedMetricWarning: No positive samples in y_true, true positive value should be meaningless\n",
      "  UndefinedMetricWarning)\n",
      "c:\\users\\toorr\\appdata\\local\\programs\\python\\python37\\lib\\site-packages\\sklearn\\metrics\\_ranking.py:808: UndefinedMetricWarning: No positive samples in y_true, true positive value should be meaningless\n",
      "  UndefinedMetricWarning)\n",
      "c:\\users\\toorr\\appdata\\local\\programs\\python\\python37\\lib\\site-packages\\sklearn\\metrics\\_ranking.py:808: UndefinedMetricWarning: No positive samples in y_true, true positive value should be meaningless\n",
      "  UndefinedMetricWarning)\n"
     ]
    },
    {
     "name": "stdout",
     "output_type": "stream",
     "text": [
      "[0.         0.01923077 0.05769231 0.09615385 0.80769231 0.84615385\n",
      " 1.        ] [nan nan nan nan nan nan nan] va;ues\n",
      "[0.         0.19230769 0.26923077 0.34615385 0.38461538 0.48076923\n",
      " 0.51923077 0.55769231 0.61538462 0.67307692 0.71153846 0.78846154\n",
      " 0.84615385 0.90384615 1.        ] [nan nan nan nan nan nan nan nan nan nan nan nan nan nan nan] va;ues\n",
      "[0.         0.01923077 0.11538462 0.17307692 0.23076923 0.26923077\n",
      " 0.5        0.53846154 0.55769231 0.59615385 0.76923077 0.84615385\n",
      " 1.        ] [nan nan nan nan nan nan nan nan nan nan nan nan nan] va;ues\n",
      "[0.         0.01923077 1.        ] [nan nan nan] va;ues\n",
      "[0.         0.01923077 1.        ] [nan nan nan] va;ues\n",
      "[0.         0.01923077 0.17307692 0.21153846 0.73076923 0.76923077\n",
      " 1.        ] [nan nan nan nan nan nan nan] va;ues\n",
      "[0.         0.30769231 0.86538462 1.        ] [nan nan nan nan] va;ues\n"
     ]
    },
    {
     "data": {
      "image/png": "[encoded data removed]",
      "text/plain": [
       "<Figure size 960x480 with 1 Axes>"
      ]
     },
     "metadata": {},
     "output_type": "display_data"
    }
   ],
   "source": [
    "prob = np.concatenate((prob80, prob90, prob100, prob110, prob120, prob130, prob140), axis=1)\n",
    "plot_combine_roc(val_y, prob)"
   ]
  },
  {
   "cell_type": "code",
   "execution_count": 393,
   "metadata": {},
   "outputs": [
    {
     "name": "stderr",
     "output_type": "stream",
     "text": [
      "c:\\users\\toorr\\appdata\\local\\programs\\python\\python37\\lib\\site-packages\\sklearn\\metrics\\_ranking.py:808: UndefinedMetricWarning: No positive samples in y_true, true positive value should be meaningless\n",
      "  UndefinedMetricWarning)\n",
      "c:\\users\\toorr\\appdata\\local\\programs\\python\\python37\\lib\\site-packages\\sklearn\\metrics\\_ranking.py:808: UndefinedMetricWarning: No positive samples in y_true, true positive value should be meaningless\n",
      "  UndefinedMetricWarning)\n",
      "c:\\users\\toorr\\appdata\\local\\programs\\python\\python37\\lib\\site-packages\\sklearn\\metrics\\_ranking.py:808: UndefinedMetricWarning: No positive samples in y_true, true positive value should be meaningless\n",
      "  UndefinedMetricWarning)\n",
      "c:\\users\\toorr\\appdata\\local\\programs\\python\\python37\\lib\\site-packages\\sklearn\\metrics\\_ranking.py:808: UndefinedMetricWarning: No positive samples in y_true, true positive value should be meaningless\n",
      "  UndefinedMetricWarning)\n",
      "c:\\users\\toorr\\appdata\\local\\programs\\python\\python37\\lib\\site-packages\\sklearn\\metrics\\_ranking.py:808: UndefinedMetricWarning: No positive samples in y_true, true positive value should be meaningless\n",
      "  UndefinedMetricWarning)\n",
      "c:\\users\\toorr\\appdata\\local\\programs\\python\\python37\\lib\\site-packages\\sklearn\\metrics\\_ranking.py:808: UndefinedMetricWarning: No positive samples in y_true, true positive value should be meaningless\n",
      "  UndefinedMetricWarning)\n",
      "c:\\users\\toorr\\appdata\\local\\programs\\python\\python37\\lib\\site-packages\\sklearn\\metrics\\_ranking.py:808: UndefinedMetricWarning: No positive samples in y_true, true positive value should be meaningless\n",
      "  UndefinedMetricWarning)\n"
     ]
    },
    {
     "name": "stdout",
     "output_type": "stream",
     "text": [
      "[0.         0.01923077 0.15384615 0.19230769 0.90384615 0.94230769\n",
      " 1.        ] [nan nan nan nan nan nan nan] va;ues\n",
      "[0.         0.09615385 0.15384615 0.21153846 0.28846154 0.32692308\n",
      " 0.38461538 0.44230769 0.48076923 0.51923077 0.61538462 0.65384615\n",
      " 0.73076923 0.80769231 1.        ] [nan nan nan nan nan nan nan nan nan nan nan nan nan nan nan] va;ues\n",
      "[0.         0.01923077 0.15384615 0.23076923 0.40384615 0.44230769\n",
      " 0.46153846 0.5        0.73076923 0.76923077 0.82692308 0.88461538\n",
      " 1.        ] [nan nan nan nan nan nan nan nan nan nan nan nan nan] va;ues\n",
      "[0.         0.01923077 1.        ] [nan nan nan] va;ues\n",
      "[0.         0.01923077 1.        ] [nan nan nan] va;ues\n",
      "[0.         0.01923077 0.23076923 0.26923077 0.78846154 0.82692308\n",
      " 1.        ] [nan nan nan nan nan nan nan] va;ues\n",
      "[0.         0.13461538 0.69230769 1.        ] [nan nan nan nan] va;ues\n"
     ]
    },
    {
     "data": {
      "image/png": "[encoded data removed]",
      "text/plain": [
       "<Figure size 960x480 with 1 Axes>"
      ]
     },
     "metadata": {},
     "output_type": "display_data"
    }
   ],
   "source": [
    "prob = np.concatenate((prob81, prob91, prob101, prob111, prob121, prob131, prob141), axis=1)\n",
    "plot_combine_roc(val_y, prob)"
   ]
  },
  {
   "cell_type": "markdown",
   "metadata": {},
   "source": [
    "### LDA on PCA"
   ]
  },
  {
   "cell_type": "code",
   "execution_count": 394,
   "metadata": {},
   "outputs": [
    {
     "name": "stdout",
     "output_type": "stream",
     "text": [
      "Validation Accuracy in 'RF' = 0.5576923076923077\n",
      "[[21 12]\n",
      " [11  8]]\n",
      "Recall in 'RF' = 0.6363636363636364\n",
      "Precision in 'RF' = 0.65625\n",
      "F1 Score in 'RF' = 0.6461538461538462\n"
     ]
    }
   ],
   "source": [
    "model15 = train_model(lda_on_pca_train, train_y, model_name='RF', validation=(lda_on_pca_val, val_y))"
   ]
  },
  {
   "cell_type": "code",
   "execution_count": 395,
   "metadata": {},
   "outputs": [],
   "source": [
    "prob15 = model15.predict_proba(lda_on_pca_val)\n",
    "prob150 = prob15[:,0].reshape(prob15.shape[0], 1)\n",
    "prob151 = prob15[:,1].reshape(prob15.shape[0], 1)"
   ]
  },
  {
   "cell_type": "code",
   "execution_count": 396,
   "metadata": {},
   "outputs": [
    {
     "name": "stdout",
     "output_type": "stream",
     "text": [
      "Validation Accuracy in 'BAG' = 0.5769230769230769\n",
      "[[22 11]\n",
      " [11  8]]\n",
      "Recall in 'BAG' = 0.6666666666666666\n",
      "Precision in 'BAG' = 0.6666666666666666\n",
      "F1 Score in 'BAG' = 0.6666666666666666\n"
     ]
    }
   ],
   "source": [
    "model16 = train_model(lda_on_pca_train, train_y, model_name='BAG', validation=(lda_on_pca_val, val_y))"
   ]
  },
  {
   "cell_type": "code",
   "execution_count": 397,
   "metadata": {},
   "outputs": [],
   "source": [
    "prob16 = model16.predict_proba(lda_on_pca_val)\n",
    "prob160 = prob16[:,0].reshape(prob16.shape[0], 1)\n",
    "prob161 = prob16[:,1].reshape(prob16.shape[0], 1)"
   ]
  },
  {
   "cell_type": "code",
   "execution_count": 398,
   "metadata": {},
   "outputs": [
    {
     "name": "stdout",
     "output_type": "stream",
     "text": [
      "Validation Accuracy in 'ADA' = 0.5769230769230769\n",
      "[[26  7]\n",
      " [15  4]]\n",
      "Recall in 'ADA' = 0.7878787878787878\n",
      "Precision in 'ADA' = 0.6341463414634146\n",
      "F1 Score in 'ADA' = 0.7027027027027027\n"
     ]
    }
   ],
   "source": [
    "model17 = train_model(lda_on_pca_train, train_y, model_name='ADA', validation=(lda_on_pca_val, val_y))"
   ]
  },
  {
   "cell_type": "code",
   "execution_count": 399,
   "metadata": {},
   "outputs": [],
   "source": [
    "prob17 = model17.predict_proba(lda_on_pca_val)\n",
    "prob170 = prob17[:,0].reshape(prob17.shape[0], 1)\n",
    "prob171 = prob17[:,1].reshape(prob17.shape[0], 1)"
   ]
  },
  {
   "cell_type": "code",
   "execution_count": 400,
   "metadata": {},
   "outputs": [
    {
     "name": "stdout",
     "output_type": "stream",
     "text": [
      "Validation Accuracy in 'NB' = 0.5576923076923077\n",
      "[[23 10]\n",
      " [13  6]]\n",
      "Recall in 'NB' = 0.696969696969697\n",
      "Precision in 'NB' = 0.6388888888888888\n",
      "F1 Score in 'NB' = 0.6666666666666666\n"
     ]
    }
   ],
   "source": [
    "model18 = train_model(lda_on_pca_train, train_y, model_name='NB', validation=(lda_on_pca_val, val_y))"
   ]
  },
  {
   "cell_type": "code",
   "execution_count": 401,
   "metadata": {},
   "outputs": [],
   "source": [
    "prob18 = model18.predict_proba(lda_on_pca_val)\n",
    "prob180 = prob18[:,0].reshape(prob18.shape[0], 1)\n",
    "prob181 = prob18[:,1].reshape(prob18.shape[0], 1)"
   ]
  },
  {
   "cell_type": "code",
   "execution_count": 402,
   "metadata": {},
   "outputs": [
    {
     "name": "stdout",
     "output_type": "stream",
     "text": [
      "Validation Accuracy in 'SVM' = 0.5769230769230769\n",
      "[[23 10]\n",
      " [12  7]]\n",
      "Recall in 'SVM' = 0.696969696969697\n",
      "Precision in 'SVM' = 0.6571428571428571\n",
      "F1 Score in 'SVM' = 0.676470588235294\n"
     ]
    }
   ],
   "source": [
    "model19 = train_model(lda_on_pca_train, train_y, model_name='SVM', validation=(lda_on_pca_val, val_y))"
   ]
  },
  {
   "cell_type": "code",
   "execution_count": 403,
   "metadata": {},
   "outputs": [],
   "source": [
    "prob19 = model19.predict_proba(lda_on_pca_val)\n",
    "prob190 = prob19[:,0].reshape(prob19.shape[0], 1)\n",
    "prob191 = prob19[:,1].reshape(prob19.shape[0], 1)"
   ]
  },
  {
   "cell_type": "code",
   "execution_count": 404,
   "metadata": {},
   "outputs": [
    {
     "name": "stdout",
     "output_type": "stream",
     "text": [
      "Validation Accuracy in 'XGB' = 0.5576923076923077\n",
      "[[22 11]\n",
      " [12  7]]\n",
      "Recall in 'XGB' = 0.6666666666666666\n",
      "Precision in 'XGB' = 0.6470588235294118\n",
      "F1 Score in 'XGB' = 0.6567164179104478\n"
     ]
    }
   ],
   "source": [
    "model20 = train_model(lda_on_pca_train, train_y, model_name='XGB', validation=(lda_on_pca_val, val_y))"
   ]
  },
  {
   "cell_type": "code",
   "execution_count": 405,
   "metadata": {},
   "outputs": [],
   "source": [
    "prob20 = model20.predict_proba(lda_on_pca_val)\n",
    "prob200 = prob20[:,0].reshape(prob20.shape[0], 1)\n",
    "prob201 = prob20[:,1].reshape(prob20.shape[0], 1)"
   ]
  },
  {
   "cell_type": "code",
   "execution_count": 406,
   "metadata": {},
   "outputs": [
    {
     "name": "stdout",
     "output_type": "stream",
     "text": [
      "Validation Accuracy in 'KNN' = 0.5576923076923077\n",
      "[[22 11]\n",
      " [12  7]]\n",
      "Recall in 'KNN' = 0.6666666666666666\n",
      "Precision in 'KNN' = 0.6470588235294118\n",
      "F1 Score in 'KNN' = 0.6567164179104478\n"
     ]
    }
   ],
   "source": [
    "model21 = train_model(lda_on_pca_train, train_y, model_name='KNN', validation=(lda_on_pca_val, val_y))"
   ]
  },
  {
   "cell_type": "code",
   "execution_count": 407,
   "metadata": {},
   "outputs": [],
   "source": [
    "prob21 = model21.predict_proba(lda_on_pca_val)\n",
    "prob210 = prob21[:,0].reshape(prob21.shape[0], 1)\n",
    "prob211 = prob21[:,1].reshape(prob21.shape[0], 1)"
   ]
  },
  {
   "cell_type": "code",
   "execution_count": 408,
   "metadata": {},
   "outputs": [
    {
     "name": "stderr",
     "output_type": "stream",
     "text": [
      "c:\\users\\toorr\\appdata\\local\\programs\\python\\python37\\lib\\site-packages\\sklearn\\metrics\\_ranking.py:808: UndefinedMetricWarning: No positive samples in y_true, true positive value should be meaningless\n",
      "  UndefinedMetricWarning)\n",
      "c:\\users\\toorr\\appdata\\local\\programs\\python\\python37\\lib\\site-packages\\sklearn\\metrics\\_ranking.py:808: UndefinedMetricWarning: No positive samples in y_true, true positive value should be meaningless\n",
      "  UndefinedMetricWarning)\n",
      "c:\\users\\toorr\\appdata\\local\\programs\\python\\python37\\lib\\site-packages\\sklearn\\metrics\\_ranking.py:808: UndefinedMetricWarning: No positive samples in y_true, true positive value should be meaningless\n",
      "  UndefinedMetricWarning)\n",
      "c:\\users\\toorr\\appdata\\local\\programs\\python\\python37\\lib\\site-packages\\sklearn\\metrics\\_ranking.py:808: UndefinedMetricWarning: No positive samples in y_true, true positive value should be meaningless\n",
      "  UndefinedMetricWarning)\n",
      "c:\\users\\toorr\\appdata\\local\\programs\\python\\python37\\lib\\site-packages\\sklearn\\metrics\\_ranking.py:808: UndefinedMetricWarning: No positive samples in y_true, true positive value should be meaningless\n",
      "  UndefinedMetricWarning)\n",
      "c:\\users\\toorr\\appdata\\local\\programs\\python\\python37\\lib\\site-packages\\sklearn\\metrics\\_ranking.py:808: UndefinedMetricWarning: No positive samples in y_true, true positive value should be meaningless\n",
      "  UndefinedMetricWarning)\n",
      "c:\\users\\toorr\\appdata\\local\\programs\\python\\python37\\lib\\site-packages\\sklearn\\metrics\\_ranking.py:808: UndefinedMetricWarning: No positive samples in y_true, true positive value should be meaningless\n",
      "  UndefinedMetricWarning)\n"
     ]
    },
    {
     "name": "stdout",
     "output_type": "stream",
     "text": [
      "[0.         0.11538462 0.19230769 0.23076923 0.38461538 0.44230769\n",
      " 0.65384615 0.69230769 0.75       0.78846154 0.80769231 0.84615385\n",
      " 0.88461538 0.92307692 1.        ] [nan nan nan nan nan nan nan nan nan nan nan nan nan nan nan] va;ues\n",
      "[0.         0.21153846 0.25       0.26923077 0.34615385 0.38461538\n",
      " 0.42307692 0.44230769 0.48076923 0.5        0.53846154 0.55769231\n",
      " 0.61538462 0.65384615 0.76923077 0.82692308 0.90384615 0.94230769\n",
      " 1.        ] [nan nan nan nan nan nan nan nan nan nan nan nan nan nan nan nan nan nan\n",
      " nan] va;ues\n",
      "[0.         0.11538462 0.15384615 0.19230769 0.25       0.28846154\n",
      " 0.30769231 0.34615385 0.36538462 0.44230769 0.61538462 0.73076923\n",
      " 0.84615385 0.92307692 0.96153846 1.        ] [nan nan nan nan nan nan nan nan nan nan nan nan nan nan nan nan] va;ues\n",
      "[0.         0.01923077 1.        ] [nan nan nan] va;ues\n",
      "[0.         0.01923077 1.        ] [nan nan nan] va;ues\n",
      "[0.         0.01923077 0.07692308 0.11538462 0.17307692 0.21153846\n",
      " 0.30769231 0.44230769 0.48076923 0.55769231 0.59615385 0.63461538\n",
      " 0.67307692 0.75       0.80769231 0.88461538 0.92307692 1.        ] [nan nan nan nan nan nan nan nan nan nan nan nan nan nan nan nan nan nan] va;ues\n",
      "[0.         0.17307692 1.        ] [nan nan nan] va;ues\n"
     ]
    },
    {
     "data": {
      "image/png": "[encoded data removed]",
      "text/plain": [
       "<Figure size 960x480 with 1 Axes>"
      ]
     },
     "metadata": {},
     "output_type": "display_data"
    }
   ],
   "source": [
    "prob = np.concatenate((prob150, prob160, prob170, prob180, prob190, prob200, prob210), axis=1)\n",
    "plot_combine_roc(val_y, prob)"
   ]
  },
  {
   "cell_type": "code",
   "execution_count": 409,
   "metadata": {},
   "outputs": [
    {
     "name": "stderr",
     "output_type": "stream",
     "text": [
      "c:\\users\\toorr\\appdata\\local\\programs\\python\\python37\\lib\\site-packages\\sklearn\\metrics\\_ranking.py:808: UndefinedMetricWarning: No positive samples in y_true, true positive value should be meaningless\n",
      "  UndefinedMetricWarning)\n",
      "c:\\users\\toorr\\appdata\\local\\programs\\python\\python37\\lib\\site-packages\\sklearn\\metrics\\_ranking.py:808: UndefinedMetricWarning: No positive samples in y_true, true positive value should be meaningless\n",
      "  UndefinedMetricWarning)\n",
      "c:\\users\\toorr\\appdata\\local\\programs\\python\\python37\\lib\\site-packages\\sklearn\\metrics\\_ranking.py:808: UndefinedMetricWarning: No positive samples in y_true, true positive value should be meaningless\n",
      "  UndefinedMetricWarning)\n",
      "c:\\users\\toorr\\appdata\\local\\programs\\python\\python37\\lib\\site-packages\\sklearn\\metrics\\_ranking.py:808: UndefinedMetricWarning: No positive samples in y_true, true positive value should be meaningless\n",
      "  UndefinedMetricWarning)\n",
      "c:\\users\\toorr\\appdata\\local\\programs\\python\\python37\\lib\\site-packages\\sklearn\\metrics\\_ranking.py:808: UndefinedMetricWarning: No positive samples in y_true, true positive value should be meaningless\n",
      "  UndefinedMetricWarning)\n",
      "c:\\users\\toorr\\appdata\\local\\programs\\python\\python37\\lib\\site-packages\\sklearn\\metrics\\_ranking.py:808: UndefinedMetricWarning: No positive samples in y_true, true positive value should be meaningless\n",
      "  UndefinedMetricWarning)\n",
      "c:\\users\\toorr\\appdata\\local\\programs\\python\\python37\\lib\\site-packages\\sklearn\\metrics\\_ranking.py:808: UndefinedMetricWarning: No positive samples in y_true, true positive value should be meaningless\n",
      "  UndefinedMetricWarning)\n"
     ]
    },
    {
     "name": "stdout",
     "output_type": "stream",
     "text": [
      "[0.         0.01923077 0.07692308 0.11538462 0.15384615 0.19230769\n",
      " 0.21153846 0.25       0.30769231 0.34615385 0.55769231 0.61538462\n",
      " 0.76923077 0.80769231 0.88461538 1.        ] [nan nan nan nan nan nan nan nan nan nan nan nan nan nan nan nan] va;ues\n",
      "[0.         0.05769231 0.09615385 0.17307692 0.23076923 0.34615385\n",
      " 0.38461538 0.44230769 0.46153846 0.5        0.51923077 0.55769231\n",
      " 0.57692308 0.61538462 0.65384615 0.73076923 0.75       0.78846154\n",
      " 1.        ] [nan nan nan nan nan nan nan nan nan nan nan nan nan nan nan nan nan nan\n",
      " nan] va;ues\n",
      "[0.         0.03846154 0.07692308 0.15384615 0.26923077 0.38461538\n",
      " 0.55769231 0.63461538 0.65384615 0.69230769 0.71153846 0.75\n",
      " 0.80769231 0.84615385 0.88461538 1.        ] [nan nan nan nan nan nan nan nan nan nan nan nan nan nan nan nan] va;ues\n",
      "[0.         0.01923077 1.        ] [nan nan nan] va;ues\n",
      "[0.         0.01923077 1.        ] [nan nan nan] va;ues\n",
      "[0.         0.03846154 0.07692308 0.11538462 0.19230769 0.25\n",
      " 0.32692308 0.36538462 0.40384615 0.44230769 0.51923077 0.55769231\n",
      " 0.69230769 0.78846154 0.82692308 0.88461538 0.92307692 0.98076923\n",
      " 1.        ] [nan nan nan nan nan nan nan nan nan nan nan nan nan nan nan nan nan nan\n",
      " nan] va;ues\n",
      "[0.         0.01923077 0.82692308 1.        ] [nan nan nan nan] va;ues\n"
     ]
    },
    {
     "data": {
      "image/png": "[encoded data removed]",
      "text/plain": [
       "<Figure size 960x480 with 1 Axes>"
      ]
     },
     "metadata": {},
     "output_type": "display_data"
    }
   ],
   "source": [
    "prob = np.concatenate((prob151, prob161, prob171, prob181, prob191, prob201, prob211), axis=1)\n",
    "plot_combine_roc(val_y, prob)"
   ]
  },
  {
   "cell_type": "markdown",
   "metadata": {},
   "source": [
    "## Testing"
   ]
  },
  {
   "cell_type": "code",
   "execution_count": 410,
   "metadata": {},
   "outputs": [],
   "source": [
    "hog_comp_train = combine_features([hog_train, hog_val], horizontal=False)\n",
    "lbp_comp_train = combine_features([lbp_train, lbp_val], horizontal=False)\n",
    "kaze_comp_train = combine_features([kaze_train, kaze_val], horizontal=False)\n",
    "# sift_comp_train = combine_features([sift_train, sift_val], horizontal=False)\n",
    "# surf_comp_train = combine_features([surf_train, surf_val], horizontal=False)\n",
    "gabor_comp_train = combine_features([gabor_train, gabor_val], horizontal=False)\n",
    "glcm_comp_train = combine_features([glcm_train, glcm_val], horizontal=False)\n",
    "flat_rgb_comp_train = combine_features([flat_rgb_train, flat_rgb_val], horizontal=False)\n",
    "flat_gray_comp_train = combine_features([flat_gray_train, flat_gray_val], horizontal=False)\n",
    "hist_comp_train = combine_features([hist_train, hist_val], horizontal=False)"
   ]
  },
  {
   "cell_type": "code",
   "execution_count": 411,
   "metadata": {},
   "outputs": [],
   "source": [
    "data_y = np.hstack([train_y, val_y])"
   ]
  },
  {
   "cell_type": "code",
   "execution_count": 413,
   "metadata": {},
   "outputs": [
    {
     "name": "stderr",
     "output_type": "stream",
     "text": [
      "c:\\users\\toorr\\appdata\\local\\programs\\python\\python37\\lib\\site-packages\\sklearn\\decomposition\\_pca.py:456: RuntimeWarning: invalid value encountered in true_divide\n",
      "  explained_variance_ratio_ = explained_variance_ / total_var\n"
     ]
    }
   ],
   "source": [
    "pcas_array = []\n",
    "\n",
    "pca = PCA(n_components=10)\n",
    "pca_hog_comp_train = pca.fit_transform(hog_comp_train)\n",
    "pcas_array.append(pca)\n",
    "\n",
    "pca = PCA(n_components=30)\n",
    "pca_lbp_comp_train = pca.fit_transform(lbp_comp_train)\n",
    "pcas_array.append(pca)\n",
    "\n",
    "pca = PCA(n_components=20)\n",
    "pca_kaze_comp_train = pca.fit_transform(kaze_comp_train)\n",
    "pcas_array.append(pca)\n",
    "\n",
    "# pca = PCA(n_components=15)\n",
    "# pca_sift_comp_train = pca.fit_transform(sift_comp_train)\n",
    "# pcas_array.append(pca)\n",
    "\n",
    "# pca = PCA(n_components=5)\n",
    "# pca_surf_comp_train = pca.fit_transform(surf_comp_train)\n",
    "# pcas_array.append(pca)\n",
    "\n",
    "pca = PCA(n_components=5)\n",
    "pca_gabor_comp_train = pca.fit_transform(gabor_comp_train)\n",
    "pcas_array.append(pca)\n",
    "\n",
    "pca = PCA(n_components=5)\n",
    "pca_glcm_comp_train = pca.fit_transform(glcm_comp_train)\n",
    "pcas_array.append(pca)\n",
    "\n",
    "pca = PCA(n_components=20)\n",
    "pca_flat_rgb_comp_train = pca.fit_transform(flat_rgb_comp_train)\n",
    "pcas_array.append(pca)\n",
    "\n",
    "pca = PCA(n_components=20)\n",
    "pca_flat_gray_comp_train = pca.fit_transform(flat_gray_comp_train)\n",
    "pcas_array.append(pca)\n",
    "\n",
    "pca = PCA(n_components=10)\n",
    "pca_hist_comp_train = pca.fit_transform(hist_comp_train)\n",
    "pcas_array.append(pca)"
   ]
  },
  {
   "cell_type": "code",
   "execution_count": 415,
   "metadata": {},
   "outputs": [],
   "source": [
    "reduced_train_features=[pca_hog_comp_train,\n",
    "                        pca_lbp_comp_train,\n",
    "                        pca_kaze_comp_train,\n",
    "#                         pca_sift_comp_train,\n",
    "#                         pca_surf_comp_train,\n",
    "                        pca_gabor_comp_train,\n",
    "                        pca_glcm_comp_train,\n",
    "                        pca_flat_rgb_comp_train,\n",
    "                        pca_flat_gray_comp_train,\n",
    "                        pca_hist_comp_train]"
   ]
  },
  {
   "cell_type": "code",
   "execution_count": 416,
   "metadata": {},
   "outputs": [
    {
     "name": "stdout",
     "output_type": "stream",
     "text": [
      "Feature saved with name cache/hog_test.pkl\n",
      "Feature saved with name cache/lbp_test.pkl\n",
      "Feature saved with name cache/kaze_test.pkl\n",
      "Feature saved with name cache/gabor_test.pkl\n",
      "Feature saved with name cache/glcm_test.pkl\n",
      "Feature saved with name cache/flat_rgb_test.pkl\n",
      "Feature saved with name cache/flat_gray_test.pkl\n",
      "Feature saved with name cache/hist_test.pkl\n"
     ]
    }
   ],
   "source": [
    "hog_test = get_hog(test_x, name='hog_test', save=True)\n",
    "lbp_test = get_lbp(test_x, name='lbp_test', save=True)\n",
    "kaze_test = get_kaze(test_x, name='kaze_test', save=True)\n",
    "# sift_test = get_sift(test_x, name='sift_test', save=True)\n",
    "# surf_test = get_surf(test_x, name='surf_test', save=True)\n",
    "gabor_test = get_gabor(test_x, name='gabor_test', save=True)\n",
    "glcm_test = get_glcm(test_x, name='glcm_test', save=True)\n",
    "flat_rgb_test = get_flattened(test_x, None, name='flat_rgb_test', save=True)\n",
    "flat_gray_test = get_flattened(test_x, name='flat_gray_test', save=True)\n",
    "hist_test = get_color_hist(test_x, name='hist_test', save=True)"
   ]
  },
  {
   "cell_type": "code",
   "execution_count": 417,
   "metadata": {},
   "outputs": [],
   "source": [
    "test_features= [hog_test,\n",
    "                lbp_test,\n",
    "                kaze_test,\n",
    "#                 sift_test,\n",
    "#                 surf_test,\n",
    "                gabor_test,\n",
    "                glcm_test,\n",
    "                flat_rgb_test,\n",
    "                flat_gray_test,\n",
    "                hist_test]"
   ]
  },
  {
   "cell_type": "code",
   "execution_count": 418,
   "metadata": {},
   "outputs": [],
   "source": [
    "features_comp_train = None\n",
    "features_test = None\n",
    "comp_pcas = []\n",
    "\n",
    "for i, (f_train, f_test) in enumerate(zip(reduced_train_features, \n",
    "                                          test_features)):\n",
    "    if i == 6:\n",
    "        continue\n",
    "    f_test = pcas_array[i].transform(f_test)\n",
    "    \n",
    "    if features_comp_train is None:\n",
    "        features_comp_train = f_train\n",
    "        features_test = f_test\n",
    "    else:\n",
    "        features_comp_train = combine_features([features_comp_train, f_train])\n",
    "        features_test = combine_features([features_test, f_test])"
   ]
  },
  {
   "cell_type": "code",
   "execution_count": 419,
   "metadata": {},
   "outputs": [
    {
     "data": {
      "text/plain": [
       "((257, 100), (65, 100))"
      ]
     },
     "execution_count": 419,
     "metadata": {},
     "output_type": "execute_result"
    }
   ],
   "source": [
    "features_comp_train.shape, features_test.shape"
   ]
  },
  {
   "cell_type": "code",
   "execution_count": 420,
   "metadata": {},
   "outputs": [],
   "source": [
    "comp_model = train_model(features_comp_train, data_y, model_name='XGB')"
   ]
  },
  {
   "cell_type": "code",
   "execution_count": 421,
   "metadata": {},
   "outputs": [],
   "source": [
    "y_hat = comp_model.predict(features_test)"
   ]
  },
  {
   "cell_type": "code",
   "execution_count": 422,
   "metadata": {},
   "outputs": [
    {
     "name": "stdout",
     "output_type": "stream",
     "text": [
      "0.5846153846153846\n",
      "[[30 11]\n",
      " [16  8]]\n",
      "0.6521739130434783 0.7317073170731707 0.6896551724137931\n"
     ]
    }
   ],
   "source": [
    "acc = metrics.accuracy_score(test_y, y_hat)\n",
    "print(acc)\n",
    "cm = metrics.confusion_matrix(test_y, y_hat)\n",
    "print(cm)\n",
    "precision = cm[0][0] / (cm[0][0] + cm[1][0])\n",
    "recall = cm[0][0] / (cm[0][0] + cm[0][1])\n",
    "f1 = 2*(recall * precision) / (recall + precision)\n",
    "print(precision, recall, f1)"
   ]
  },
  {
   "cell_type": "markdown",
   "metadata": {},
   "source": [
    "### CM"
   ]
  },
  {
   "cell_type": "code",
   "execution_count": 423,
   "metadata": {},
   "outputs": [
    {
     "name": "stderr",
     "output_type": "stream",
     "text": [
      "c:\\users\\toorr\\appdata\\local\\programs\\python\\python37\\lib\\site-packages\\joblib\\externals\\loky\\process_executor.py:706: UserWarning: A worker stopped while some jobs were given to the executor. This can be caused by a too short worker timeout or by a memory leak.\n",
      "  \"timeout or by a memory leak.\", UserWarning\n"
     ]
    }
   ],
   "source": [
    "y_hat1 = model1.predict(features_val)\n",
    "y_hat2 = model2.predict(features_val)\n",
    "y_hat3 = model3.predict(features_val)\n",
    "y_hat4 = model4.predict(features_val)\n",
    "y_hat5 = model5.predict(features_val)\n",
    "y_hat6 = model6.predict(features_val)\n",
    "y_hat7 = model7.predict(features_val)"
   ]
  },
  {
   "cell_type": "code",
   "execution_count": 424,
   "metadata": {},
   "outputs": [],
   "source": [
    "cm1 = MetricTools.confusion_matrix(val_y, y_hat1, 2)\n",
    "cm2 = MetricTools.confusion_matrix(val_y, y_hat2, 2)\n",
    "cm3 = MetricTools.confusion_matrix(val_y, y_hat3, 2)\n",
    "cm4 = MetricTools.confusion_matrix(val_y, y_hat4, 2)\n",
    "cm5 = MetricTools.confusion_matrix(val_y, y_hat5, 2)\n",
    "cm6 = MetricTools.confusion_matrix(val_y, y_hat6, 2)\n",
    "cm7 = MetricTools.confusion_matrix(val_y, y_hat7, 2)"
   ]
  },
  {
   "cell_type": "code",
   "execution_count": 425,
   "metadata": {},
   "outputs": [
    {
     "name": "stdout",
     "output_type": "stream",
     "text": [
      "[[28.  5.]\n",
      " [17.  2.]]\n",
      "[[27.  6.]\n",
      " [16.  3.]]\n",
      "[[23. 10.]\n",
      " [11.  8.]]\n",
      "[[27.  6.]\n",
      " [14.  5.]]\n",
      "[[30.  3.]\n",
      " [18.  1.]]\n",
      "[[24.  9.]\n",
      " [13.  6.]]\n",
      "[[22. 11.]\n",
      " [12.  7.]]\n"
     ]
    }
   ],
   "source": [
    "print(cm1)\n",
    "print(cm2)\n",
    "print(cm3)\n",
    "print(cm4)\n",
    "print(cm5)\n",
    "print(cm6)\n",
    "print(cm7)"
   ]
  },
  {
   "cell_type": "code",
   "execution_count": 426,
   "metadata": {},
   "outputs": [
    {
     "data": {
      "image/png": "[encoded data removed]",
      "text/plain": [
       "<Figure size 504x504 with 2 Axes>"
      ]
     },
     "metadata": {
      "needs_background": "light"
     },
     "output_type": "display_data"
    }
   ],
   "source": [
    "PlotTools.confusion_matrix(cm1, list(range(2)))"
   ]
  },
  {
   "cell_type": "markdown",
   "metadata": {},
   "source": [
    "### Model Stacking:"
   ]
  },
  {
   "cell_type": "code",
   "execution_count": 471,
   "metadata": {},
   "outputs": [
    {
     "data": {
      "text/plain": [
       "((205, 30), (52, 30))"
      ]
     },
     "execution_count": 471,
     "metadata": {},
     "output_type": "execute_result"
    }
   ],
   "source": [
    "features_train1 = None\n",
    "features_val1 = None\n",
    "evs = []\n",
    "for ft, fv in zip([pca_hist_train, pca_hog_train, pca_lbp_train], \n",
    "                  [pca_hist_val, pca_hog_val, pca_lbp_val]):    \n",
    "#     scaler = preprocessing.StandardScaler()\n",
    "#     ft = scaler.fit_transform(ft)\n",
    "#     fv = scaler.transform(fv)\n",
    "#     ft = preprocessing.normalize(ft)\n",
    "#     fv = preprocessing.normalize(fv)\n",
    "    if features_train1 is None:\n",
    "        features_train1 = ft\n",
    "        features_val1 = fv\n",
    "    else:\n",
    "        features_train1 = combine_features([features_train1, ft])\n",
    "        features_val1 = combine_features([features_val1, fv])\n",
    "features_train1.shape, features_val1.shape"
   ]
  },
  {
   "cell_type": "code",
   "execution_count": 472,
   "metadata": {},
   "outputs": [
    {
     "name": "stdout",
     "output_type": "stream",
     "text": [
      "Validation Accuracy in 'XGB' = 0.6923076923076923\n",
      "[[28  5]\n",
      " [11  8]]\n",
      "Recall in 'XGB' = 0.8484848484848485\n",
      "Precision in 'XGB' = 0.717948717948718\n",
      "F1 Score in 'XGB' = 0.7777777777777778\n"
     ]
    }
   ],
   "source": [
    "model1 = train_model(features_train1, train_y, model_name='XGB', validation=(features_val1, val_y))\n",
    "prob1 = model1.predict_proba(features_val1)"
   ]
  },
  {
   "cell_type": "code",
   "execution_count": 473,
   "metadata": {},
   "outputs": [
    {
     "data": {
      "text/plain": [
       "((205, 26), (52, 26))"
      ]
     },
     "execution_count": 473,
     "metadata": {},
     "output_type": "execute_result"
    }
   ],
   "source": [
    "features_train2 = None\n",
    "features_val2 = None\n",
    "evs = []\n",
    "for ft, fv in zip([pca_hist_train, pca_flat_gray_train, pca_flat_rgb_train], \n",
    "                  [pca_hist_val, pca_flat_gray_val, pca_flat_rgb_val]):    \n",
    "#     scaler = preprocessing.StandardScaler()\n",
    "#     ft = scaler.fit_transform(ft)\n",
    "#     fv = scaler.transform(fv)\n",
    "#     ft = preprocessing.normalize(ft)\n",
    "#     fv = preprocessing.normalize(fv)\n",
    "    if features_train2 is None:\n",
    "        features_train2 = ft\n",
    "        features_val2 = fv\n",
    "    else:\n",
    "        features_train2 = combine_features([features_train2, ft])\n",
    "        features_val2 = combine_features([features_val2, fv])\n",
    "features_train2.shape, features_val2.shape"
   ]
  },
  {
   "cell_type": "code",
   "execution_count": 474,
   "metadata": {},
   "outputs": [
    {
     "name": "stdout",
     "output_type": "stream",
     "text": [
      "Validation Accuracy in 'XGB' = 0.6153846153846154\n",
      "[[26  7]\n",
      " [13  6]]\n",
      "Recall in 'XGB' = 0.7878787878787878\n",
      "Precision in 'XGB' = 0.6666666666666666\n",
      "F1 Score in 'XGB' = 0.7222222222222221\n"
     ]
    }
   ],
   "source": [
    "model2 = train_model(features_train2, train_y, model_name='XGB', validation=(features_val2, val_y))\n",
    "prob2 = model2.predict_proba(features_val2)"
   ]
  },
  {
   "cell_type": "code",
   "execution_count": 475,
   "metadata": {},
   "outputs": [
    {
     "data": {
      "text/plain": [
       "((205, 10), (52, 10))"
      ]
     },
     "execution_count": 475,
     "metadata": {},
     "output_type": "execute_result"
    }
   ],
   "source": [
    "features_train3 = None\n",
    "features_val3 = None\n",
    "evs = []\n",
    "for ft, fv in zip([pca_kaze_train], \n",
    "                  [pca_kaze_val]):    \n",
    "#     scaler = preprocessing.StandardScaler()\n",
    "#     ft = scaler.fit_transform(ft)\n",
    "#     fv = scaler.transform(fv)\n",
    "#     ft = preprocessing.normalize(ft)\n",
    "#     fv = preprocessing.normalize(fv)\n",
    "    if features_train3 is None:\n",
    "        features_train3 = ft\n",
    "        features_val3 = fv\n",
    "    else:\n",
    "        features_train3 = combine_features([features_train3, ft])\n",
    "        features_val3 = combine_features([features_val3, fv])\n",
    "features_train3.shape, features_val3.shape"
   ]
  },
  {
   "cell_type": "code",
   "execution_count": 476,
   "metadata": {},
   "outputs": [
    {
     "name": "stdout",
     "output_type": "stream",
     "text": [
      "Validation Accuracy in 'XGB' = 0.5384615384615384\n",
      "[[24  9]\n",
      " [15  4]]\n",
      "Recall in 'XGB' = 0.7272727272727273\n",
      "Precision in 'XGB' = 0.6153846153846154\n",
      "F1 Score in 'XGB' = 0.6666666666666667\n"
     ]
    }
   ],
   "source": [
    "model3 = train_model(features_train3, train_y, model_name='XGB', validation=(features_val3, val_y))\n",
    "prob3 = model3.predict_proba(features_val3)"
   ]
  },
  {
   "cell_type": "code",
   "execution_count": 477,
   "metadata": {},
   "outputs": [],
   "source": [
    "prob1 = model1.predict_proba(features_val1)\n",
    "prob2 = model2.predict_proba(features_val2)\n",
    "prob3 = model3.predict_proba(features_val3)\n",
    "prob4 = model4.predict_proba(features_val)\n",
    "#prob5 = model5.score(features_val, )\n",
    "prob6 = model6.predict_proba(features_val)"
   ]
  },
  {
   "cell_type": "code",
   "execution_count": 478,
   "metadata": {},
   "outputs": [],
   "source": [
    "prob = (prob1 + prob2 + prob3 + prob4 + prob6) / 5\n",
    "y_hat = np.argmax(prob, axis=1)"
   ]
  },
  {
   "cell_type": "code",
   "execution_count": 479,
   "metadata": {},
   "outputs": [
    {
     "data": {
      "text/plain": [
       "0.5961538461538461"
      ]
     },
     "execution_count": 479,
     "metadata": {},
     "output_type": "execute_result"
    }
   ],
   "source": [
    "metrics.accuracy_score(val_y, y_hat)"
   ]
  },
  {
   "cell_type": "code",
   "execution_count": 480,
   "metadata": {},
   "outputs": [],
   "source": [
    "# y_hat = model.predict(features_val)"
   ]
  },
  {
   "cell_type": "code",
   "execution_count": 481,
   "metadata": {},
   "outputs": [],
   "source": [
    "cm = MetricTools.confusion_matrix(val_y, y_hat, 2)"
   ]
  },
  {
   "cell_type": "code",
   "execution_count": 482,
   "metadata": {},
   "outputs": [
    {
     "data": {
      "image/png": "[encoded data removed]",
      "text/plain": [
       "<Figure size 504x504 with 2 Axes>"
      ]
     },
     "metadata": {
      "needs_background": "light"
     },
     "output_type": "display_data"
    }
   ],
   "source": [
    "PlotTools.confusion_matrix(cm, list(range(2)))"
   ]
  },
  {
   "cell_type": "code",
   "execution_count": 483,
   "metadata": {},
   "outputs": [
    {
     "data": {
      "image/png": "[encoded data removed]",
      "text/plain": [
       "<Figure size 504x504 with 2 Axes>"
      ]
     },
     "metadata": {
      "needs_background": "light"
     },
     "output_type": "display_data"
    }
   ],
   "source": [
    "PlotTools.confusion_matrix(cm, list(range(2)))"
   ]
  },
  {
   "cell_type": "code",
   "execution_count": null,
   "metadata": {},
   "outputs": [],
   "source": []
  },
  {
   "cell_type": "code",
   "execution_count": null,
   "metadata": {},
   "outputs": [],
   "source": []
  },
  {
   "cell_type": "code",
   "execution_count": null,
   "metadata": {},
   "outputs": [
    {
     "name": "stderr",
     "output_type": "stream",
     "text": [
      "Using Theano backend.\n",
      "WARNING (theano.configdefaults): g++ not available, if using conda: `conda install m2w64-toolchain`\n",
      "c:\\users\\toorr\\appdata\\local\\programs\\python\\python37\\lib\\site-packages\\theano\\configdefaults.py:560: UserWarning: DeprecationWarning: there is no c++ compiler.This is deprecated and with Theano 0.11 a c++ compiler will be mandatory\n",
      "  warnings.warn(\"DeprecationWarning: there is no c++ compiler.\"\n",
      "WARNING (theano.configdefaults): g++ not detected ! Theano will be unable to execute optimized C-implementations (for both CPU and GPU) and will default to Python implementations. Performance will be severely degraded. To remove this warning, set Theano flags cxx to an empty string.\n",
      "WARNING (theano.tensor.blas): Using NumPy C-API based implementation for BLAS functions.\n"
     ]
    }
   ],
   "source": [
    "from keras.applications import ResNet50\n",
    "resnet_model=ResNet50(weights='imagenet', include_top=False, input_shape=(64, 64, 3))\n",
    "\n",
    "model_aug=Sequential()\n",
    "model_aug.add(resnet_model)\n",
    "\n",
    "top_model=Sequential()\n",
    "top_model.add(Flatten(input_shape=(2, 2, 2048)))\n",
    "\n",
    "top_model.add(Dense(64, activation='relu'))\n",
    "# model_aug.add(Dropout(0.2))\n",
    "\n",
    "top_model.add(Dense(1, activation='sigmoid'))\n",
    "\n",
    "model_aug.add(top_model)\n",
    "\n",
    "for layer in model_aug.layers[0].layers[:171]:\n",
    "    layer.trainable=False"
   ]
  },
  {
   "cell_type": "code",
   "execution_count": null,
   "metadata": {},
   "outputs": [],
   "source": [
    "model_aug.load_weights('k64 binary 25percent stride8/fine_tuned_model_resnet_64_adam_weights.h5')\n",
    "\n",
    "model_aug.compile(loss='binary_crossentropy', optimizer=keras.optimizers.Adam(lr=1e-3), metrics=['accuracy'])"
   ]
  },
  {
   "cell_type": "code",
   "execution_count": null,
   "metadata": {},
   "outputs": [],
   "source": [
    "model_aug.evaluate(x_test, y_test, verbose=0)"
   ]
  },
  {
   "cell_type": "code",
   "execution_count": null,
   "metadata": {},
   "outputs": [],
   "source": [
    "y_pred = model_aug.predict_classes(x_test)"
   ]
  },
  {
   "cell_type": "code",
   "execution_count": null,
   "metadata": {},
   "outputs": [],
   "source": [
    "plot_confusion_matrix(y_test, y_pred)"
   ]
  },
  {
   "cell_type": "code",
   "execution_count": null,
   "metadata": {},
   "outputs": [],
   "source": []
  },
  {
   "cell_type": "code",
   "execution_count": null,
   "metadata": {},
   "outputs": [],
   "source": []
  }
 ],
 "metadata": {
  "kernelspec": {
   "display_name": "Python 3",
   "language": "python",
   "name": "python3"
  },
  "language_info": {
   "codemirror_mode": {
    "name": "ipython",
    "version": 3
   },
   "file_extension": ".py",
   "mimetype": "text/x-python",
   "name": "python",
   "nbconvert_exporter": "python",
   "pygments_lexer": "ipython3",
   "version": "3.7.7"
  }
 },
 "nbformat": 4,
 "nbformat_minor": 2
}
